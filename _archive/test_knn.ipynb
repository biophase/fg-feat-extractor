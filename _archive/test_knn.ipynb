{
 "cells": [
  {
   "cell_type": "code",
   "execution_count": 2,
   "metadata": {},
   "outputs": [],
   "source": [
    "import numpy as np\n",
    "from plyfile import PlyData, PlyElement\n",
    "import os\n",
    "import pandas as pd\n",
    "\n",
    "fp = \"/media/hristo/sharedData1/00_Projects/24-10-26_SPP_PCS/02_Datasets/FWF_Aachen_labeled/2024-03-22_FW_Koenigshuegel.FwfProj/labeled/2024-03-22_FW_Koenigshuegel_pointcloud.ply\"\n",
    "pcd = pd.DataFrame.from_dict(PlyData.read(fp).elements[0].data)\n",
    "xyz = pcd[['x','y','z']].to_numpy()\n"
   ]
  },
  {
   "cell_type": "code",
   "execution_count": 3,
   "metadata": {},
   "outputs": [],
   "source": [
    "import numpy as np\n",
    "from scipy.spatial import KDTree\n",
    "\n",
    "def calculate_normals(points, k=20):\n",
    "    # Create a KDTree for the points\n",
    "    tree = KDTree(points)\n",
    "    \n",
    "    normals = np.zeros_like(points)  # Array to store the normals\n",
    "    \n",
    "    for i, point in enumerate(points):\n",
    "        # Find the k-nearest neighbors of the point\n",
    "        distances, indices = tree.query(point, k=k+1)  # k+1 because the point itself is included\n",
    "        neighbors = points[indices[1:]]  # Exclude the point itself\n",
    "        \n",
    "        # Compute the covariance matrix of the neighbors\n",
    "        cov_matrix = np.cov(neighbors - point, rowvar=False)\n",
    "        \n",
    "        # Compute eigenvalues and eigenvectors\n",
    "        eigenvalues, eigenvectors = np.linalg.eigh(cov_matrix)\n",
    "        \n",
    "        # The normal is the eigenvector corresponding to the smallest eigenvalue\n",
    "        normal = eigenvectors[:, 0]\n",
    "        normals[i] = normal\n",
    "    \n",
    "    return normals\n",
    "\n",
    "# Example usage\n",
    "points = np.random.rand(1000, 3)  # Example point cloud with 1000 points\n",
    "normals = calculate_normals(points, k=20)\n"
   ]
  },
  {
   "cell_type": "code",
   "execution_count": 26,
   "metadata": {},
   "outputs": [],
   "source": [
    "kd_tree = KDTree(xyz)"
   ]
  },
  {
   "cell_type": "code",
   "execution_count": 27,
   "metadata": {},
   "outputs": [],
   "source": [
    "neibs = kd_tree.query(xyz,20)"
   ]
  },
  {
   "cell_type": "code",
   "execution_count": 18,
   "metadata": {},
   "outputs": [],
   "source": [
    "import numpy as np\n",
    "from scipy.spatial import KDTree\n",
    "\n",
    "def calculate_normals_vectorized_v1(points, k=20):\n",
    "    # Create a KDTree for efficient nearest-neighbor search\n",
    "    tree = KDTree(points)\n",
    "    \n",
    "    # Find k-nearest neighbors for all points\n",
    "    _, indices = tree.query(points, k=k+1)  # k+1 because the point itself is included\n",
    "    \n",
    "    # Gather neighbors for all points\n",
    "    neighbors = points[indices[:, 1:]]  # Exclude the point itself (Shape: (N, k, 3))\n",
    "    \n",
    "    # Compute the mean of neighbors\n",
    "    neighbors_mean = neighbors.mean(axis=1, keepdims=True)  # Shape: (N, 1, 3)\n",
    "    \n",
    "    # Center the neighbors by subtracting the mean\n",
    "    centered_neighbors = neighbors - neighbors_mean  # Shape: (N, k, 3)\n",
    "    \n",
    "    # Compute covariance matrices for all points\n",
    "    cov_matrices = np.einsum('nik,nij->nkj', centered_neighbors, centered_neighbors) / (k - 1)\n",
    "    \n",
    "    # Perform eigenvalue decomposition to get eigenvectors\n",
    "    eigenvalues, eigenvectors = np.linalg.eigh(cov_matrices)  # Shapes: (N, 3), (N, 3, 3)\n",
    "    \n",
    "    # Extract the normal vector (eigenvector corresponding to the smallest eigenvalue)\n",
    "    normals = eigenvectors[:, :, 0]  # Shape: (N, 3)\n",
    "    \n",
    "    return normals\n",
    "\n",
    "# # Example usage\n",
    "# points = np.random.rand(1500, 3)  # Example point cloud with 1266756 points\n",
    "# normals = calculate_normals_vectorized(points, k=20)\n",
    "\n",
    "# print(normals.shape)  # Should print (1266756, 3)\n"
   ]
  },
  {
   "cell_type": "code",
   "execution_count": 19,
   "metadata": {},
   "outputs": [],
   "source": [
    "import numpy as np\n",
    "from scipy.spatial import KDTree\n",
    "\n",
    "def calculate_normals_vectorized_v2(points, k=20):\n",
    "    # Create a KDTree for efficient nearest-neighbor search\n",
    "    tree = KDTree(points)\n",
    "\n",
    "    # Find k-nearest neighbors for all points\n",
    "    _, indices = tree.query(points, k=k+1)  # k+1 because the point itself is included\n",
    "\n",
    "    # Gather neighbors for all points\n",
    "    neighbors = points[indices[:, 1:]]  # Exclude the point itself (first neighbor)\n",
    "\n",
    "    # Compute the mean of neighbors (for covariance computation)\n",
    "    neighbors_mean = neighbors.mean(axis=1, keepdims=True)  # Shape: (N, 1, 3)\n",
    "\n",
    "    # Center the neighbors by subtracting the mean\n",
    "    centered_neighbors = neighbors - neighbors_mean  # Shape: (N, k, 3)\n",
    "\n",
    "    # Compute covariance matrices for all points\n",
    "    cov_matrices = np.einsum('nki,nkj->nij', centered_neighbors, centered_neighbors) / (k - 1)\n",
    "    # Alternatively, you can use np.matmul:\n",
    "    # cov_matrices = np.matmul(centered_neighbors.transpose(0, 2, 1), centered_neighbors) / (k - 1)\n",
    "\n",
    "    # Perform eigenvalue decomposition to get eigenvectors\n",
    "    eigenvalues, eigenvectors = np.linalg.eigh(cov_matrices)  # Shapes: (N, 3), (N, 3, 3)\n",
    "\n",
    "    # The normal is the eigenvector corresponding to the smallest eigenvalue\n",
    "    normals = eigenvectors[:, :, 0]  # Shape: (N, 3)\n",
    "\n",
    "    # Ensure normals are unit vectors\n",
    "    normals = normals / np.linalg.norm(normals, axis=1, keepdims=True)\n",
    "\n",
    "    return normals\n",
    "\n",
    "# # Example usage\n",
    "# points = np.random.rand(1500, 3)  # Example point cloud with 1266756 points\n",
    "# normals = calculate_normals_vectorized(points, k=20)\n",
    "\n",
    "# print(normals.shape)  # Should print (1266756, 3)\n"
   ]
  },
  {
   "cell_type": "code",
   "execution_count": 13,
   "metadata": {},
   "outputs": [
    {
     "data": {
      "text/plain": [
       "(1266756, 20, 3)"
      ]
     },
     "execution_count": 13,
     "metadata": {},
     "output_type": "execute_result"
    }
   ],
   "source": [
    "centered_neighbors.shape"
   ]
  },
  {
   "cell_type": "code",
   "execution_count": 11,
   "metadata": {},
   "outputs": [],
   "source": [
    "points = xyz\n",
    "k = 20\n",
    "# Create a KDTree for efficient nearest-neighbor search\n",
    "tree = KDTree(points)\n",
    "\n",
    "# Find k-nearest neighbors for all points\n",
    "_, indices = tree.query(points, k=k+1)  # k+1 because the point itself is included\n",
    "\n",
    "# Gather neighbors for all points\n",
    "neighbors = points[indices[:, 1:]]  # Exclude the point itself (first neighbor)\n",
    "\n",
    "# Compute the mean of neighbors (for covariance computation)\n",
    "neighbors_mean = neighbors.mean(axis=1, keepdims=True)  # Shape: (N, 1, 3)\n",
    "\n",
    "# Center the neighbors by subtracting the mean\n",
    "centered_neighbors = neighbors - neighbors_mean  # Shape: (N, k, 3)\n",
    "\n",
    "# Compute covariance matrices for all points\n",
    "cov_matrices = np.einsum('nij,nkj->nik', centered_neighbors, centered_neighbors) / (k - 1)\n",
    "\n",
    "# Perform eigenvalue decomposition to get eigenvectors\n",
    "eigenvalues, eigenvectors = np.linalg.eigh(cov_matrices)  # Shape: (N, 3), (N, 3, 3)\n",
    "\n",
    "# The normal is the eigenvector corresponding to the smallest eigenvalue\n",
    "normals = eigenvectors[:, :, 0]  # Take the first eigenvector (smallest eigenvalue)\n",
    "\n"
   ]
  },
  {
   "cell_type": "code",
   "execution_count": 4,
   "metadata": {},
   "outputs": [],
   "source": [
    "norms = calculate_normals(xyz)"
   ]
  },
  {
   "cell_type": "code",
   "execution_count": 22,
   "metadata": {},
   "outputs": [],
   "source": [
    "norms = calculate_normals_vectorized_v1(xyz)"
   ]
  },
  {
   "cell_type": "code",
   "execution_count": 10,
   "metadata": {},
   "outputs": [
    {
     "data": {
      "text/plain": [
       "(1266756, 20)"
      ]
     },
     "execution_count": 10,
     "metadata": {},
     "output_type": "execute_result"
    }
   ],
   "source": [
    "norms.shape"
   ]
  },
  {
   "cell_type": "code",
   "execution_count": 23,
   "metadata": {},
   "outputs": [],
   "source": [
    "npcd = PlyData([PlyElement.describe(pd.DataFrame(np.concatenate([xyz, norms],axis=1),columns=['x','y','z','nx','ny','nz']).to_records(index=False),'vertex')]).write(\"./_temp/newimplement_knn_vectorized_v1.ply\")"
   ]
  }
 ],
 "metadata": {
  "kernelspec": {
   "display_name": "base",
   "language": "python",
   "name": "python3"
  },
  "language_info": {
   "codemirror_mode": {
    "name": "ipython",
    "version": 3
   },
   "file_extension": ".py",
   "mimetype": "text/x-python",
   "name": "python",
   "nbconvert_exporter": "python",
   "pygments_lexer": "ipython3",
   "version": "3.12.7"
  }
 },
 "nbformat": 4,
 "nbformat_minor": 2
}
