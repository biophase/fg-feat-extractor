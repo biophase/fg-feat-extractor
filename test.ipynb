{
 "cells": [
  {
   "cell_type": "code",
   "execution_count": 1,
   "metadata": {},
   "outputs": [],
   "source": [
    "from data.fwf_dataset import FwfDataset\n",
    "from models.fgf import FGFeatNetwork\n",
    "from utils.metrics import get_multilevel_metrics, print_metrics, combine_metrics_list, EarlyStopping, simple_metrics\n",
    "from utils.general import generate_timestamp\n",
    "\n",
    "from argparse import ArgumentParser\n",
    "from tqdm import tqdm\n",
    "from time import time\n",
    "import numpy as np\n",
    "import json\n",
    "import os\n",
    "\n",
    "import torch\n",
    "from torch.utils.data import DataLoader\n",
    "from torch.optim import Adam\n",
    "from torch.nn import CrossEntropyLoss\n",
    "from omegaconf import OmegaConf\n",
    "\n",
    "# metrics computation alternatives\n",
    "from sklearn.metrics import jaccard_score\n",
    "from torchmetrics.segmentation import MeanIoU\n",
    "\n",
    "\n",
    "\n",
    "\n"
   ]
  },
  {
   "cell_type": "code",
   "execution_count": 2,
   "metadata": {},
   "outputs": [
    {
     "name": "stdout",
     "output_type": "stream",
     "text": [
      "experiment:\n",
      "  title_suffix: v005\n",
      "  description: Is geometric information relevant (compare with v003 )\n",
      "general:\n",
      "  device: cuda\n",
      "  batch_size: 1024\n",
      "  weight_decay: 0.0005\n",
      "  max_epochs: 25\n",
      "  early_stopping_minDelta: 0.01\n",
      "  num_workers: 4\n",
      "data:\n",
      "  dataset_root: ../../02_Datasets/FWF_Subsampled/0.01_simple/\n",
      "  split: ./config/default_split.yaml\n",
      "  preprocessing:\n",
      "    _transformsTraining_:\n",
      "      xyz:\n",
      "        TransCenterXyz: {}\n",
      "        TransZRotation: {}\n",
      "        TransScaling: {}\n",
      "        TransGaussianNoise:\n",
      "          mean: 0\n",
      "          std: 0.002\n",
      "      rgb:\n",
      "        TransGaussianNoise:\n",
      "          mean: 0\n",
      "          std: 0.02\n",
      "        TransFeatureDropout:\n",
      "          dropout_prob: 0.1\n",
      "      wfm:\n",
      "        TransSignalScaling: {}\n",
      "      normals:\n",
      "        TransGaussianNoise:\n",
      "          mean: 0\n",
      "          std: 0.05\n",
      "      incAngles:\n",
      "        TransGaussianNoise:\n",
      "          mean: 0\n",
      "          std: 0.05\n",
      "        TransStandardize:\n",
      "          mean: 2.07\n",
      "          std: 0.38\n",
      "      distanceFromScanner:\n",
      "        TransGaussianNoise:\n",
      "          mean: 12.13\n",
      "          std: 12.2\n",
      "    _transformsValidation_:\n",
      "      xyz:\n",
      "        TransCenterXyz: {}\n",
      "      incAngles:\n",
      "        TransStandardize:\n",
      "          mean: 2.07\n",
      "          std: 0.38\n",
      "      distanceFromScanner:\n",
      "        TransStandardize:\n",
      "          mean: 12.13\n",
      "          std: 12.2\n",
      "    subsampling: null\n",
      "  scalar_input_fields:\n",
      "  - xyz\n",
      "  - rgb\n",
      "  - riegl_feats\n",
      "  - geom_feats\n",
      "  - normals\n",
      "  - incAngles\n",
      "  - distanceFromScanner\n",
      "  fw_input_field: true\n",
      "  label_names:\n",
      "  - labels_3\n",
      "  query_grid_size: 0.15\n",
      "  subsample_on_gpu: true\n",
      "  num_neib_normalsComputation: 20\n",
      "  num_neib_featureExtraction: 128\n",
      "  _trainProjects_:\n",
      "  - proj_name: 2024-03-22_FW_Koenigshuegel.FwfProj\n",
      "  - proj_name: 2024-04-05_FW_Westbahnhof_02.FwfProj\n",
      "  - proj_name: 2024-04-05_FW_Westbahnhof_03.FwfProj\n",
      "  - proj_name: 2024-04-05_FW_Westbahnhof_04.FwfProj\n",
      "  - proj_name: 2024-04-05_FW_Westbahnhof_05.FwfProj\n",
      "  - proj_name: 2024-05-10_FW_RWTH_Zentrum_01.FwfProj\n",
      "  - proj_name: 2024-07-31_FW_Bruecke_Koenigstr.FwfProj\n",
      "    bboxes:\n",
      "    - 0\n",
      "    - 2\n",
      "  - proj_name: 2024-08-02_FW_Bruecke_A44_VerlautenheidenerStr.FwfProj\n",
      "  - proj_name: 2024-08-02_FW_Bruecke_Deltourserb.FwfProj\n",
      "  - proj_name: 2024-08-02_FW_Bruecke_Kasinostrasse.FwfProj\n",
      "    bboxes:\n",
      "    - 1\n",
      "  - proj_name: 2024-08-02_FW_Bruecke_RotheErde.FwfProj\n",
      "  - proj_name: 2024-08-02_FW_Bruecke_Rottstrasse.FwfProj\n",
      "  _valProjects_:\n",
      "  - proj_name: 2023-08-28_FW_EingangBauing.FwfProj\n",
      "  - proj_name: 2024-04-05_FW_Westbahnhof_01.FwfProj\n",
      "  - proj_name: 2024-07-31_FW_Bruecke_Koenigstr.FwfProj\n",
      "    bboxes:\n",
      "    - 1\n",
      "  - proj_name: 2024-08-02_FW_Bruecke_Kasinostrasse.FwfProj\n",
      "    bboxes:\n",
      "    - 0\n",
      "  - proj_name: 2024-07-31_FW_Bruecke_Turmstr.FwfProj\n",
      "  _testProjects_:\n",
      "  - proj_name: 2023-08-28_FW_EingangBauing.FwfProj\n",
      "  - proj_name: 2024-04-05_FW_Westbahnhof_01.FwfProj\n",
      "  - proj_name: 2024-07-31_FW_Bruecke_Koenigstr.FwfProj\n",
      "    bboxes:\n",
      "    - 1\n",
      "  - proj_name: 2024-08-02_FW_Bruecke_Kasinostrasse.FwfProj\n",
      "    bboxes:\n",
      "    - 0\n",
      "  - proj_name: 2024-07-31_FW_Bruecke_Turmstr.FwfProj\n",
      "  label_schema:\n",
      "    labels_0:\n",
      "      manMade: 0\n",
      "      natural: 1\n",
      "      scanArtefact: 2\n",
      "    labels_1:\n",
      "      _unspecified: 0\n",
      "      building: 1\n",
      "      movingObject: 2\n",
      "      naturalGround: 3\n",
      "      sealedSurface: 4\n",
      "      streetFurniture: 5\n",
      "      vegetation: 6\n",
      "      vehicle: 7\n",
      "    labels_2:\n",
      "      _unspecified: 0\n",
      "      bicycle: 1\n",
      "      car: 2\n",
      "      electricalAppliance: 3\n",
      "      facadeSurface: 4\n",
      "      fence: 5\n",
      "      frameElement: 6\n",
      "      kerbStone: 7\n",
      "      naturalGround: 8\n",
      "      nonTiledPaving: 9\n",
      "      pipeLike: 10\n",
      "      scooter: 11\n",
      "      shaft: 12\n",
      "      sign: 13\n",
      "      stair: 14\n",
      "      tiledPaving: 15\n",
      "      trashCan: 16\n",
      "      vegetation: 17\n",
      "    labels_3:\n",
      "      _unspecified: 0\n",
      "      asphalt: 1\n",
      "      brick: 2\n",
      "      cable: 3\n",
      "      concrete: 4\n",
      "      marking: 5\n",
      "      mesh: 6\n",
      "      metal: 7\n",
      "      naturalStone: 8\n",
      "      poster: 9\n",
      "      treeTrunk: 10\n",
      "      vegetation: 11\n",
      "model:\n",
      "  use_global_constraint: false\n",
      "  dropout_prob: 0.3\n",
      "  ignore_waveform: false\n",
      "  ignore_neibors: false\n",
      "  embedding_size: 128\n",
      "testing:\n",
      "  query_grid_size: 0.03\n",
      "  batch_size: 1024\n",
      "\n"
     ]
    }
   ],
   "source": [
    "\n",
    "args_test_grid_size = 0.8\n",
    "\n",
    "args_exp_dir = './exp/2024-12-16_16-04-25_v006'\n",
    "args_model_version = 'latest_model.pth'\n",
    "args_return_full_probs = True\n",
    "args_return_embedding = True\n",
    "\n",
    "\n",
    "\n",
    "output_dir = os.path.join(args_exp_dir,'test')\n",
    "\n",
    "# build config\n",
    "\n",
    "cfg = OmegaConf.load(os.path.join(args_exp_dir,'config.yaml'))\n",
    "with open(os.path.join(cfg.data.dataset_root, 'class_dict.json'),'r') as f:\n",
    "    cfg = OmegaConf.merge(cfg, OmegaConf.create({'data':{'label_schema':json.load(f)}}))\n",
    "\n",
    "if 'embedding_size' not in cfg.model.keys():\n",
    "    cfg.model.embedding_size = 128\n",
    "print(OmegaConf.to_yaml(cfg))"
   ]
  },
  {
   "cell_type": "code",
   "execution_count": null,
   "metadata": {},
   "outputs": [],
   "source": []
  },
  {
   "cell_type": "code",
   "execution_count": 15,
   "metadata": {},
   "outputs": [
    {
     "name": "stdout",
     "output_type": "stream",
     "text": [
      "Loading '2023-08-28_FW_EingangBauing.FwfProj'; Bounding box IDs = default\n",
      "2023-08-28_FW_EingangBauing.FwfProj::defaultBbox\n",
      "Computing neibors for '2023-08-28_FW_EingangBauing.FwfProj::defaultBbox' @ k=20\n",
      "Computing normals and geom_feats for '2023-08-28_FW_EingangBauing.FwfProj::defaultBbox' @ k=20\n",
      "Computing incidence angles for '2023-08-28_FW_EingangBauing.FwfProj::defaultBbox'\n",
      "Computing neibors for '2023-08-28_FW_EingangBauing.FwfProj::defaultBbox' @ k=128\n"
     ]
    },
    {
     "name": "stderr",
     "output_type": "stream",
     "text": [
      "100%|██████████| 23/23 [00:03<00:00,  7.38it/s]\n"
     ]
    },
    {
     "name": "stdout",
     "output_type": "stream",
     "text": [
      "Loading '2024-04-05_FW_Westbahnhof_01.FwfProj'; Bounding box IDs = default\n",
      "2024-04-05_FW_Westbahnhof_01.FwfProj::defaultBbox\n",
      "Computing neibors for '2024-04-05_FW_Westbahnhof_01.FwfProj::defaultBbox' @ k=20\n",
      "Computing normals and geom_feats for '2024-04-05_FW_Westbahnhof_01.FwfProj::defaultBbox' @ k=20\n",
      "Computing incidence angles for '2024-04-05_FW_Westbahnhof_01.FwfProj::defaultBbox'\n",
      "Computing neibors for '2024-04-05_FW_Westbahnhof_01.FwfProj::defaultBbox' @ k=128\n"
     ]
    },
    {
     "name": "stderr",
     "output_type": "stream",
     "text": [
      "100%|██████████| 1/1 [00:00<00:00,  2.12it/s]\n"
     ]
    },
    {
     "name": "stdout",
     "output_type": "stream",
     "text": [
      "Loading '2024-07-31_FW_Bruecke_Koenigstr.FwfProj'; Bounding box IDs = [1]\n",
      "2024-07-31_FW_Bruecke_Koenigstr.FwfProj::bboxId=001\n",
      "Computing neibors for '2024-07-31_FW_Bruecke_Koenigstr.FwfProj::bboxId=001' @ k=20\n",
      "Computing normals and geom_feats for '2024-07-31_FW_Bruecke_Koenigstr.FwfProj::bboxId=001' @ k=20\n",
      "Computing incidence angles for '2024-07-31_FW_Bruecke_Koenigstr.FwfProj::bboxId=001'\n",
      "Computing neibors for '2024-07-31_FW_Bruecke_Koenigstr.FwfProj::bboxId=001' @ k=128\n"
     ]
    },
    {
     "name": "stderr",
     "output_type": "stream",
     "text": [
      "100%|██████████| 4/4 [00:01<00:00,  3.83it/s]\n"
     ]
    },
    {
     "name": "stdout",
     "output_type": "stream",
     "text": [
      "Loading '2024-08-02_FW_Bruecke_Kasinostrasse.FwfProj'; Bounding box IDs = [0]\n",
      "2024-08-02_FW_Bruecke_Kasinostrasse.FwfProj::bboxId=000\n",
      "Computing neibors for '2024-08-02_FW_Bruecke_Kasinostrasse.FwfProj::bboxId=000' @ k=20\n",
      "Computing normals and geom_feats for '2024-08-02_FW_Bruecke_Kasinostrasse.FwfProj::bboxId=000' @ k=20\n",
      "Computing incidence angles for '2024-08-02_FW_Bruecke_Kasinostrasse.FwfProj::bboxId=000'\n",
      "Computing neibors for '2024-08-02_FW_Bruecke_Kasinostrasse.FwfProj::bboxId=000' @ k=128\n"
     ]
    },
    {
     "name": "stderr",
     "output_type": "stream",
     "text": [
      "100%|██████████| 4/4 [00:01<00:00,  3.74it/s]\n"
     ]
    },
    {
     "name": "stdout",
     "output_type": "stream",
     "text": [
      "Loading '2024-07-31_FW_Bruecke_Turmstr.FwfProj'; Bounding box IDs = default\n",
      "2024-07-31_FW_Bruecke_Turmstr.FwfProj::defaultBbox\n",
      "Computing neibors for '2024-07-31_FW_Bruecke_Turmstr.FwfProj::defaultBbox' @ k=20\n",
      "Computing normals and geom_feats for '2024-07-31_FW_Bruecke_Turmstr.FwfProj::defaultBbox' @ k=20\n",
      "Computing incidence angles for '2024-07-31_FW_Bruecke_Turmstr.FwfProj::defaultBbox'\n",
      "Computing neibors for '2024-07-31_FW_Bruecke_Turmstr.FwfProj::defaultBbox' @ k=128\n"
     ]
    },
    {
     "name": "stderr",
     "output_type": "stream",
     "text": [
      "100%|██████████| 9/9 [00:01<00:00,  5.85it/s]\n"
     ]
    }
   ],
   "source": [
    "import pandas as pd\n",
    "from plyfile import PlyData, PlyElement\n",
    "from torch.nn.functional import softmax\n",
    "import pickle\n",
    "\n",
    "report = {} # project, label_level, overall, classwise\n",
    "\n",
    "for test_project in cfg.data._testProjects_:\n",
    "    test_ds = FwfDataset(cfg, cfg.data.preprocessing._transformsValidation_, [test_project],\n",
    "                         return_resiIdx=True, return_projIdx=True)\n",
    "    proj_name = test_ds.projects[0]['proj_name']\n",
    "    print(proj_name)\n",
    "    \n",
    "    test_ds.subsample_grid(args_test_grid_size, save_inv=True)\n",
    "    test_ds.compute_neibors_knn(k=cfg.data.num_neib_normalsComputation)\n",
    "    test_ds.compute_normals_knn()\n",
    "    test_ds.compute_incAngles()\n",
    "    test_ds.compute_neibors_knn(k=cfg.data.num_neib_featureExtraction, verbose=True)\n",
    "    model = FGFeatNetwork(cfg=cfg,\n",
    "        num_input_feats = test_ds[0]['features_neibors'].shape[-1],\n",
    "        ).to(device=cfg.general.device)\n",
    "    model.load_state_dict(torch.load(os.path.join(args_exp_dir,args_model_version), weights_only=True))\n",
    "    \n",
    "    test_dl = DataLoader(test_ds, batch_size=cfg.testing.batch_size, num_workers=cfg.general.num_workers)\n",
    "\n",
    "    \n",
    "\n",
    "    # initiate containers\n",
    "    all_preds = [dict() for p in test_ds.projects]\n",
    "\n",
    "    if args_return_full_probs:\n",
    "        all_probs = [dict() for p in test_ds.projects]\n",
    "\n",
    "\n",
    "    for pi, proj in enumerate(test_ds.projects):\n",
    "        for label_name in test_ds.label_names:\n",
    "\n",
    "            all_preds[pi][label_name] = torch.ones(size = (test_ds.projects[pi]['xyz_sub'].shape[0],)).to(\n",
    "                device=cfg.general.device,dtype=torch.int64)*-1\n",
    "            if args_return_full_probs:\n",
    "                all_probs[pi][label_name] = torch.ones(size = (test_ds.projects[pi]['xyz_sub'].shape[0],\n",
    "                    len(cfg.data.label_schema[label_name]))).to(device=cfg.general.device,dtype=torch.float32)*-1\n",
    "\n",
    "    if args_return_embedding:                \n",
    "        embeddings = list()\n",
    "        for pi, proj in enumerate(test_ds.projects):\n",
    "            embeddings.append(torch.zeros(size=(test_ds.projects[pi]['xyz_sub'].shape[0],cfg.model.embedding_size)).to(device=cfg.general.device))\n",
    "\n",
    "    # run test loop\n",
    "    with torch.no_grad():\n",
    "        for batch in tqdm(test_dl):\n",
    "            # put batch on device\n",
    "            for k, v in batch.items():\n",
    "                batch[k] = v.to(device=cfg.general.device)\n",
    "            if args_return_embedding:\n",
    "                out = model(batch, return_embedding=True)\n",
    "            else:\n",
    "                out = model(batch)\n",
    "            probs = dict()\n",
    "            for k,v in [(k,v) for k,v in out.items() if k != 'embedding']:\n",
    "                probs[k] = softmax(v,dim=-1)\n",
    "                preds = torch.argmax(probs[k], dim=-1)\n",
    "                all_preds[0][k][batch['residual_idx']] = preds # assume dataset has one project inside !\n",
    "\n",
    "                all_probs[0][k][batch['residual_idx']] = probs[k]\n",
    "                if args_return_embedding:\n",
    "                    embeddings[0][batch['residual_idx']] = out['embedding']\n",
    "        # convert to numpy and upsample\n",
    "        for k in cfg.data.label_names:\n",
    "            all_preds[0][k] = all_preds[0][k].cpu().detach().numpy()\n",
    "            all_preds[0][k] = all_preds[0][k][test_ds.projects[0]['sub_inv']]\n",
    "\n",
    "            all_probs[0][k] = all_probs[0][k].cpu().detach().numpy()\n",
    "            all_probs[0][k] = all_probs[0][k][test_ds.projects[0]['sub_inv']]\n",
    "\n",
    "    \n",
    "\n",
    "    # map dataset field names to single columns\n",
    "    column_names_from_fields = {\n",
    "        'xyz' : ['x','y','z'], \n",
    "        'rgb' : ['Red', 'Green','Blue'], \n",
    "        'riegl_feats' : ['riegl_reflectance','riegl_amplitude', 'riegl_deviation', 'riegl_targetIndex','riegl_targetCount'], \n",
    "        'geom_feats' : ['linearity','planarity','sphericity','omnivariance','anisotropy','eigenentropy',], \n",
    "        'normals' : ['nx','ny','nz'], \n",
    "        'incAngles' : ['incAngles'], \n",
    "        'distanceFromScanner' : ['distanceFromScanner'], \n",
    "    }\n",
    "    # undo normalization\n",
    "    test_ds.projects[0]['rgb'] *= np.array([[0.21558372, 0.23351644, 0.21213871]])\n",
    "    test_ds.projects[0]['rgb'] += np.array([[0.29689665, 0.3428666,  0.190237]])\n",
    "    test_ds.projects[0]['riegl_feats'] *= np.array([[  2.32590898, 2.98518547, 929.71399545, 1., 0.22651793]])\n",
    "    test_ds.projects[0]['riegl_feats'] += np.array([[-6.90191949, 25.16398933, 26.45952891,  1., 1.03636612]])\n",
    "    out_data = [test_ds.projects[0][k] for k in cfg.data.scalar_input_fields]\n",
    "    out_column_names = [s for ss in [column_names_from_fields[f] for f in cfg.data.scalar_input_fields] for s in ss]\n",
    "    \n",
    "    # get ground_truth labels\n",
    "    gt_names = [f\"gt_{g}\" for g in test_ds.label_names]\n",
    "    gt_labels = test_ds.projects[0]['labels']\n",
    "    out_data.append(gt_labels)\n",
    "    out_column_names += gt_names\n",
    "    \n",
    "    # predictions\n",
    "    pr_names = [f\"pr_{g}\" for g in test_ds.label_names]\n",
    "    pr_labels = [all_preds[0][g][:,None] for g in test_ds.label_names]\n",
    "    out_data += pr_labels\n",
    "    out_column_names += pr_names\n",
    "\n",
    "    # probabilities\n",
    "    if args_return_full_probs:\n",
    "        prob_names = [i for ii in [cfg.data.label_schema[level] for level in test_ds.label_names] for i in ii] # FIXME: Only works for single levels at a time\n",
    "        prob_data = [all_probs[0][g] for g in test_ds.label_names]\n",
    "        out_data += prob_data\n",
    "        out_column_names += prob_names\n",
    "\n",
    "\n",
    "    # break\n",
    "    pcd = pd.DataFrame(np.concatenate(out_data,axis=-1), columns=out_column_names)\n",
    "    os.makedirs(output_dir, exist_ok=True)\n",
    "    PlyData([PlyElement.describe(pcd.to_records(index=False),'vertex')]).write(os.path.join(output_dir,proj_name.replace(\"::\",\"--\")+\".ply\"))\n",
    "\n",
    "    # save embeddings + inverse indices\n",
    "    # TODO:\n",
    "    \n",
    "    \n",
    "    # metrics\n",
    "    # FIXME: shapes, indices, etc. will break for more projects and or more than one label levels\n",
    "    report[proj_name] = dict()\n",
    "    for li, l in enumerate(test_ds.label_names):\n",
    "        metrics = simple_metrics(np.squeeze(gt_labels), np.squeeze(pr_labels), len(cfg.data.label_schema[l]))\n",
    "        report[proj_name][l] = metrics\n",
    "    \n",
    "    # overwrite report\n",
    "    with open(os.path.join(output_dir,'report.pkl'),'wb') as f:\n",
    "        pickle.dump(report,f)\n",
    "\n",
    "\n",
    "\n",
    "\n",
    "\n",
    "         \n",
    "        \n",
    "\n",
    "    \n"
   ]
  },
  {
   "cell_type": "code",
   "execution_count": 14,
   "metadata": {},
   "outputs": [],
   "source": []
  },
  {
   "cell_type": "code",
   "execution_count": 42,
   "metadata": {},
   "outputs": [
    {
     "data": {
      "text/plain": [
       "36"
      ]
     },
     "execution_count": 42,
     "metadata": {},
     "output_type": "execute_result"
    }
   ],
   "source": [
    "# # probs = pd.DataFrame(all_probs[0]['labels_3'], columns=cfg.data.label_schema['labels_3'].keys())\n",
    "\n",
    "\n",
    "\n",
    "# xyz = pd.DataFrame(np.concatenate([test_ds.projects[0]['xyz'], all_preds[0]['labels_3'][:,None]], axis=1), columns = ['x','y','z','preds_3'])\n",
    "# pcd = pd.concat([xyz,probs], axis=1)\n",
    "# os.makedirs(output_dir, exist_ok=True)\n",
    "# PlyData([PlyElement.describe(pcd.to_records(index=False),'vertex')]).write(os.path.join(output_dir,proj_name.replace(\"::\",\"--\")))\n",
    "\n",
    "# gt = test_ds.projects[0]['labels'][:,0]\n",
    "# pr = pcd['preds_3'].to_numpy().astype(np.uint8)\n",
    "# num_classes = len(cfg.data.label_schema['labels_3'])\n"
   ]
  },
  {
   "cell_type": "code",
   "execution_count": 67,
   "metadata": {},
   "outputs": [
    {
     "data": {
      "text/plain": [
       "(10117061,)"
      ]
     },
     "execution_count": 67,
     "metadata": {},
     "output_type": "execute_result"
    }
   ],
   "source": [
    "np.squeeze(pr_labels).shape"
   ]
  },
  {
   "cell_type": "code",
   "execution_count": 68,
   "metadata": {},
   "outputs": [
    {
     "data": {
      "text/plain": [
       "(10117061,)"
      ]
     },
     "execution_count": 68,
     "metadata": {},
     "output_type": "execute_result"
    }
   ],
   "source": [
    "np.squeeze(gt_labels).shape"
   ]
  },
  {
   "cell_type": "code",
   "execution_count": 11,
   "metadata": {},
   "outputs": [
    {
     "data": {
      "text/plain": [
       "{'iou': array([0.        , 0.21024685, 0.        ,        nan, 0.13517384,\n",
       "               nan, 0.01812636, 0.04055164, 0.        ,        nan,\n",
       "        0.        , 0.82774415]),\n",
       " 'pc_acc': array([0.        , 0.26621843, 0.        ,        nan, 0.15630175,\n",
       "               nan, 0.01846099, 0.04226558, 0.        , 0.        ,\n",
       "        0.        , 4.80531818]),\n",
       " 'miou': 0.1368714272153691,\n",
       " 'macc': 0.5288564938908277}"
      ]
     },
     "execution_count": 11,
     "metadata": {},
     "output_type": "execute_result"
    }
   ],
   "source": [
    "metrics"
   ]
  },
  {
   "cell_type": "code",
   "execution_count": 10,
   "metadata": {},
   "outputs": [],
   "source": []
  },
  {
   "cell_type": "code",
   "execution_count": 52,
   "metadata": {},
   "outputs": [
    {
     "ename": "KeyValidationError",
     "evalue": "Incompatible key type 'ListConfig'\n    full_key: \n    object_type=dict",
     "output_type": "error",
     "traceback": [
      "\u001b[0;31m---------------------------------------------------------------------------\u001b[0m",
      "\u001b[0;31mKeyValidationError\u001b[0m                        Traceback (most recent call last)",
      "Cell \u001b[0;32mIn[52], line 1\u001b[0m\n\u001b[0;32m----> 1\u001b[0m simple_metrics(gt_labels, pr_labels, \u001b[38;5;28mlen\u001b[39m(cfg\u001b[38;5;241m.\u001b[39mdata\u001b[38;5;241m.\u001b[39mlabel_schema[test_ds\u001b[38;5;241m.\u001b[39mlabel_names]))\n",
      "File \u001b[0;32m~/anaconda3/lib/python3.12/site-packages/omegaconf/dictconfig.py:375\u001b[0m, in \u001b[0;36mDictConfig.__getitem__\u001b[0;34m(self, key)\u001b[0m\n\u001b[1;32m    371\u001b[0m     \u001b[38;5;28mself\u001b[39m\u001b[38;5;241m.\u001b[39m_format_and_raise(\n\u001b[1;32m    372\u001b[0m         key\u001b[38;5;241m=\u001b[39mkey, value\u001b[38;5;241m=\u001b[39m\u001b[38;5;28;01mNone\u001b[39;00m, cause\u001b[38;5;241m=\u001b[39me, type_override\u001b[38;5;241m=\u001b[39mConfigKeyError\n\u001b[1;32m    373\u001b[0m     )\n\u001b[1;32m    374\u001b[0m \u001b[38;5;28;01mexcept\u001b[39;00m \u001b[38;5;167;01mException\u001b[39;00m \u001b[38;5;28;01mas\u001b[39;00m e:\n\u001b[0;32m--> 375\u001b[0m     \u001b[38;5;28mself\u001b[39m\u001b[38;5;241m.\u001b[39m_format_and_raise(key\u001b[38;5;241m=\u001b[39mkey, value\u001b[38;5;241m=\u001b[39m\u001b[38;5;28;01mNone\u001b[39;00m, cause\u001b[38;5;241m=\u001b[39me)\n",
      "File \u001b[0;32m~/anaconda3/lib/python3.12/site-packages/omegaconf/base.py:231\u001b[0m, in \u001b[0;36mNode._format_and_raise\u001b[0;34m(self, key, value, cause, msg, type_override)\u001b[0m\n\u001b[1;32m    223\u001b[0m \u001b[38;5;28;01mdef\u001b[39;00m \u001b[38;5;21m_format_and_raise\u001b[39m(\n\u001b[1;32m    224\u001b[0m     \u001b[38;5;28mself\u001b[39m,\n\u001b[1;32m    225\u001b[0m     key: Any,\n\u001b[0;32m   (...)\u001b[0m\n\u001b[1;32m    229\u001b[0m     type_override: Any \u001b[38;5;241m=\u001b[39m \u001b[38;5;28;01mNone\u001b[39;00m,\n\u001b[1;32m    230\u001b[0m ) \u001b[38;5;241m-\u001b[39m\u001b[38;5;241m>\u001b[39m \u001b[38;5;28;01mNone\u001b[39;00m:\n\u001b[0;32m--> 231\u001b[0m     format_and_raise(\n\u001b[1;32m    232\u001b[0m         node\u001b[38;5;241m=\u001b[39m\u001b[38;5;28mself\u001b[39m,\n\u001b[1;32m    233\u001b[0m         key\u001b[38;5;241m=\u001b[39mkey,\n\u001b[1;32m    234\u001b[0m         value\u001b[38;5;241m=\u001b[39mvalue,\n\u001b[1;32m    235\u001b[0m         msg\u001b[38;5;241m=\u001b[39m\u001b[38;5;28mstr\u001b[39m(cause) \u001b[38;5;28;01mif\u001b[39;00m msg \u001b[38;5;129;01mis\u001b[39;00m \u001b[38;5;28;01mNone\u001b[39;00m \u001b[38;5;28;01melse\u001b[39;00m msg,\n\u001b[1;32m    236\u001b[0m         cause\u001b[38;5;241m=\u001b[39mcause,\n\u001b[1;32m    237\u001b[0m         type_override\u001b[38;5;241m=\u001b[39mtype_override,\n\u001b[1;32m    238\u001b[0m     )\n\u001b[1;32m    239\u001b[0m     \u001b[38;5;28;01massert\u001b[39;00m \u001b[38;5;28;01mFalse\u001b[39;00m\n",
      "File \u001b[0;32m~/anaconda3/lib/python3.12/site-packages/omegaconf/_utils.py:899\u001b[0m, in \u001b[0;36mformat_and_raise\u001b[0;34m(node, key, value, msg, cause, type_override)\u001b[0m\n\u001b[1;32m    896\u001b[0m     ex\u001b[38;5;241m.\u001b[39mref_type \u001b[38;5;241m=\u001b[39m ref_type\n\u001b[1;32m    897\u001b[0m     ex\u001b[38;5;241m.\u001b[39mref_type_str \u001b[38;5;241m=\u001b[39m ref_type_str\n\u001b[0;32m--> 899\u001b[0m _raise(ex, cause)\n",
      "File \u001b[0;32m~/anaconda3/lib/python3.12/site-packages/omegaconf/_utils.py:797\u001b[0m, in \u001b[0;36m_raise\u001b[0;34m(ex, cause)\u001b[0m\n\u001b[1;32m    795\u001b[0m \u001b[38;5;28;01melse\u001b[39;00m:\n\u001b[1;32m    796\u001b[0m     ex\u001b[38;5;241m.\u001b[39m__cause__ \u001b[38;5;241m=\u001b[39m \u001b[38;5;28;01mNone\u001b[39;00m\n\u001b[0;32m--> 797\u001b[0m \u001b[38;5;28;01mraise\u001b[39;00m ex\u001b[38;5;241m.\u001b[39mwith_traceback(sys\u001b[38;5;241m.\u001b[39mexc_info()[\u001b[38;5;241m2\u001b[39m])\n",
      "File \u001b[0;32m~/anaconda3/lib/python3.12/site-packages/omegaconf/dictconfig.py:369\u001b[0m, in \u001b[0;36mDictConfig.__getitem__\u001b[0;34m(self, key)\u001b[0m\n\u001b[1;32m    362\u001b[0m \u001b[38;5;250m\u001b[39m\u001b[38;5;124;03m\"\"\"\u001b[39;00m\n\u001b[1;32m    363\u001b[0m \u001b[38;5;124;03mAllow map style access\u001b[39;00m\n\u001b[1;32m    364\u001b[0m \u001b[38;5;124;03m:param key:\u001b[39;00m\n\u001b[1;32m    365\u001b[0m \u001b[38;5;124;03m:return:\u001b[39;00m\n\u001b[1;32m    366\u001b[0m \u001b[38;5;124;03m\"\"\"\u001b[39;00m\n\u001b[1;32m    368\u001b[0m \u001b[38;5;28;01mtry\u001b[39;00m:\n\u001b[0;32m--> 369\u001b[0m     \u001b[38;5;28;01mreturn\u001b[39;00m \u001b[38;5;28mself\u001b[39m\u001b[38;5;241m.\u001b[39m_get_impl(key\u001b[38;5;241m=\u001b[39mkey, default_value\u001b[38;5;241m=\u001b[39m_DEFAULT_MARKER_)\n\u001b[1;32m    370\u001b[0m \u001b[38;5;28;01mexcept\u001b[39;00m \u001b[38;5;167;01mAttributeError\u001b[39;00m \u001b[38;5;28;01mas\u001b[39;00m e:\n\u001b[1;32m    371\u001b[0m     \u001b[38;5;28mself\u001b[39m\u001b[38;5;241m.\u001b[39m_format_and_raise(\n\u001b[1;32m    372\u001b[0m         key\u001b[38;5;241m=\u001b[39mkey, value\u001b[38;5;241m=\u001b[39m\u001b[38;5;28;01mNone\u001b[39;00m, cause\u001b[38;5;241m=\u001b[39me, type_override\u001b[38;5;241m=\u001b[39mConfigKeyError\n\u001b[1;32m    373\u001b[0m     )\n",
      "File \u001b[0;32m~/anaconda3/lib/python3.12/site-packages/omegaconf/dictconfig.py:442\u001b[0m, in \u001b[0;36mDictConfig._get_impl\u001b[0;34m(self, key, default_value, validate_key)\u001b[0m\n\u001b[1;32m    438\u001b[0m \u001b[38;5;28;01mdef\u001b[39;00m \u001b[38;5;21m_get_impl\u001b[39m(\n\u001b[1;32m    439\u001b[0m     \u001b[38;5;28mself\u001b[39m, key: DictKeyType, default_value: Any, validate_key: \u001b[38;5;28mbool\u001b[39m \u001b[38;5;241m=\u001b[39m \u001b[38;5;28;01mTrue\u001b[39;00m\n\u001b[1;32m    440\u001b[0m ) \u001b[38;5;241m-\u001b[39m\u001b[38;5;241m>\u001b[39m Any:\n\u001b[1;32m    441\u001b[0m     \u001b[38;5;28;01mtry\u001b[39;00m:\n\u001b[0;32m--> 442\u001b[0m         node \u001b[38;5;241m=\u001b[39m \u001b[38;5;28mself\u001b[39m\u001b[38;5;241m.\u001b[39m_get_child(\n\u001b[1;32m    443\u001b[0m             key\u001b[38;5;241m=\u001b[39mkey, throw_on_missing_key\u001b[38;5;241m=\u001b[39m\u001b[38;5;28;01mTrue\u001b[39;00m, validate_key\u001b[38;5;241m=\u001b[39mvalidate_key\n\u001b[1;32m    444\u001b[0m         )\n\u001b[1;32m    445\u001b[0m     \u001b[38;5;28;01mexcept\u001b[39;00m (ConfigAttributeError, ConfigKeyError):\n\u001b[1;32m    446\u001b[0m         \u001b[38;5;28;01mif\u001b[39;00m default_value \u001b[38;5;129;01mis\u001b[39;00m \u001b[38;5;129;01mnot\u001b[39;00m _DEFAULT_MARKER_:\n",
      "File \u001b[0;32m~/anaconda3/lib/python3.12/site-packages/omegaconf/basecontainer.py:73\u001b[0m, in \u001b[0;36mBaseContainer._get_child\u001b[0;34m(self, key, validate_access, validate_key, throw_on_missing_value, throw_on_missing_key)\u001b[0m\n\u001b[1;32m     64\u001b[0m \u001b[38;5;28;01mdef\u001b[39;00m \u001b[38;5;21m_get_child\u001b[39m(\n\u001b[1;32m     65\u001b[0m     \u001b[38;5;28mself\u001b[39m,\n\u001b[1;32m     66\u001b[0m     key: Any,\n\u001b[0;32m   (...)\u001b[0m\n\u001b[1;32m     70\u001b[0m     throw_on_missing_key: \u001b[38;5;28mbool\u001b[39m \u001b[38;5;241m=\u001b[39m \u001b[38;5;28;01mFalse\u001b[39;00m,\n\u001b[1;32m     71\u001b[0m ) \u001b[38;5;241m-\u001b[39m\u001b[38;5;241m>\u001b[39m Union[Optional[Node], List[Optional[Node]]]:\n\u001b[1;32m     72\u001b[0m \u001b[38;5;250m    \u001b[39m\u001b[38;5;124;03m\"\"\"Like _get_node, passing through to the nearest concrete Node.\"\"\"\u001b[39;00m\n\u001b[0;32m---> 73\u001b[0m     child \u001b[38;5;241m=\u001b[39m \u001b[38;5;28mself\u001b[39m\u001b[38;5;241m.\u001b[39m_get_node(\n\u001b[1;32m     74\u001b[0m         key\u001b[38;5;241m=\u001b[39mkey,\n\u001b[1;32m     75\u001b[0m         validate_access\u001b[38;5;241m=\u001b[39mvalidate_access,\n\u001b[1;32m     76\u001b[0m         validate_key\u001b[38;5;241m=\u001b[39mvalidate_key,\n\u001b[1;32m     77\u001b[0m         throw_on_missing_value\u001b[38;5;241m=\u001b[39mthrow_on_missing_value,\n\u001b[1;32m     78\u001b[0m         throw_on_missing_key\u001b[38;5;241m=\u001b[39mthrow_on_missing_key,\n\u001b[1;32m     79\u001b[0m     )\n\u001b[1;32m     80\u001b[0m     \u001b[38;5;28;01mif\u001b[39;00m \u001b[38;5;28misinstance\u001b[39m(child, UnionNode) \u001b[38;5;129;01mand\u001b[39;00m \u001b[38;5;129;01mnot\u001b[39;00m _is_special(child):\n\u001b[1;32m     81\u001b[0m         value \u001b[38;5;241m=\u001b[39m child\u001b[38;5;241m.\u001b[39m_value()\n",
      "File \u001b[0;32m~/anaconda3/lib/python3.12/site-packages/omegaconf/dictconfig.py:464\u001b[0m, in \u001b[0;36mDictConfig._get_node\u001b[0;34m(self, key, validate_access, validate_key, throw_on_missing_value, throw_on_missing_key)\u001b[0m\n\u001b[1;32m    455\u001b[0m \u001b[38;5;28;01mdef\u001b[39;00m \u001b[38;5;21m_get_node\u001b[39m(\n\u001b[1;32m    456\u001b[0m     \u001b[38;5;28mself\u001b[39m,\n\u001b[1;32m    457\u001b[0m     key: DictKeyType,\n\u001b[0;32m   (...)\u001b[0m\n\u001b[1;32m    461\u001b[0m     throw_on_missing_key: \u001b[38;5;28mbool\u001b[39m \u001b[38;5;241m=\u001b[39m \u001b[38;5;28;01mFalse\u001b[39;00m,\n\u001b[1;32m    462\u001b[0m ) \u001b[38;5;241m-\u001b[39m\u001b[38;5;241m>\u001b[39m Optional[Node]:\n\u001b[1;32m    463\u001b[0m     \u001b[38;5;28;01mtry\u001b[39;00m:\n\u001b[0;32m--> 464\u001b[0m         key \u001b[38;5;241m=\u001b[39m \u001b[38;5;28mself\u001b[39m\u001b[38;5;241m.\u001b[39m_validate_and_normalize_key(key)\n\u001b[1;32m    465\u001b[0m     \u001b[38;5;28;01mexcept\u001b[39;00m KeyValidationError:\n\u001b[1;32m    466\u001b[0m         \u001b[38;5;28;01mif\u001b[39;00m validate_access \u001b[38;5;129;01mand\u001b[39;00m validate_key:\n",
      "File \u001b[0;32m~/anaconda3/lib/python3.12/site-packages/omegaconf/dictconfig.py:275\u001b[0m, in \u001b[0;36mDictConfig._validate_and_normalize_key\u001b[0;34m(self, key)\u001b[0m\n\u001b[1;32m    274\u001b[0m \u001b[38;5;28;01mdef\u001b[39;00m \u001b[38;5;21m_validate_and_normalize_key\u001b[39m(\u001b[38;5;28mself\u001b[39m, key: Any) \u001b[38;5;241m-\u001b[39m\u001b[38;5;241m>\u001b[39m DictKeyType:\n\u001b[0;32m--> 275\u001b[0m     \u001b[38;5;28;01mreturn\u001b[39;00m \u001b[38;5;28mself\u001b[39m\u001b[38;5;241m.\u001b[39m_s_validate_and_normalize_key(\u001b[38;5;28mself\u001b[39m\u001b[38;5;241m.\u001b[39m_metadata\u001b[38;5;241m.\u001b[39mkey_type, key)\n",
      "File \u001b[0;32m~/anaconda3/lib/python3.12/site-packages/omegaconf/dictconfig.py:282\u001b[0m, in \u001b[0;36mDictConfig._s_validate_and_normalize_key\u001b[0;34m(self, key_type, key)\u001b[0m\n\u001b[1;32m    280\u001b[0m         \u001b[38;5;28;01mif\u001b[39;00m \u001b[38;5;28misinstance\u001b[39m(key, t):\n\u001b[1;32m    281\u001b[0m             \u001b[38;5;28;01mreturn\u001b[39;00m key  \u001b[38;5;66;03m# type: ignore\u001b[39;00m\n\u001b[0;32m--> 282\u001b[0m     \u001b[38;5;28;01mraise\u001b[39;00m KeyValidationError(\u001b[38;5;124m\"\u001b[39m\u001b[38;5;124mIncompatible key type \u001b[39m\u001b[38;5;124m'\u001b[39m\u001b[38;5;124m$KEY_TYPE\u001b[39m\u001b[38;5;124m'\u001b[39m\u001b[38;5;124m\"\u001b[39m)\n\u001b[1;32m    283\u001b[0m \u001b[38;5;28;01melif\u001b[39;00m key_type \u001b[38;5;129;01mis\u001b[39;00m \u001b[38;5;28mbool\u001b[39m \u001b[38;5;129;01mand\u001b[39;00m key \u001b[38;5;129;01min\u001b[39;00m [\u001b[38;5;241m0\u001b[39m, \u001b[38;5;241m1\u001b[39m]:\n\u001b[1;32m    284\u001b[0m     \u001b[38;5;66;03m# Python treats True as 1 and False as 0 when used as dict keys\u001b[39;00m\n\u001b[1;32m    285\u001b[0m     \u001b[38;5;66;03m#   assert hash(0) == hash(False)\u001b[39;00m\n\u001b[1;32m    286\u001b[0m     \u001b[38;5;66;03m#   assert hash(1) == hash(True)\u001b[39;00m\n\u001b[1;32m    287\u001b[0m     \u001b[38;5;28;01mreturn\u001b[39;00m \u001b[38;5;28mbool\u001b[39m(key)\n",
      "\u001b[0;31mKeyValidationError\u001b[0m: Incompatible key type 'ListConfig'\n    full_key: \n    object_type=dict"
     ]
    }
   ],
   "source": [
    "len(cfg.data.label_schema[test_ds.label_names]))"
   ]
  },
  {
   "cell_type": "code",
   "execution_count": 50,
   "metadata": {},
   "outputs": [
    {
     "data": {
      "text/plain": [
       "array([[11],\n",
       "       [11],\n",
       "       [11],\n",
       "       ...,\n",
       "       [11],\n",
       "       [11],\n",
       "       [11]], dtype=uint8)"
      ]
     },
     "execution_count": 50,
     "metadata": {},
     "output_type": "execute_result"
    }
   ],
   "source": [
    "gt_labels"
   ]
  },
  {
   "cell_type": "code",
   "execution_count": 43,
   "metadata": {},
   "outputs": [
    {
     "data": {
      "text/plain": [
       "['x',\n",
       " 'y',\n",
       " 'z',\n",
       " 'Red',\n",
       " 'Green',\n",
       " 'Blue',\n",
       " 'riegl_reflectance',\n",
       " 'riegl_amplitude',\n",
       " 'riegl_deviation',\n",
       " 'riegl_targetIndex',\n",
       " 'riegl_targetCount',\n",
       " 'linearity',\n",
       " 'planarity',\n",
       " 'sphericity',\n",
       " 'omnivariance',\n",
       " 'anisotropy',\n",
       " 'eigenentropy',\n",
       " 'nx',\n",
       " 'ny',\n",
       " 'nz',\n",
       " 'incAngles',\n",
       " 'distanceFromScanner',\n",
       " 'gt_labels_3',\n",
       " ['pr_labels_3'],\n",
       " '_unspecified',\n",
       " 'asphalt',\n",
       " 'brick',\n",
       " 'cable',\n",
       " 'concrete',\n",
       " 'marking',\n",
       " 'mesh',\n",
       " 'metal',\n",
       " 'naturalStone',\n",
       " 'poster',\n",
       " 'treeTrunk',\n",
       " 'vegetation']"
      ]
     },
     "execution_count": 43,
     "metadata": {},
     "output_type": "execute_result"
    }
   ],
   "source": [
    "out_column_names"
   ]
  },
  {
   "cell_type": "code",
   "execution_count": 39,
   "metadata": {},
   "outputs": [
    {
     "data": {
      "text/plain": [
       "(10117061, 12)"
      ]
     },
     "execution_count": 39,
     "metadata": {},
     "output_type": "execute_result"
    }
   ],
   "source": [
    "all_probs[0]['labels_3'].shape"
   ]
  },
  {
   "cell_type": "code",
   "execution_count": 36,
   "metadata": {},
   "outputs": [
    {
     "data": {
      "text/plain": [
       "12"
      ]
     },
     "execution_count": 36,
     "metadata": {},
     "output_type": "execute_result"
    }
   ],
   "source": [
    "prob_names = [i for ii in [cfg.data.label_schema[level] for level in test_ds.label_names] for i in ii] # FIXME: Only works for single levels at a time\n",
    "len(prob_names)"
   ]
  },
  {
   "cell_type": "code",
   "execution_count": 11,
   "metadata": {},
   "outputs": [
    {
     "data": {
      "text/plain": [
       "(10117061,)"
      ]
     },
     "execution_count": 11,
     "metadata": {},
     "output_type": "execute_result"
    }
   ],
   "source": [
    "all_preds[0]['labels_3']"
   ]
  },
  {
   "cell_type": "code",
   "execution_count": 41,
   "metadata": {},
   "outputs": [
    {
     "data": {
      "text/plain": [
       "(10117061, 36)"
      ]
     },
     "execution_count": 41,
     "metadata": {},
     "output_type": "execute_result"
    }
   ],
   "source": [
    "np.concatenate(out_data,axis=-1).shape"
   ]
  },
  {
   "cell_type": "code",
   "execution_count": 15,
   "metadata": {},
   "outputs": [
    {
     "data": {
      "text/plain": [
       "['labels_3']"
      ]
     },
     "execution_count": 15,
     "metadata": {},
     "output_type": "execute_result"
    }
   ],
   "source": [
    "probs_names = test_ds.label_names\n",
    "probs_names"
   ]
  },
  {
   "cell_type": "code",
   "execution_count": 22,
   "metadata": {},
   "outputs": [
    {
     "data": {
      "text/plain": [
       "[('labels_3',\n",
       "  {'_unspecified': 0, 'asphalt': 1, 'brick': 2, 'cable': 3, 'concrete': 4, 'marking': 5, 'mesh': 6, 'metal': 7, 'naturalStone': 8, 'poster': 9, 'treeTrunk': 10, 'vegetation': 11})]"
      ]
     },
     "execution_count": 22,
     "metadata": {},
     "output_type": "execute_result"
    }
   ],
   "source": [
    "list(zip(test_ds.label_names,[cfg.data.label_schema[level] for level in test_ds.label_names]))"
   ]
  },
  {
   "cell_type": "code",
   "execution_count": 32,
   "metadata": {},
   "outputs": [
    {
     "data": {
      "text/plain": [
       "['_unspecified',\n",
       " 'asphalt',\n",
       " 'brick',\n",
       " 'cable',\n",
       " 'concrete',\n",
       " 'marking',\n",
       " 'mesh',\n",
       " 'metal',\n",
       " 'naturalStone',\n",
       " 'poster',\n",
       " 'treeTrunk',\n",
       " 'vegetation']"
      ]
     },
     "execution_count": 32,
     "metadata": {},
     "output_type": "execute_result"
    }
   ],
   "source": []
  },
  {
   "cell_type": "code",
   "execution_count": 13,
   "metadata": {},
   "outputs": [
    {
     "data": {
      "text/plain": [
       "[{'labels_3': array([[1.5066069e-04, 5.9657796e-06, 6.2773113e-05, ..., 5.5119137e-05,\n",
       "          2.1044368e-02, 9.7328061e-01],\n",
       "         [1.5066069e-04, 5.9657796e-06, 6.2773113e-05, ..., 5.5119137e-05,\n",
       "          2.1044368e-02, 9.7328061e-01],\n",
       "         [1.5066069e-04, 5.9657796e-06, 6.2773113e-05, ..., 5.5119137e-05,\n",
       "          2.1044368e-02, 9.7328061e-01],\n",
       "         ...,\n",
       "         [4.5500012e-04, 6.4572873e-07, 1.8578959e-05, ..., 2.0549349e-05,\n",
       "          1.2705003e-02, 9.8146421e-01],\n",
       "         [8.5954693e-05, 3.4101493e-08, 1.4906019e-05, ..., 1.4475163e-08,\n",
       "          7.1103009e-03, 9.9056834e-01],\n",
       "         [4.5500012e-04, 6.4572873e-07, 1.8578959e-05, ..., 2.0549349e-05,\n",
       "          1.2705003e-02, 9.8146421e-01]], dtype=float32)}]"
      ]
     },
     "execution_count": 13,
     "metadata": {},
     "output_type": "execute_result"
    }
   ],
   "source": [
    "all_probs"
   ]
  },
  {
   "cell_type": "code",
   "execution_count": 6,
   "metadata": {},
   "outputs": [
    {
     "ename": "NameError",
     "evalue": "name 'embeddings' is not defined",
     "output_type": "error",
     "traceback": [
      "\u001b[0;31m---------------------------------------------------------------------------\u001b[0m",
      "\u001b[0;31mNameError\u001b[0m                                 Traceback (most recent call last)",
      "Cell \u001b[0;32mIn[6], line 1\u001b[0m\n\u001b[0;32m----> 1\u001b[0m embeddings\n",
      "\u001b[0;31mNameError\u001b[0m: name 'embeddings' is not defined"
     ]
    }
   ],
   "source": [
    "# save embeddings together with inverse indices\n",
    "embeddings\n",
    "test_ds.projects[0]['sub_inv']"
   ]
  },
  {
   "cell_type": "code",
   "execution_count": 9,
   "metadata": {},
   "outputs": [
    {
     "data": {
      "text/plain": [
       "(10117061, 3)"
      ]
     },
     "execution_count": 9,
     "metadata": {},
     "output_type": "execute_result"
    }
   ],
   "source": [
    "test_ds.projects[0]['xyz'].shape"
   ]
  },
  {
   "cell_type": "code",
   "execution_count": 7,
   "metadata": {},
   "outputs": [
    {
     "data": {
      "text/plain": [
       "(10117061, 1)"
      ]
     },
     "execution_count": 7,
     "metadata": {},
     "output_type": "execute_result"
    }
   ],
   "source": [
    "gt_labels.shape"
   ]
  },
  {
   "cell_type": "code",
   "execution_count": 5,
   "metadata": {},
   "outputs": [
    {
     "data": {
      "text/plain": [
       "['x',\n",
       " 'y',\n",
       " 'z',\n",
       " 'Red',\n",
       " 'Green',\n",
       " 'Blue',\n",
       " 'riegl_reflectance',\n",
       " 'riegl_amplitude',\n",
       " 'riegl_deviation',\n",
       " 'riegl_targetIndex',\n",
       " 'riegl_targetCount',\n",
       " 'linearity',\n",
       " 'planarity',\n",
       " 'sphericity',\n",
       " 'omnivariance',\n",
       " 'anisotropy',\n",
       " 'eigenentropy',\n",
       " 'nx',\n",
       " 'ny',\n",
       " 'nz',\n",
       " 'incAngles',\n",
       " 'distanceFromScanner',\n",
       " 'gt_labels_3']"
      ]
     },
     "execution_count": 5,
     "metadata": {},
     "output_type": "execute_result"
    }
   ],
   "source": [
    "out_column_names"
   ]
  },
  {
   "cell_type": "code",
   "execution_count": null,
   "metadata": {},
   "outputs": [],
   "source": [
    "out_data.shape"
   ]
  },
  {
   "cell_type": "code",
   "execution_count": null,
   "metadata": {},
   "outputs": [],
   "source": [
    "test_ds.projects[0]['labels']"
   ]
  },
  {
   "cell_type": "code",
   "execution_count": null,
   "metadata": {},
   "outputs": [],
   "source": [
    "test_ds.projects[0]['labels']\n",
    "\n",
    "gt_names"
   ]
  },
  {
   "cell_type": "code",
   "execution_count": 94,
   "metadata": {},
   "outputs": [],
   "source": [
    "# iou_c = tp_c / (fp_c + fn_c + tp_c)\n",
    "# pc_acc = tp_c / ()\n",
    "\n",
    "\n",
    "\n"
   ]
  },
  {
   "cell_type": "code",
   "execution_count": 72,
   "metadata": {},
   "outputs": [],
   "source": [
    "iou[~valid_classes] = np.nan"
   ]
  },
  {
   "cell_type": "code",
   "execution_count": null,
   "metadata": {},
   "outputs": [],
   "source": [
    "miou"
   ]
  },
  {
   "cell_type": "code",
   "execution_count": null,
   "metadata": {},
   "outputs": [],
   "source": [
    "np.nanmean(iou)"
   ]
  },
  {
   "cell_type": "code",
   "execution_count": null,
   "metadata": {},
   "outputs": [],
   "source": [
    "macc"
   ]
  },
  {
   "cell_type": "code",
   "execution_count": null,
   "metadata": {},
   "outputs": [],
   "source": [
    "iou"
   ]
  },
  {
   "cell_type": "code",
   "execution_count": null,
   "metadata": {},
   "outputs": [],
   "source": [
    "pc_acc.mean()"
   ]
  },
  {
   "cell_type": "code",
   "execution_count": null,
   "metadata": {},
   "outputs": [],
   "source": [
    "iou.mean()"
   ]
  },
  {
   "cell_type": "code",
   "execution_count": null,
   "metadata": {},
   "outputs": [],
   "source": [
    "gt.shape"
   ]
  },
  {
   "cell_type": "code",
   "execution_count": null,
   "metadata": {},
   "outputs": [],
   "source": []
  },
  {
   "cell_type": "code",
   "execution_count": null,
   "metadata": {},
   "outputs": [],
   "source": [
    "test_ds.projects[0]['proj_name']"
   ]
  },
  {
   "cell_type": "code",
   "execution_count": null,
   "metadata": {},
   "outputs": [],
   "source": [
    "np.mean((gt == pr))"
   ]
  },
  {
   "cell_type": "code",
   "execution_count": null,
   "metadata": {},
   "outputs": [],
   "source": [
    "# from torch.nn.functional import softmax\n",
    "# # run test loop\n",
    "# with torch.no_grad():\n",
    "#     for batch in tqdm(test_dl):\n",
    "#         # put batch on device\n",
    "#         for k, v in batch.items():\n",
    "#             batch[k] = v.to(device=cfg.general.device)\n",
    "#         out = model(batch)\n",
    "#         probs = dict()\n",
    "#         for k,v in out.items():\n",
    "#             probs[k] = softmax(v,dim=-1)\n",
    "#             preds = torch.argmax(probs[k], dim=-1)\n",
    "#             all_preds_sub[0][k][batch['residual_idx']] = preds # assume dataset has one project inside !\n",
    "\n",
    "#             all_probs_sub[0][k][batch['residual_idx']] = probs[k]\n",
    "#     # convert to numpy and upsample\n",
    "#     for k in cfg.data.label_names:\n",
    "#         all_preds_sub[0][k] = all_preds_sub[0][k].cpu().detach().numpy()\n",
    "#         all_preds_sub[0][k] = all_preds_sub[0][k][test_ds.projects[0]['sub_inv']]\n",
    "\n",
    "#         all_probs_sub[0][k] = all_probs_sub[0][k].cpu().detach().numpy()\n",
    "#         all_probs_sub[0][k] = all_probs_sub[0][k][test_ds.projects[0]['sub_inv']]\n",
    "\n",
    "\n",
    "\n",
    "            \n",
    "        \n"
   ]
  },
  {
   "cell_type": "code",
   "execution_count": null,
   "metadata": {},
   "outputs": [],
   "source": [
    "all_preds[0]['labels_3'][None,:].shape"
   ]
  },
  {
   "cell_type": "code",
   "execution_count": null,
   "metadata": {},
   "outputs": [],
   "source": [
    "cfg.data.label_schema['labels_3']\n",
    "all_probs"
   ]
  },
  {
   "cell_type": "code",
   "execution_count": 8,
   "metadata": {},
   "outputs": [],
   "source": [
    "# import pandas as pd\n",
    "# from plyfile import PlyData, PlyElement\n",
    "\n",
    "# probs = pd.DataFrame(all_probs_sub[0]['labels_3'], columns=cfg.data.label_schema['labels_3'].keys())\n",
    "\n",
    "# xyz = pd.DataFrame(np.concatenate([test_ds.projects[0]['xyz'], all_preds_sub[0]['labels_3'][:,None]], axis=1), columns = ['x','y','z','preds_3'])\n",
    "# pcd = pd.concat([xyz,probs], axis=1)\n",
    "# PlyData([PlyElement.describe(pcd.to_records(index=False),'vertex')]).write(f\"./_temp/test_preds_with_probs.ply\")\n"
   ]
  },
  {
   "cell_type": "code",
   "execution_count": null,
   "metadata": {},
   "outputs": [],
   "source": [
    "np.unique(aps, return_counts=True)"
   ]
  },
  {
   "cell_type": "code",
   "execution_count": null,
   "metadata": {},
   "outputs": [],
   "source": [
    "probs[k]"
   ]
  },
  {
   "cell_type": "code",
   "execution_count": 22,
   "metadata": {},
   "outputs": [],
   "source": []
  },
  {
   "cell_type": "code",
   "execution_count": null,
   "metadata": {},
   "outputs": [],
   "source": []
  },
  {
   "cell_type": "code",
   "execution_count": null,
   "metadata": {},
   "outputs": [],
   "source": [
    "(test_ds.projects[0]['labels_sub'].reshape(-1) == aps).astype(np.float32).mean()\n",
    "aps[test_ds][0]['inv_inds']"
   ]
  },
  {
   "cell_type": "code",
   "execution_count": 134,
   "metadata": {},
   "outputs": [],
   "source": []
  },
  {
   "cell_type": "code",
   "execution_count": null,
   "metadata": {},
   "outputs": [],
   "source": [
    "len(cfg.data.label_schema[label_name])"
   ]
  },
  {
   "cell_type": "code",
   "execution_count": null,
   "metadata": {},
   "outputs": [],
   "source": [
    "label_name"
   ]
  },
  {
   "cell_type": "code",
   "execution_count": null,
   "metadata": {},
   "outputs": [],
   "source": [
    "test_ds.projects[0]['sub_inv'].shape"
   ]
  }
 ],
 "metadata": {
  "kernelspec": {
   "display_name": "base",
   "language": "python",
   "name": "python3"
  },
  "language_info": {
   "codemirror_mode": {
    "name": "ipython",
    "version": 3
   },
   "file_extension": ".py",
   "mimetype": "text/x-python",
   "name": "python",
   "nbconvert_exporter": "python",
   "pygments_lexer": "ipython3",
   "version": "3.12.7"
  }
 },
 "nbformat": 4,
 "nbformat_minor": 2
}
