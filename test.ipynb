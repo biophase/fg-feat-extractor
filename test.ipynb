{
 "cells": [
  {
   "cell_type": "code",
   "execution_count": 1,
   "metadata": {},
   "outputs": [],
   "source": [
    "from data.fwf_dataset import FwfDataset\n",
    "from models.fgf import FGFeatNetwork\n",
    "from utils.metrics import get_multilevel_metrics, print_metrics, combine_metrics_list, EarlyStopping\n",
    "from utils.general import generate_timestamp\n",
    "\n",
    "from argparse import ArgumentParser\n",
    "from tqdm import tqdm\n",
    "from time import time\n",
    "import numpy as np\n",
    "import json\n",
    "import os\n",
    "\n",
    "import torch\n",
    "from torch.utils.data import DataLoader\n",
    "from torch.optim import Adam\n",
    "from torch.nn import CrossEntropyLoss\n",
    "from omegaconf import OmegaConf\n",
    "\n",
    "# metrics computation alternatives\n",
    "from sklearn.metrics import jaccard_score\n",
    "from torchmetrics.segmentation import MeanIoU\n",
    "\n",
    "\n",
    "\n",
    "\n"
   ]
  },
  {
   "cell_type": "code",
   "execution_count": 2,
   "metadata": {},
   "outputs": [
    {
     "name": "stdout",
     "output_type": "stream",
     "text": [
      "general:\n",
      "  exp_description: ''\n",
      "  device: cuda\n",
      "  batch_size: 1024\n",
      "  weight_decay: 0.0005\n",
      "  max_epochs: 50\n",
      "  early_stopping_minDelta: 0.01\n",
      "  num_workers: 4\n",
      "data:\n",
      "  dataset_root: ../../02_Datasets/FWF_Subsampled/0.01_simple/\n",
      "  split: ./config/default_split.yaml\n",
      "  preprocessing:\n",
      "    _transformsTraining_:\n",
      "      xyz:\n",
      "        TransCenterXyz: {}\n",
      "        TransZRotation: {}\n",
      "        TransScaling: {}\n",
      "        TransGaussianNoise:\n",
      "          mean: 0\n",
      "          std: 0.002\n",
      "      rgb:\n",
      "        TransGaussianNoise:\n",
      "          mean: 0\n",
      "          std: 0.02\n",
      "        TransFeatureDropout:\n",
      "          dropout_prob: 0.1\n",
      "      wfm:\n",
      "        TransSignalScaling: {}\n",
      "      normals:\n",
      "        TransGaussianNoise:\n",
      "          mean: 0\n",
      "          std: 0.05\n",
      "      incAngles:\n",
      "        TransGaussianNoise:\n",
      "          mean: 0\n",
      "          std: 0.05\n",
      "        TransStandardize:\n",
      "          mean: 2.07\n",
      "          std: 0.38\n",
      "      distanceFromScanner:\n",
      "        TransGaussianNoise:\n",
      "          mean: 12.13\n",
      "          std: 12.2\n",
      "    _transformsValidation_:\n",
      "      xyz:\n",
      "        TransCenterXyz: {}\n",
      "      incAngles:\n",
      "        TransStandardize:\n",
      "          mean: 2.07\n",
      "          std: 0.38\n",
      "      distanceFromScanner:\n",
      "        TransStandardize:\n",
      "          mean: 12.13\n",
      "          std: 12.2\n",
      "    subsampling: null\n",
      "  scalar_input_fields:\n",
      "  - xyz\n",
      "  - rgb\n",
      "  - riegl_feats\n",
      "  - normals\n",
      "  - incAngles\n",
      "  - distanceFromScanner\n",
      "  fw_input_field: true\n",
      "  label_names:\n",
      "  - labels_3\n",
      "  query_grid_size: 0.15\n",
      "  subsample_on_gpu: true\n",
      "  num_neib_normalsComputation: 20\n",
      "  num_neib_featureExtraction: 128\n",
      "  _trainProjects_:\n",
      "  - proj_name: 2024-03-22_FW_Koenigshuegel.FwfProj\n",
      "  - proj_name: 2024-04-05_FW_Westbahnhof_02.FwfProj\n",
      "  - proj_name: 2024-04-05_FW_Westbahnhof_03.FwfProj\n",
      "  - proj_name: 2024-04-05_FW_Westbahnhof_04.FwfProj\n",
      "  - proj_name: 2024-04-05_FW_Westbahnhof_05.FwfProj\n",
      "  - proj_name: 2024-05-10_FW_RWTH_Zentrum_01.FwfProj\n",
      "  - proj_name: 2024-07-31_FW_Bruecke_Koenigstr.FwfProj\n",
      "    bboxes:\n",
      "    - 0\n",
      "    - 2\n",
      "  - proj_name: 2024-08-02_FW_Bruecke_A44_VerlautenheidenerStr.FwfProj\n",
      "  - proj_name: 2024-08-02_FW_Bruecke_Deltourserb.FwfProj\n",
      "  - proj_name: 2024-08-02_FW_Bruecke_Kasinostrasse.FwfProj\n",
      "    bboxes:\n",
      "    - 1\n",
      "  - proj_name: 2024-08-02_FW_Bruecke_RotheErde.FwfProj\n",
      "  - proj_name: 2024-08-02_FW_Bruecke_Rottstrasse.FwfProj\n",
      "  _valProjects_:\n",
      "  - proj_name: 2023-08-28_FW_EingangBauing.FwfProj\n",
      "  - proj_name: 2024-04-05_FW_Westbahnhof_01.FwfProj\n",
      "  - proj_name: 2024-07-31_FW_Bruecke_Koenigstr.FwfProj\n",
      "    bboxes:\n",
      "    - 1\n",
      "  - proj_name: 2024-08-02_FW_Bruecke_Kasinostrasse.FwfProj\n",
      "    bboxes:\n",
      "    - 0\n",
      "  - proj_name: 2024-07-31_FW_Bruecke_Turmstr.FwfProj\n",
      "  _testProjects_:\n",
      "  - proj_name: 2023-08-28_FW_EingangBauing.FwfProj\n",
      "  - proj_name: 2024-04-05_FW_Westbahnhof_01.FwfProj\n",
      "  - proj_name: 2024-07-31_FW_Bruecke_Koenigstr.FwfProj\n",
      "    bboxes:\n",
      "    - 1\n",
      "  - proj_name: 2024-08-02_FW_Bruecke_Kasinostrasse.FwfProj\n",
      "    bboxes:\n",
      "    - 0\n",
      "  - proj_name: 2024-07-31_FW_Bruecke_Turmstr.FwfProj\n",
      "  label_schema:\n",
      "    labels_0:\n",
      "      manMade: 0\n",
      "      natural: 1\n",
      "      scanArtefact: 2\n",
      "    labels_1:\n",
      "      _unspecified: 0\n",
      "      building: 1\n",
      "      movingObject: 2\n",
      "      naturalGround: 3\n",
      "      sealedSurface: 4\n",
      "      streetFurniture: 5\n",
      "      vegetation: 6\n",
      "      vehicle: 7\n",
      "    labels_2:\n",
      "      _unspecified: 0\n",
      "      bicycle: 1\n",
      "      car: 2\n",
      "      electricalAppliance: 3\n",
      "      facadeSurface: 4\n",
      "      fence: 5\n",
      "      frameElement: 6\n",
      "      kerbStone: 7\n",
      "      naturalGround: 8\n",
      "      nonTiledPaving: 9\n",
      "      pipeLike: 10\n",
      "      scooter: 11\n",
      "      shaft: 12\n",
      "      sign: 13\n",
      "      stair: 14\n",
      "      tiledPaving: 15\n",
      "      trashCan: 16\n",
      "      vegetation: 17\n",
      "    labels_3:\n",
      "      _unspecified: 0\n",
      "      asphalt: 1\n",
      "      brick: 2\n",
      "      cable: 3\n",
      "      concrete: 4\n",
      "      marking: 5\n",
      "      mesh: 6\n",
      "      metal: 7\n",
      "      naturalStone: 8\n",
      "      poster: 9\n",
      "      treeTrunk: 10\n",
      "      vegetation: 11\n",
      "model:\n",
      "  use_global_constraint: false\n",
      "  dropout_prob: 0.3\n",
      "testing:\n",
      "  query_grid_size: 0.03\n",
      "  batch_size: 1024\n",
      "\n"
     ]
    }
   ],
   "source": [
    "# build config\n",
    "cfg = OmegaConf.load(\"./config/default.yaml\")\n",
    "cfg = OmegaConf.merge(cfg, OmegaConf.load(cfg.data.split))\n",
    "with open(os.path.join(cfg.data.dataset_root, 'class_dict.json'),'r') as f:\n",
    "    cfg = OmegaConf.merge(cfg, OmegaConf.create({'data':{'label_schema':json.load(f)}}))\n",
    "\n",
    "\n",
    "print(OmegaConf.to_yaml(cfg))\n",
    "\n",
    "exp = '2024-12-15_16-29-09(first)'\n",
    "model_version = 'latest_model.pth'\n",
    "\n",
    "output_dir = os.path.join('./exp',exp,'test')"
   ]
  },
  {
   "cell_type": "code",
   "execution_count": 3,
   "metadata": {},
   "outputs": [],
   "source": [
    "return_full_probs = True"
   ]
  },
  {
   "cell_type": "code",
   "execution_count": 5,
   "metadata": {},
   "outputs": [
    {
     "name": "stdout",
     "output_type": "stream",
     "text": [
      "2023-08-28_FW_EingangBauing.FwfProj\n",
      "Loading '2023-08-28_FW_EingangBauing.FwfProj'; Bounding box IDs = default\n",
      "Computing neibors for '2023-08-28_FW_EingangBauing.FwfProj::defaultBbox' @ k=20\n",
      "Computing normals for '2023-08-28_FW_EingangBauing.FwfProj::defaultBbox' @ k=20\n",
      "Computing incidence angles for '2023-08-28_FW_EingangBauing.FwfProj::defaultBbox'\n",
      "Computing neibors for '2023-08-28_FW_EingangBauing.FwfProj::defaultBbox' @ k=128\n"
     ]
    },
    {
     "name": "stderr",
     "output_type": "stream",
     "text": [
      "  2%|▏         | 113/5630 [00:11<09:39,  9.53it/s]\n"
     ]
    },
    {
     "ename": "KeyboardInterrupt",
     "evalue": "",
     "output_type": "error",
     "traceback": [
      "\u001b[0;31m---------------------------------------------------------------------------\u001b[0m",
      "\u001b[0;31mKeyboardInterrupt\u001b[0m                         Traceback (most recent call last)",
      "Cell \u001b[0;32mIn[5], line 43\u001b[0m\n\u001b[1;32m     41\u001b[0m \u001b[38;5;66;03m# run test loop\u001b[39;00m\n\u001b[1;32m     42\u001b[0m \u001b[38;5;28;01mwith\u001b[39;00m torch\u001b[38;5;241m.\u001b[39mno_grad():\n\u001b[0;32m---> 43\u001b[0m     \u001b[38;5;28;01mfor\u001b[39;00m batch \u001b[38;5;129;01min\u001b[39;00m tqdm(test_dl):\n\u001b[1;32m     44\u001b[0m         \u001b[38;5;66;03m# put batch on device\u001b[39;00m\n\u001b[1;32m     45\u001b[0m         \u001b[38;5;28;01mfor\u001b[39;00m k, v \u001b[38;5;129;01min\u001b[39;00m batch\u001b[38;5;241m.\u001b[39mitems():\n\u001b[1;32m     46\u001b[0m             batch[k] \u001b[38;5;241m=\u001b[39m v\u001b[38;5;241m.\u001b[39mto(device\u001b[38;5;241m=\u001b[39mcfg\u001b[38;5;241m.\u001b[39mgeneral\u001b[38;5;241m.\u001b[39mdevice)\n",
      "File \u001b[0;32m~/anaconda3/lib/python3.12/site-packages/tqdm/std.py:1181\u001b[0m, in \u001b[0;36mtqdm.__iter__\u001b[0;34m(self)\u001b[0m\n\u001b[1;32m   1178\u001b[0m time \u001b[38;5;241m=\u001b[39m \u001b[38;5;28mself\u001b[39m\u001b[38;5;241m.\u001b[39m_time\n\u001b[1;32m   1180\u001b[0m \u001b[38;5;28;01mtry\u001b[39;00m:\n\u001b[0;32m-> 1181\u001b[0m     \u001b[38;5;28;01mfor\u001b[39;00m obj \u001b[38;5;129;01min\u001b[39;00m iterable:\n\u001b[1;32m   1182\u001b[0m         \u001b[38;5;28;01myield\u001b[39;00m obj\n\u001b[1;32m   1183\u001b[0m         \u001b[38;5;66;03m# Update and possibly print the progressbar.\u001b[39;00m\n\u001b[1;32m   1184\u001b[0m         \u001b[38;5;66;03m# Note: does not call self.update(1) for speed optimisation.\u001b[39;00m\n",
      "File \u001b[0;32m~/anaconda3/lib/python3.12/site-packages/torch/utils/data/dataloader.py:701\u001b[0m, in \u001b[0;36m_BaseDataLoaderIter.__next__\u001b[0;34m(self)\u001b[0m\n\u001b[1;32m    698\u001b[0m \u001b[38;5;28;01mif\u001b[39;00m \u001b[38;5;28mself\u001b[39m\u001b[38;5;241m.\u001b[39m_sampler_iter \u001b[38;5;129;01mis\u001b[39;00m \u001b[38;5;28;01mNone\u001b[39;00m:\n\u001b[1;32m    699\u001b[0m     \u001b[38;5;66;03m# TODO(https://github.com/pytorch/pytorch/issues/76750)\u001b[39;00m\n\u001b[1;32m    700\u001b[0m     \u001b[38;5;28mself\u001b[39m\u001b[38;5;241m.\u001b[39m_reset()  \u001b[38;5;66;03m# type: ignore[call-arg]\u001b[39;00m\n\u001b[0;32m--> 701\u001b[0m data \u001b[38;5;241m=\u001b[39m \u001b[38;5;28mself\u001b[39m\u001b[38;5;241m.\u001b[39m_next_data()\n\u001b[1;32m    702\u001b[0m \u001b[38;5;28mself\u001b[39m\u001b[38;5;241m.\u001b[39m_num_yielded \u001b[38;5;241m+\u001b[39m\u001b[38;5;241m=\u001b[39m \u001b[38;5;241m1\u001b[39m\n\u001b[1;32m    703\u001b[0m \u001b[38;5;28;01mif\u001b[39;00m (\n\u001b[1;32m    704\u001b[0m     \u001b[38;5;28mself\u001b[39m\u001b[38;5;241m.\u001b[39m_dataset_kind \u001b[38;5;241m==\u001b[39m _DatasetKind\u001b[38;5;241m.\u001b[39mIterable\n\u001b[1;32m    705\u001b[0m     \u001b[38;5;129;01mand\u001b[39;00m \u001b[38;5;28mself\u001b[39m\u001b[38;5;241m.\u001b[39m_IterableDataset_len_called \u001b[38;5;129;01mis\u001b[39;00m \u001b[38;5;129;01mnot\u001b[39;00m \u001b[38;5;28;01mNone\u001b[39;00m\n\u001b[1;32m    706\u001b[0m     \u001b[38;5;129;01mand\u001b[39;00m \u001b[38;5;28mself\u001b[39m\u001b[38;5;241m.\u001b[39m_num_yielded \u001b[38;5;241m>\u001b[39m \u001b[38;5;28mself\u001b[39m\u001b[38;5;241m.\u001b[39m_IterableDataset_len_called\n\u001b[1;32m    707\u001b[0m ):\n",
      "File \u001b[0;32m~/anaconda3/lib/python3.12/site-packages/torch/utils/data/dataloader.py:1448\u001b[0m, in \u001b[0;36m_MultiProcessingDataLoaderIter._next_data\u001b[0;34m(self)\u001b[0m\n\u001b[1;32m   1445\u001b[0m     \u001b[38;5;28;01mreturn\u001b[39;00m \u001b[38;5;28mself\u001b[39m\u001b[38;5;241m.\u001b[39m_process_data(data)\n\u001b[1;32m   1447\u001b[0m \u001b[38;5;28;01massert\u001b[39;00m \u001b[38;5;129;01mnot\u001b[39;00m \u001b[38;5;28mself\u001b[39m\u001b[38;5;241m.\u001b[39m_shutdown \u001b[38;5;129;01mand\u001b[39;00m \u001b[38;5;28mself\u001b[39m\u001b[38;5;241m.\u001b[39m_tasks_outstanding \u001b[38;5;241m>\u001b[39m \u001b[38;5;241m0\u001b[39m\n\u001b[0;32m-> 1448\u001b[0m idx, data \u001b[38;5;241m=\u001b[39m \u001b[38;5;28mself\u001b[39m\u001b[38;5;241m.\u001b[39m_get_data()\n\u001b[1;32m   1449\u001b[0m \u001b[38;5;28mself\u001b[39m\u001b[38;5;241m.\u001b[39m_tasks_outstanding \u001b[38;5;241m-\u001b[39m\u001b[38;5;241m=\u001b[39m \u001b[38;5;241m1\u001b[39m\n\u001b[1;32m   1450\u001b[0m \u001b[38;5;28;01mif\u001b[39;00m \u001b[38;5;28mself\u001b[39m\u001b[38;5;241m.\u001b[39m_dataset_kind \u001b[38;5;241m==\u001b[39m _DatasetKind\u001b[38;5;241m.\u001b[39mIterable:\n\u001b[1;32m   1451\u001b[0m     \u001b[38;5;66;03m# Check for _IterableDatasetStopIteration\u001b[39;00m\n",
      "File \u001b[0;32m~/anaconda3/lib/python3.12/site-packages/torch/utils/data/dataloader.py:1412\u001b[0m, in \u001b[0;36m_MultiProcessingDataLoaderIter._get_data\u001b[0;34m(self)\u001b[0m\n\u001b[1;32m   1408\u001b[0m     \u001b[38;5;66;03m# In this case, `self._data_queue` is a `queue.Queue`,. But we don't\u001b[39;00m\n\u001b[1;32m   1409\u001b[0m     \u001b[38;5;66;03m# need to call `.task_done()` because we don't use `.join()`.\u001b[39;00m\n\u001b[1;32m   1410\u001b[0m \u001b[38;5;28;01melse\u001b[39;00m:\n\u001b[1;32m   1411\u001b[0m     \u001b[38;5;28;01mwhile\u001b[39;00m \u001b[38;5;28;01mTrue\u001b[39;00m:\n\u001b[0;32m-> 1412\u001b[0m         success, data \u001b[38;5;241m=\u001b[39m \u001b[38;5;28mself\u001b[39m\u001b[38;5;241m.\u001b[39m_try_get_data()\n\u001b[1;32m   1413\u001b[0m         \u001b[38;5;28;01mif\u001b[39;00m success:\n\u001b[1;32m   1414\u001b[0m             \u001b[38;5;28;01mreturn\u001b[39;00m data\n",
      "File \u001b[0;32m~/anaconda3/lib/python3.12/site-packages/torch/utils/data/dataloader.py:1243\u001b[0m, in \u001b[0;36m_MultiProcessingDataLoaderIter._try_get_data\u001b[0;34m(self, timeout)\u001b[0m\n\u001b[1;32m   1230\u001b[0m \u001b[38;5;28;01mdef\u001b[39;00m \u001b[38;5;21m_try_get_data\u001b[39m(\u001b[38;5;28mself\u001b[39m, timeout\u001b[38;5;241m=\u001b[39m_utils\u001b[38;5;241m.\u001b[39mMP_STATUS_CHECK_INTERVAL):\n\u001b[1;32m   1231\u001b[0m     \u001b[38;5;66;03m# Tries to fetch data from `self._data_queue` once for a given timeout.\u001b[39;00m\n\u001b[1;32m   1232\u001b[0m     \u001b[38;5;66;03m# This can also be used as inner loop of fetching without timeout, with\u001b[39;00m\n\u001b[0;32m   (...)\u001b[0m\n\u001b[1;32m   1240\u001b[0m     \u001b[38;5;66;03m# Returns a 2-tuple:\u001b[39;00m\n\u001b[1;32m   1241\u001b[0m     \u001b[38;5;66;03m#   (bool: whether successfully get data, any: data if successful else None)\u001b[39;00m\n\u001b[1;32m   1242\u001b[0m     \u001b[38;5;28;01mtry\u001b[39;00m:\n\u001b[0;32m-> 1243\u001b[0m         data \u001b[38;5;241m=\u001b[39m \u001b[38;5;28mself\u001b[39m\u001b[38;5;241m.\u001b[39m_data_queue\u001b[38;5;241m.\u001b[39mget(timeout\u001b[38;5;241m=\u001b[39mtimeout)\n\u001b[1;32m   1244\u001b[0m         \u001b[38;5;28;01mreturn\u001b[39;00m (\u001b[38;5;28;01mTrue\u001b[39;00m, data)\n\u001b[1;32m   1245\u001b[0m     \u001b[38;5;28;01mexcept\u001b[39;00m \u001b[38;5;167;01mException\u001b[39;00m \u001b[38;5;28;01mas\u001b[39;00m e:\n\u001b[1;32m   1246\u001b[0m         \u001b[38;5;66;03m# At timeout and error, we manually check whether any worker has\u001b[39;00m\n\u001b[1;32m   1247\u001b[0m         \u001b[38;5;66;03m# failed. Note that this is the only mechanism for Windows to detect\u001b[39;00m\n\u001b[1;32m   1248\u001b[0m         \u001b[38;5;66;03m# worker failures.\u001b[39;00m\n",
      "File \u001b[0;32m~/anaconda3/lib/python3.12/multiprocessing/queues.py:113\u001b[0m, in \u001b[0;36mQueue.get\u001b[0;34m(self, block, timeout)\u001b[0m\n\u001b[1;32m    111\u001b[0m \u001b[38;5;28;01mif\u001b[39;00m block:\n\u001b[1;32m    112\u001b[0m     timeout \u001b[38;5;241m=\u001b[39m deadline \u001b[38;5;241m-\u001b[39m time\u001b[38;5;241m.\u001b[39mmonotonic()\n\u001b[0;32m--> 113\u001b[0m     \u001b[38;5;28;01mif\u001b[39;00m \u001b[38;5;129;01mnot\u001b[39;00m \u001b[38;5;28mself\u001b[39m\u001b[38;5;241m.\u001b[39m_poll(timeout):\n\u001b[1;32m    114\u001b[0m         \u001b[38;5;28;01mraise\u001b[39;00m Empty\n\u001b[1;32m    115\u001b[0m \u001b[38;5;28;01melif\u001b[39;00m \u001b[38;5;129;01mnot\u001b[39;00m \u001b[38;5;28mself\u001b[39m\u001b[38;5;241m.\u001b[39m_poll():\n",
      "File \u001b[0;32m~/anaconda3/lib/python3.12/multiprocessing/connection.py:257\u001b[0m, in \u001b[0;36m_ConnectionBase.poll\u001b[0;34m(self, timeout)\u001b[0m\n\u001b[1;32m    255\u001b[0m \u001b[38;5;28mself\u001b[39m\u001b[38;5;241m.\u001b[39m_check_closed()\n\u001b[1;32m    256\u001b[0m \u001b[38;5;28mself\u001b[39m\u001b[38;5;241m.\u001b[39m_check_readable()\n\u001b[0;32m--> 257\u001b[0m \u001b[38;5;28;01mreturn\u001b[39;00m \u001b[38;5;28mself\u001b[39m\u001b[38;5;241m.\u001b[39m_poll(timeout)\n",
      "File \u001b[0;32m~/anaconda3/lib/python3.12/multiprocessing/connection.py:440\u001b[0m, in \u001b[0;36mConnection._poll\u001b[0;34m(self, timeout)\u001b[0m\n\u001b[1;32m    439\u001b[0m \u001b[38;5;28;01mdef\u001b[39;00m \u001b[38;5;21m_poll\u001b[39m(\u001b[38;5;28mself\u001b[39m, timeout):\n\u001b[0;32m--> 440\u001b[0m     r \u001b[38;5;241m=\u001b[39m wait([\u001b[38;5;28mself\u001b[39m], timeout)\n\u001b[1;32m    441\u001b[0m     \u001b[38;5;28;01mreturn\u001b[39;00m \u001b[38;5;28mbool\u001b[39m(r)\n",
      "File \u001b[0;32m~/anaconda3/lib/python3.12/multiprocessing/connection.py:1136\u001b[0m, in \u001b[0;36mwait\u001b[0;34m(object_list, timeout)\u001b[0m\n\u001b[1;32m   1133\u001b[0m     deadline \u001b[38;5;241m=\u001b[39m time\u001b[38;5;241m.\u001b[39mmonotonic() \u001b[38;5;241m+\u001b[39m timeout\n\u001b[1;32m   1135\u001b[0m \u001b[38;5;28;01mwhile\u001b[39;00m \u001b[38;5;28;01mTrue\u001b[39;00m:\n\u001b[0;32m-> 1136\u001b[0m     ready \u001b[38;5;241m=\u001b[39m selector\u001b[38;5;241m.\u001b[39mselect(timeout)\n\u001b[1;32m   1137\u001b[0m     \u001b[38;5;28;01mif\u001b[39;00m ready:\n\u001b[1;32m   1138\u001b[0m         \u001b[38;5;28;01mreturn\u001b[39;00m [key\u001b[38;5;241m.\u001b[39mfileobj \u001b[38;5;28;01mfor\u001b[39;00m (key, events) \u001b[38;5;129;01min\u001b[39;00m ready]\n",
      "File \u001b[0;32m~/anaconda3/lib/python3.12/selectors.py:415\u001b[0m, in \u001b[0;36m_PollLikeSelector.select\u001b[0;34m(self, timeout)\u001b[0m\n\u001b[1;32m    413\u001b[0m ready \u001b[38;5;241m=\u001b[39m []\n\u001b[1;32m    414\u001b[0m \u001b[38;5;28;01mtry\u001b[39;00m:\n\u001b[0;32m--> 415\u001b[0m     fd_event_list \u001b[38;5;241m=\u001b[39m \u001b[38;5;28mself\u001b[39m\u001b[38;5;241m.\u001b[39m_selector\u001b[38;5;241m.\u001b[39mpoll(timeout)\n\u001b[1;32m    416\u001b[0m \u001b[38;5;28;01mexcept\u001b[39;00m \u001b[38;5;167;01mInterruptedError\u001b[39;00m:\n\u001b[1;32m    417\u001b[0m     \u001b[38;5;28;01mreturn\u001b[39;00m ready\n",
      "\u001b[0;31mKeyboardInterrupt\u001b[0m: "
     ]
    }
   ],
   "source": [
    "import pandas as pd\n",
    "from plyfile import PlyData, PlyElement\n",
    "from torch.nn.functional import softmax\n",
    "\n",
    "for test_project in cfg.data._testProjects_:\n",
    "    proj_name = test_project['proj_name']\n",
    "    print(proj_name)\n",
    "    test_ds = FwfDataset(cfg, cfg.data.preprocessing._transformsValidation_, [test_project],\n",
    "                         return_resiIdx=True, return_projIdx=True)\n",
    "    test_ds.subsample_grid(0.02, save_inv=True)\n",
    "    test_ds.compute_neibors_knn(k=cfg.data.num_neib_normalsComputation)\n",
    "    test_ds.compute_normals_knn()\n",
    "    test_ds.compute_incAngles()\n",
    "    test_ds.compute_neibors_knn(k=cfg.data.num_neib_featureExtraction, verbose=True)\n",
    "    model = FGFeatNetwork(cfg=cfg,\n",
    "    num_input_feats = test_ds[0]['features_neibors'].shape[-1],\n",
    "    ).to(device=cfg.general.device)\n",
    "    model.load_state_dict(torch.load(os.path.join('./exp',exp,model_version), weights_only=True))\n",
    "    \n",
    "    test_dl = DataLoader(test_ds, batch_size=cfg.testing.batch_size, num_workers=cfg.general.num_workers)\n",
    "\n",
    "    \n",
    "\n",
    "    # initiate containers\n",
    "    all_preds_sub = [dict() for p in test_ds.projects]\n",
    "\n",
    "    if return_full_probs:\n",
    "        all_probs_sub = [dict() for p in test_ds.projects]\n",
    "\n",
    "\n",
    "    for pi, proj in enumerate(test_ds.projects):\n",
    "        for label_name in test_ds.label_names:\n",
    "\n",
    "            all_preds_sub[pi][label_name] = torch.ones(size = (test_ds.projects[pi]['xyz_sub'].shape[0],)).to(\n",
    "                device=cfg.general.device,dtype=torch.int64)*-1\n",
    "            if return_full_probs:\n",
    "                all_probs_sub[pi][label_name] = torch.ones(size = (test_ds.projects[pi]['xyz_sub'].shape[0],\n",
    "                    len(cfg.data.label_schema[label_name]))).to(device=cfg.general.device,dtype=torch.float32)*-1\n",
    "                \n",
    "    \n",
    "    # run test loop\n",
    "    with torch.no_grad():\n",
    "        for batch in tqdm(test_dl):\n",
    "            # put batch on device\n",
    "            for k, v in batch.items():\n",
    "                batch[k] = v.to(device=cfg.general.device)\n",
    "            out = model(batch)\n",
    "            probs = dict()\n",
    "            for k,v in out.items():\n",
    "                probs[k] = softmax(v,dim=-1)\n",
    "                preds = torch.argmax(probs[k], dim=-1)\n",
    "                all_preds_sub[0][k][batch['residual_idx']] = preds # assume dataset has one project inside !\n",
    "\n",
    "                all_probs_sub[0][k][batch['residual_idx']] = probs[k]\n",
    "        # convert to numpy and upsample\n",
    "        for k in cfg.data.label_names:\n",
    "            all_preds_sub[0][k] = all_preds_sub[0][k].cpu().detach().numpy()\n",
    "            all_preds_sub[0][k] = all_preds_sub[0][k][test_ds.projects[0]['sub_inv']]\n",
    "\n",
    "            all_probs_sub[0][k] = all_probs_sub[0][k].cpu().detach().numpy()\n",
    "            all_probs_sub[0][k] = all_probs_sub[0][k][test_ds.projects[0]['sub_inv']]\n",
    "\n",
    "    \n",
    "\n",
    "    probs = pd.DataFrame(all_probs_sub[0]['labels_3'], columns=cfg.data.label_schema['labels_3'].keys())\n",
    "\n",
    "    xyz = pd.DataFrame(np.concatenate([test_ds.projects[0]['xyz'], all_preds_sub[0]['labels_3'][:,None]], axis=1), columns = ['x','y','z','preds_3'])\n",
    "    pcd = pd.concat([xyz,probs], axis=1)\n",
    "    \n",
    "    PlyData([PlyElement.describe(pcd.to_records(index=False),'vertex')]).write(f\"./_temp/{proj_name.replace('.FwfProj','_0.02')}.ply\")\n",
    "\n",
    "         \n",
    "        \n",
    "\n",
    "    \n"
   ]
  },
  {
   "cell_type": "code",
   "execution_count": 7,
   "metadata": {},
   "outputs": [
    {
     "name": "stderr",
     "output_type": "stream",
     "text": [
      "100%|██████████| 2745/2745 [04:34<00:00, 10.01it/s]\n"
     ]
    }
   ],
   "source": [
    "# from torch.nn.functional import softmax\n",
    "# # run test loop\n",
    "# with torch.no_grad():\n",
    "#     for batch in tqdm(test_dl):\n",
    "#         # put batch on device\n",
    "#         for k, v in batch.items():\n",
    "#             batch[k] = v.to(device=cfg.general.device)\n",
    "#         out = model(batch)\n",
    "#         probs = dict()\n",
    "#         for k,v in out.items():\n",
    "#             probs[k] = softmax(v,dim=-1)\n",
    "#             preds = torch.argmax(probs[k], dim=-1)\n",
    "#             all_preds_sub[0][k][batch['residual_idx']] = preds # assume dataset has one project inside !\n",
    "\n",
    "#             all_probs_sub[0][k][batch['residual_idx']] = probs[k]\n",
    "#     # convert to numpy and upsample\n",
    "#     for k in cfg.data.label_names:\n",
    "#         all_preds_sub[0][k] = all_preds_sub[0][k].cpu().detach().numpy()\n",
    "#         all_preds_sub[0][k] = all_preds_sub[0][k][test_ds.projects[0]['sub_inv']]\n",
    "\n",
    "#         all_probs_sub[0][k] = all_probs_sub[0][k].cpu().detach().numpy()\n",
    "#         all_probs_sub[0][k] = all_probs_sub[0][k][test_ds.projects[0]['sub_inv']]\n",
    "\n",
    "\n",
    "\n",
    "            \n",
    "        \n"
   ]
  },
  {
   "cell_type": "code",
   "execution_count": 70,
   "metadata": {},
   "outputs": [
    {
     "data": {
      "text/plain": [
       "(1, 10117061)"
      ]
     },
     "execution_count": 70,
     "metadata": {},
     "output_type": "execute_result"
    }
   ],
   "source": [
    "all_preds_sub[0]['labels_3'][None,:].shape"
   ]
  },
  {
   "cell_type": "code",
   "execution_count": 62,
   "metadata": {},
   "outputs": [
    {
     "data": {
      "text/plain": [
       "[{'labels_3': array([11, 11, 11, ..., 11, 11, 11])}]"
      ]
     },
     "execution_count": 62,
     "metadata": {},
     "output_type": "execute_result"
    }
   ],
   "source": [
    "cfg.data.label_schema['labels_3']\n",
    "all_probs_sub"
   ]
  },
  {
   "cell_type": "code",
   "execution_count": 8,
   "metadata": {},
   "outputs": [],
   "source": [
    "# import pandas as pd\n",
    "# from plyfile import PlyData, PlyElement\n",
    "\n",
    "# probs = pd.DataFrame(all_probs_sub[0]['labels_3'], columns=cfg.data.label_schema['labels_3'].keys())\n",
    "\n",
    "# xyz = pd.DataFrame(np.concatenate([test_ds.projects[0]['xyz'], all_preds_sub[0]['labels_3'][:,None]], axis=1), columns = ['x','y','z','preds_3'])\n",
    "# pcd = pd.concat([xyz,probs], axis=1)\n",
    "# PlyData([PlyElement.describe(pcd.to_records(index=False),'vertex')]).write(f\"./_temp/test_preds_with_probs.ply\")\n"
   ]
  },
  {
   "cell_type": "code",
   "execution_count": 55,
   "metadata": {},
   "outputs": [
    {
     "ename": "NameError",
     "evalue": "name 'aps' is not defined",
     "output_type": "error",
     "traceback": [
      "\u001b[0;31m---------------------------------------------------------------------------\u001b[0m",
      "\u001b[0;31mNameError\u001b[0m                                 Traceback (most recent call last)",
      "Cell \u001b[0;32mIn[55], line 1\u001b[0m\n\u001b[0;32m----> 1\u001b[0m np\u001b[38;5;241m.\u001b[39munique(aps, return_counts\u001b[38;5;241m=\u001b[39m\u001b[38;5;28;01mTrue\u001b[39;00m)\n",
      "\u001b[0;31mNameError\u001b[0m: name 'aps' is not defined"
     ]
    }
   ],
   "source": [
    "np.unique(aps, return_counts=True)"
   ]
  },
  {
   "cell_type": "code",
   "execution_count": 24,
   "metadata": {},
   "outputs": [
    {
     "data": {
      "text/plain": [
       "tensor([[4.8074e-03, 2.2325e-05, 1.6447e-03,  ..., 3.2626e-04, 4.2728e-02,\n",
       "         9.1585e-01],\n",
       "        [4.1225e-03, 2.3528e-04, 1.1088e-02,  ..., 8.2548e-04, 6.7049e-02,\n",
       "         7.4982e-01],\n",
       "        [3.0914e-05, 5.9706e-09, 4.5178e-06,  ..., 1.6835e-07, 7.4231e-03,\n",
       "         9.9031e-01],\n",
       "        ...,\n",
       "        [4.1427e-05, 7.4030e-09, 1.5635e-06,  ..., 1.2962e-07, 1.2515e-02,\n",
       "         9.8635e-01],\n",
       "        [4.0414e-04, 7.6634e-08, 2.0110e-05,  ..., 4.0212e-06, 2.7116e-02,\n",
       "         9.6443e-01],\n",
       "        [1.0465e-03, 2.2469e-06, 2.0309e-04,  ..., 3.0270e-05, 2.5817e-02,\n",
       "         9.5214e-01]], device='cuda:0')"
      ]
     },
     "execution_count": 24,
     "metadata": {},
     "output_type": "execute_result"
    }
   ],
   "source": [
    "probs[k]"
   ]
  },
  {
   "cell_type": "code",
   "execution_count": 22,
   "metadata": {},
   "outputs": [],
   "source": []
  },
  {
   "cell_type": "code",
   "execution_count": 17,
   "metadata": {},
   "outputs": [
    {
     "data": {
      "text/plain": [
       "(10117061,)"
      ]
     },
     "execution_count": 17,
     "metadata": {},
     "output_type": "execute_result"
    }
   ],
   "source": []
  },
  {
   "cell_type": "code",
   "execution_count": 146,
   "metadata": {},
   "outputs": [
    {
     "ename": "KeyboardInterrupt",
     "evalue": "",
     "output_type": "error",
     "traceback": [
      "\u001b[0;31m---------------------------------------------------------------------------\u001b[0m",
      "\u001b[0;31mKeyboardInterrupt\u001b[0m                         Traceback (most recent call last)",
      "Cell \u001b[0;32mIn[146], line 2\u001b[0m\n\u001b[1;32m      1\u001b[0m (test_ds\u001b[38;5;241m.\u001b[39mprojects[\u001b[38;5;241m0\u001b[39m][\u001b[38;5;124m'\u001b[39m\u001b[38;5;124mlabels_sub\u001b[39m\u001b[38;5;124m'\u001b[39m]\u001b[38;5;241m.\u001b[39mreshape(\u001b[38;5;241m-\u001b[39m\u001b[38;5;241m1\u001b[39m) \u001b[38;5;241m==\u001b[39m aps)\u001b[38;5;241m.\u001b[39mastype(np\u001b[38;5;241m.\u001b[39mfloat32)\u001b[38;5;241m.\u001b[39mmean()\n\u001b[0;32m----> 2\u001b[0m aps_full \u001b[38;5;241m=\u001b[39m aps[test_ds][\u001b[38;5;241m0\u001b[39m][\u001b[38;5;124m'\u001b[39m\u001b[38;5;124minv_inds\u001b[39m\u001b[38;5;124m'\u001b[39m]\n",
      "File \u001b[0;32m/media/hristo/sharedData1/00_Projects/24-10-26_SPP_PCS/03_Code/fg-feat-extractor/data/fwf_dataset.py:244\u001b[0m, in \u001b[0;36mFwfDataset.__getitem__\u001b[0;34m(self, index)\u001b[0m\n\u001b[1;32m    240\u001b[0m \u001b[38;5;66;03m# get neibors of point at index\u001b[39;00m\n\u001b[1;32m    241\u001b[0m neibs \u001b[38;5;241m=\u001b[39m \u001b[38;5;28mself\u001b[39m\u001b[38;5;241m.\u001b[39mprojects[proj_idx][\u001b[38;5;124m'\u001b[39m\u001b[38;5;124mneibors\u001b[39m\u001b[38;5;124m'\u001b[39m][residual_idx]\n\u001b[1;32m    243\u001b[0m return_dict \u001b[38;5;241m=\u001b[39m \u001b[38;5;28mdict\u001b[39m(\n\u001b[0;32m--> 244\u001b[0m     features_neibors \u001b[38;5;241m=\u001b[39m np\u001b[38;5;241m.\u001b[39mconcatenate(\n\u001b[1;32m    245\u001b[0m         [\n\u001b[1;32m    246\u001b[0m             \u001b[38;5;28mself\u001b[39m\u001b[38;5;241m.\u001b[39mtransforms_dict[f](\u001b[38;5;28mself\u001b[39m\u001b[38;5;241m.\u001b[39mprojects[proj_idx][f][neibs])\n\u001b[1;32m    247\u001b[0m             \u001b[38;5;28;01mif\u001b[39;00m f \u001b[38;5;129;01min\u001b[39;00m \u001b[38;5;28mself\u001b[39m\u001b[38;5;241m.\u001b[39mtransforms_dict \u001b[38;5;28;01melse\u001b[39;00m \u001b[38;5;28mself\u001b[39m\u001b[38;5;241m.\u001b[39mprojects[proj_idx][f][neibs]\n\u001b[1;32m    248\u001b[0m             \u001b[38;5;28;01mfor\u001b[39;00m f \u001b[38;5;129;01min\u001b[39;00m \u001b[38;5;28mself\u001b[39m\u001b[38;5;241m.\u001b[39mcfg\u001b[38;5;241m.\u001b[39mdata\u001b[38;5;241m.\u001b[39mscalar_input_fields\n\u001b[1;32m    249\u001b[0m         ],\n\u001b[1;32m    250\u001b[0m         axis\u001b[38;5;241m=\u001b[39m\u001b[38;5;241m-\u001b[39m\u001b[38;5;241m1\u001b[39m\n\u001b[1;32m    251\u001b[0m     )\u001b[38;5;241m.\u001b[39mastype(np\u001b[38;5;241m.\u001b[39mfloat32),\n\u001b[1;32m    252\u001b[0m     features_point \u001b[38;5;241m=\u001b[39m np\u001b[38;5;241m.\u001b[39mconcatenate(\n\u001b[1;32m    253\u001b[0m         [\n\u001b[1;32m    254\u001b[0m             \u001b[38;5;28mself\u001b[39m\u001b[38;5;241m.\u001b[39mtransforms_dict[f](\u001b[38;5;28mself\u001b[39m\u001b[38;5;241m.\u001b[39mprojects[proj_idx][f][residual_idx][\u001b[38;5;28;01mNone\u001b[39;00m,:])\n\u001b[1;32m    255\u001b[0m             \u001b[38;5;28;01mif\u001b[39;00m f \u001b[38;5;129;01min\u001b[39;00m \u001b[38;5;28mself\u001b[39m\u001b[38;5;241m.\u001b[39mtransforms_dict \u001b[38;5;28;01melse\u001b[39;00m \u001b[38;5;28mself\u001b[39m\u001b[38;5;241m.\u001b[39mprojects[proj_idx][f][residual_idx][\u001b[38;5;28;01mNone\u001b[39;00m,:]\n\u001b[1;32m    256\u001b[0m             \u001b[38;5;28;01mfor\u001b[39;00m f \u001b[38;5;129;01min\u001b[39;00m \u001b[38;5;28mself\u001b[39m\u001b[38;5;241m.\u001b[39mcfg\u001b[38;5;241m.\u001b[39mdata\u001b[38;5;241m.\u001b[39mscalar_input_fields\n\u001b[1;32m    257\u001b[0m         ],\n\u001b[1;32m    258\u001b[0m         axis\u001b[38;5;241m=\u001b[39m\u001b[38;5;241m-\u001b[39m\u001b[38;5;241m1\u001b[39m\n\u001b[1;32m    259\u001b[0m     )\u001b[38;5;241m.\u001b[39mastype(np\u001b[38;5;241m.\u001b[39mfloat32)\n\u001b[1;32m    260\u001b[0m )\n\u001b[1;32m    262\u001b[0m \u001b[38;5;66;03m# add waveforms\u001b[39;00m\n\u001b[1;32m    263\u001b[0m return_dict\u001b[38;5;241m.\u001b[39mupdate(\u001b[38;5;28mdict\u001b[39m(\n\u001b[1;32m    264\u001b[0m     wfm_neibors \u001b[38;5;241m=\u001b[39m \u001b[38;5;28mself\u001b[39m\u001b[38;5;241m.\u001b[39mprojects[proj_idx][\u001b[38;5;124m'\u001b[39m\u001b[38;5;124mwfm\u001b[39m\u001b[38;5;124m'\u001b[39m][neibs] \u001b[38;5;28;01mif\u001b[39;00m \u001b[38;5;28mself\u001b[39m\u001b[38;5;241m.\u001b[39mcfg\u001b[38;5;241m.\u001b[39mdata\u001b[38;5;241m.\u001b[39mfw_input_field \u001b[38;5;28;01melse\u001b[39;00m \u001b[38;5;28;01mNone\u001b[39;00m,\n\u001b[1;32m    265\u001b[0m     wfm_point \u001b[38;5;241m=\u001b[39m \u001b[38;5;28mself\u001b[39m\u001b[38;5;241m.\u001b[39mprojects[proj_idx][\u001b[38;5;124m'\u001b[39m\u001b[38;5;124mwfm\u001b[39m\u001b[38;5;124m'\u001b[39m][residual_idx][\u001b[38;5;28;01mNone\u001b[39;00m,:] \u001b[38;5;28;01mif\u001b[39;00m \u001b[38;5;28mself\u001b[39m\u001b[38;5;241m.\u001b[39mcfg\u001b[38;5;241m.\u001b[39mdata\u001b[38;5;241m.\u001b[39mfw_input_field \u001b[38;5;28;01melse\u001b[39;00m \u001b[38;5;28;01mNone\u001b[39;00m,\n\u001b[1;32m    266\u001b[0m )) \u001b[38;5;66;03m# type:ignore\u001b[39;00m\n",
      "\u001b[0;31mKeyboardInterrupt\u001b[0m: "
     ]
    }
   ],
   "source": [
    "(test_ds.projects[0]['labels_sub'].reshape(-1) == aps).astype(np.float32).mean()\n",
    "aps[test_ds][0]['inv_inds']"
   ]
  },
  {
   "cell_type": "code",
   "execution_count": 134,
   "metadata": {},
   "outputs": [],
   "source": []
  },
  {
   "cell_type": "code",
   "execution_count": 40,
   "metadata": {},
   "outputs": [
    {
     "data": {
      "text/plain": [
       "12"
      ]
     },
     "execution_count": 40,
     "metadata": {},
     "output_type": "execute_result"
    }
   ],
   "source": [
    "len(cfg.data.label_schema[label_name])"
   ]
  },
  {
   "cell_type": "code",
   "execution_count": 37,
   "metadata": {},
   "outputs": [
    {
     "data": {
      "text/plain": [
       "'labels_3'"
      ]
     },
     "execution_count": 37,
     "metadata": {},
     "output_type": "execute_result"
    }
   ],
   "source": [
    "label_name"
   ]
  },
  {
   "cell_type": "code",
   "execution_count": 10,
   "metadata": {},
   "outputs": [
    {
     "data": {
      "text/plain": [
       "(10117061,)"
      ]
     },
     "execution_count": 10,
     "metadata": {},
     "output_type": "execute_result"
    }
   ],
   "source": [
    "test_ds.projects[0]['sub_inv'].shape"
   ]
  }
 ],
 "metadata": {
  "kernelspec": {
   "display_name": "base",
   "language": "python",
   "name": "python3"
  },
  "language_info": {
   "codemirror_mode": {
    "name": "ipython",
    "version": 3
   },
   "file_extension": ".py",
   "mimetype": "text/x-python",
   "name": "python",
   "nbconvert_exporter": "python",
   "pygments_lexer": "ipython3",
   "version": "3.12.7"
  }
 },
 "nbformat": 4,
 "nbformat_minor": 2
}
