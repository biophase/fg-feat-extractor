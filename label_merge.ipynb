{
 "cells": [
  {
   "cell_type": "code",
   "execution_count": 42,
   "metadata": {},
   "outputs": [],
   "source": [
    "from plyfile import PlyData, PlyElement\n",
    "from glob import glob\n",
    "from utils.pointcloud import grid_subsample_simple\n",
    "import os\n",
    "from omegaconf import OmegaConf\n",
    "import shutil\n",
    "import pandas as pd\n",
    "from scipy.spatial import KDTree\n",
    "import numpy as np\n",
    "import json\n",
    "\n",
    "\n",
    "\n"
   ]
  },
  {
   "cell_type": "code",
   "execution_count": 43,
   "metadata": {},
   "outputs": [],
   "source": [
    "cfg = OmegaConf.merge(\n",
    "    OmegaConf.load(\"./config/default.yaml\"),\n",
    "    OmegaConf.load(\"./config/subsampling.yaml\"),\n",
    "    OmegaConf.load(\"./config/label_merge.yaml\"))\n",
    "\n",
    "\n",
    "in_dir = cfg.data.preprocess_raw.output_dir_subsampling\n",
    "out_dir = cfg.data.preprocess_raw.output_dir_merged"
   ]
  },
  {
   "cell_type": "code",
   "execution_count": 47,
   "metadata": {},
   "outputs": [
    {
     "name": "stdout",
     "output_type": "stream",
     "text": [
      "{'labels_0': {'manMade': 0, 'natural': 1, 'scanArtefact': 2}, 'labels_1': {'_unspecified': 0, 'building': 1, 'movingObject': 2, 'naturalGround': 3, 'sealedSurface': 4, 'streetFurniture': 5, 'vegetation': 6, 'vehicle': 7}, 'labels_2': {'_unspecified': 0, 'bicycle': 1, 'car': 2, 'electricalAppliance': 3, 'facadeSurface': 4, 'fence': 5, 'frameElement': 6, 'kerbStone': 7, 'naturalGround': 8, 'nonTiledPaving': 9, 'pipeLike': 10, 'scooter': 11, 'shaft': 12, 'sign': 13, 'stair': 14, 'tiledPaving': 15, 'trashCan': 16, 'vegetation': 17}, 'labels_3': {'_unspecified': 0, 'asphalt': 1, 'brick': 2, 'cable': 3, 'concrete': 4, 'marking': 5, 'mesh': 6, 'metal': 7, 'naturalStone': 8, 'poster': 9, 'treeTrunk': 10, 'vegetation': 11}}\n",
      "2023-08-28_FW_EingangBauing.FwfProj\n",
      "2024-03-22_FW_Koenigshuegel.FwfProj\n",
      "2024-04-05_FW_Westbahnhof_01.FwfProj\n",
      "2024-04-05_FW_Westbahnhof_02.FwfProj\n",
      "2024-04-05_FW_Westbahnhof_03.FwfProj\n",
      "2024-04-05_FW_Westbahnhof_04.FwfProj\n",
      "2024-04-05_FW_Westbahnhof_05.FwfProj\n",
      "2024-05-10_FW_RWTH_Zentrum_01.FwfProj\n",
      "2024-07-31_FW_Bruecke_Koenigstr.FwfProj\n",
      "2024-07-31_FW_Bruecke_Turmstr.FwfProj\n",
      "2024-08-02_FW_Bruecke_A44_VerlautenheidenerStr.FwfProj\n",
      "2024-08-02_FW_Bruecke_Deltourserb.FwfProj\n",
      "2024-08-02_FW_Bruecke_Kasinostrasse.FwfProj\n",
      "2024-08-02_FW_Bruecke_RotheErde.FwfProj\n",
      "2024-08-02_FW_Bruecke_Rottstrasse.FwfProj\n"
     ]
    }
   ],
   "source": [
    "# build mapping\n",
    "with open(os.path.join(in_dir,\"class_dict.json\"),'r') as f: # get input schema\n",
    "    label_schema_old = json.load(f)\n",
    "mapping = dict()\n",
    "for label_level in label_schema_old.keys():\n",
    "    mapping[label_level] = dict()\n",
    "    for label_name in label_schema_old[label_level].keys():\n",
    "        \n",
    "        if cfg.data.label_merge.groups[label_level] and label_name in [v for vs in cfg.data.label_merge.groups[label_level].values() for v in vs]:\n",
    "            k = [k for k,v in cfg.data.label_merge.groups[label_level].items() if label_name in v][0]\n",
    "            mapping[label_level][label_name] = k\n",
    "        else:\n",
    "            mapping[label_level][label_name] = label_name\n",
    "        \n",
    "\n",
    "# build new schema\n",
    "label_schema_new = dict()\n",
    "for label_level in mapping.keys():\n",
    "    new_label_names = np.unique(list(mapping[label_level].values()))\n",
    "    label_schema_new[label_level]={v:k for k,v in enumerate(new_label_names)}\n",
    "\n",
    "# build nummeric mapping for efficient indexing\n",
    "mapping_nummeric = dict()\n",
    "for label_level in label_schema_old.keys():\n",
    "    mapping_nummeric[label_level]=dict()\n",
    "    for label_name_old, label_idx_old in label_schema_old[label_level].items():\n",
    "        mapping_nummeric[label_level][label_idx_old] = label_schema_new[label_level][mapping[label_level][label_name_old]]\n",
    "    mapping_array = np.ones(len(mapping_nummeric[label_level]))*-1\n",
    "    for o,n in mapping_nummeric[label_level].items():\n",
    "        mapping_array[o] = n\n",
    "    mapping_nummeric[label_level] = mapping_array\n",
    "    assert np.all(mapping_array >= 0), \"Some elements couldn't be mapped correctly\"\n",
    "\n",
    "print(label_schema_new)\n",
    "\n",
    "for proj_fp in glob(os.path.join(in_dir, \"*.FwfProj\")):\n",
    "    project_name = os.path.basename(proj_fp)\n",
    "    print(f\"{project_name}\")\n",
    "\n",
    "    pcd_fp = list(glob(os.path.join(proj_fp,'labeled',\"*_pointcloud.ply\")))[0]\n",
    "    waveform_fp = list(glob(os.path.join(proj_fp,'labeled',\"*_waveform.npy\")))[0]\n",
    "    meta_fp = waveform = list(glob(os.path.join(proj_fp,'labeled',\"*_metadata.json\")))[0]\n",
    "\n",
    "    pcd = pd.DataFrame.from_dict(PlyData.read(pcd_fp).elements[0].data)\n",
    "    \n",
    "    \n",
    "    for label_level in label_schema_old.keys():\n",
    "        pcd[label_level] = mapping_nummeric[label_level][pcd[label_level]].astype(np.uint8)\n",
    "    \n",
    "    proj_out_dir = os.path.join(out_dir,project_name,'labeled')\n",
    "    os.makedirs(proj_out_dir)\n",
    "\n",
    "    PlyData([PlyElement.describe(pcd.to_records(index=False),'vertex')]).write(os.path.join(proj_out_dir, os.path.basename(pcd_fp)))\n",
    "    shutil.copy(waveform_fp,os.path.join(proj_out_dir,os.path.basename(waveform_fp)))\n",
    "    shutil.copy(meta_fp,os.path.join(proj_out_dir,os.path.basename(meta_fp)))\n",
    "\n",
    "\n",
    "with open(os.path.join(out_dir,\"class_dict.json\"),'w') as f:\n",
    "    json.dump(label_schema_new, f)\n"
   ]
  },
  {
   "cell_type": "code",
   "execution_count": null,
   "metadata": {},
   "outputs": [],
   "source": []
  }
 ],
 "metadata": {
  "kernelspec": {
   "display_name": "base",
   "language": "python",
   "name": "python3"
  },
  "language_info": {
   "codemirror_mode": {
    "name": "ipython",
    "version": 3
   },
   "file_extension": ".py",
   "mimetype": "text/x-python",
   "name": "python",
   "nbconvert_exporter": "python",
   "pygments_lexer": "ipython3",
   "version": "3.12.7"
  }
 },
 "nbformat": 4,
 "nbformat_minor": 2
}
