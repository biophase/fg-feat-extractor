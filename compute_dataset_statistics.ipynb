{
 "cells": [
  {
   "cell_type": "code",
   "execution_count": 1,
   "metadata": {},
   "outputs": [
    {
     "name": "stdout",
     "output_type": "stream",
     "text": [
      "Loading '2024-03-22_FW_Koenigshuegel.FwfProj'; Bounding box IDs = default\n",
      "Loading '2024-04-05_FW_Westbahnhof_02.FwfProj'; Bounding box IDs = default\n",
      "Loading '2024-04-05_FW_Westbahnhof_03.FwfProj'; Bounding box IDs = default\n",
      "Loading '2024-04-05_FW_Westbahnhof_04.FwfProj'; Bounding box IDs = default\n",
      "Loading '2024-04-05_FW_Westbahnhof_05.FwfProj'; Bounding box IDs = default\n",
      "Loading '2024-05-10_FW_RWTH_Zentrum_01.FwfProj'; Bounding box IDs = default\n",
      "Loading '2024-07-31_FW_Bruecke_Koenigstr.FwfProj'; Bounding box IDs = [0, 2]\n",
      "Loading '2024-08-02_FW_Bruecke_A44_VerlautenheidenerStr.FwfProj'; Bounding box IDs = default\n",
      "Loading '2024-08-02_FW_Bruecke_Deltourserb.FwfProj'; Bounding box IDs = default\n",
      "Loading '2024-08-02_FW_Bruecke_Kasinostrasse.FwfProj'; Bounding box IDs = [1]\n",
      "Loading '2024-08-02_FW_Bruecke_RotheErde.FwfProj'; Bounding box IDs = default\n",
      "Loading '2024-08-02_FW_Bruecke_Rottstrasse.FwfProj'; Bounding box IDs = default\n",
      "Loading '2023-08-28_FW_EingangBauing.FwfProj'; Bounding box IDs = default\n",
      "Loading '2024-04-05_FW_Westbahnhof_01.FwfProj'; Bounding box IDs = default\n",
      "Loading '2024-07-31_FW_Bruecke_Koenigstr.FwfProj'; Bounding box IDs = [1]\n",
      "Loading '2024-08-02_FW_Bruecke_Kasinostrasse.FwfProj'; Bounding box IDs = [0]\n",
      "Loading '2024-07-31_FW_Bruecke_Turmstr.FwfProj'; Bounding box IDs = default\n"
     ]
    }
   ],
   "source": [
    "from omegaconf import OmegaConf\n",
    "from plyfile import PlyData\n",
    "import os\n",
    "import json\n",
    "import numpy as np\n",
    "\n",
    "from data.fwf_dataset import FwfDataset\n",
    "\n",
    "# assemble config\n",
    "cfg = OmegaConf.load('./config/default.yaml')\n",
    "cfg = OmegaConf.merge(cfg, OmegaConf.load(cfg.data.split))\n",
    "with open(os.path.join(cfg.data.dataset_root, 'class_dict.json'),'r') as f:\n",
    "    cfg = OmegaConf.merge(cfg, OmegaConf.create({'data':{'label_schema':json.load(f)}}))\n",
    "\n",
    "# overwrite to load all labels\n",
    "cfg.data.label_names = [f'labels_{i}' for i in range(4)]\n",
    "\n",
    "train_ds = FwfDataset(cfg, cfg.data.preprocessing._transformsTraining_, cfg.data._trainProjects_)\n",
    "val_ds = FwfDataset(cfg, cfg.data.preprocessing._transformsValidation_, cfg.data._valProjects_)\n"
   ]
  },
  {
   "cell_type": "code",
   "execution_count": 47,
   "metadata": {},
   "outputs": [],
   "source": [
    "statistics = dict( # dataset -> level -> class\n",
    "    train_ds = dict(),\n",
    "    val_ds = dict()\n",
    ")\n",
    "# for every dataset\n",
    "for dataset_name in statistics.keys():\n",
    "    dataset = locals().get(dataset_name)\n",
    "    # for every level\n",
    "    for i, level in enumerate(cfg.data.label_names):\n",
    "        num_classes = len(cfg.data.label_schema[level])\n",
    "        identity = np.eye(num_classes,dtype=int)\n",
    "        counter = np.zeros(shape=(num_classes),dtype=int)\n",
    "        for project in dataset.projects:\n",
    "            # count labels in this project\n",
    "            counter += identity[project['labels'][:,i]].sum(axis=0)\n",
    "        statistics[dataset_name][level] = [int(c) for c in counter]\n",
    "\n",
    "# gather complete statistics over both datasets\n",
    "full = dict()\n",
    "for i, level in enumerate(cfg.data.label_names):\n",
    "    counts = []\n",
    "    for dataset_name in statistics.keys():\n",
    "        counts.append(statistics[dataset_name][level])\n",
    "    full[level] = [int(sum(pair)) for pair in zip(*counts)]\n",
    "\n",
    "# add to dict\n",
    "statistics.update(full = full)\n",
    "\n",
    "with open(os.path.join(cfg.data.dataset_root, 'class_weights.json'),'w') as f:\n",
    "    json.dump(statistics, f, indent=3)\n"
   ]
  },
  {
   "cell_type": "code",
   "execution_count": 3,
   "metadata": {},
   "outputs": [
    {
     "data": {
      "text/plain": [
       "{'train_ds': {'labels_0': [73641615, 15583841, 1368776],\n",
       "  'labels_1': [22744,\n",
       "   46910754,\n",
       "   1364776,\n",
       "   1237165,\n",
       "   23916116,\n",
       "   2250175,\n",
       "   14346668,\n",
       "   545834],\n",
       "  'labels_2': [1443607,\n",
       "   159141,\n",
       "   370931,\n",
       "   681130,\n",
       "   45956569,\n",
       "   450222,\n",
       "   1309643,\n",
       "   517010,\n",
       "   1237173,\n",
       "   15668918,\n",
       "   653492,\n",
       "   15762,\n",
       "   67791,\n",
       "   175490,\n",
       "   107384,\n",
       "   7422802,\n",
       "   10499,\n",
       "   14346668],\n",
       "  'labels_3': [2192166,\n",
       "   13521951,\n",
       "   6197361,\n",
       "   149414,\n",
       "   35502219,\n",
       "   440880,\n",
       "   2268701,\n",
       "   8351338,\n",
       "   4710122,\n",
       "   1681201,\n",
       "   584644,\n",
       "   14994235]},\n",
       " 'val_ds': {'labels_0': [32561170, 7343657, 489903],\n",
       "  'labels_1': [11606,\n",
       "   20676566,\n",
       "   489871,\n",
       "   310136,\n",
       "   10201192,\n",
       "   1583999,\n",
       "   7033517,\n",
       "   87843],\n",
       "  'labels_2': [671753,\n",
       "   0,\n",
       "   66923,\n",
       "   339968,\n",
       "   20030569,\n",
       "   335269,\n",
       "   838595,\n",
       "   296660,\n",
       "   310140,\n",
       "   5667618,\n",
       "   460414,\n",
       "   11893,\n",
       "   43931,\n",
       "   80383,\n",
       "   159011,\n",
       "   4034836,\n",
       "   13250,\n",
       "   7033517],\n",
       "  'labels_3': [1225311,\n",
       "   5146020,\n",
       "   726378,\n",
       "   72820,\n",
       "   13263239,\n",
       "   174486,\n",
       "   2050733,\n",
       "   7569478,\n",
       "   2126763,\n",
       "   705826,\n",
       "   255378,\n",
       "   7078298]},\n",
       " 'full': {'labels_0': [106202785, 22927498, 1858679],\n",
       "  'labels_1': [34350,\n",
       "   67587320,\n",
       "   1854647,\n",
       "   1547301,\n",
       "   34117308,\n",
       "   3834174,\n",
       "   21380185,\n",
       "   633677],\n",
       "  'labels_2': [2115360,\n",
       "   159141,\n",
       "   437854,\n",
       "   1021098,\n",
       "   65987138,\n",
       "   785491,\n",
       "   2148238,\n",
       "   813670,\n",
       "   1547313,\n",
       "   21336536,\n",
       "   1113906,\n",
       "   27655,\n",
       "   111722,\n",
       "   255873,\n",
       "   266395,\n",
       "   11457638,\n",
       "   23749,\n",
       "   21380185],\n",
       "  'labels_3': [3417477,\n",
       "   18667971,\n",
       "   6923739,\n",
       "   222234,\n",
       "   48765458,\n",
       "   615366,\n",
       "   4319434,\n",
       "   15920816,\n",
       "   6836885,\n",
       "   2387027,\n",
       "   840022,\n",
       "   22072533]}}"
      ]
     },
     "execution_count": 3,
     "metadata": {},
     "output_type": "execute_result"
    }
   ],
   "source": [
    "statistics"
   ]
  },
  {
   "cell_type": "code",
   "execution_count": 4,
   "metadata": {},
   "outputs": [
    {
     "data": {
      "text/plain": [
       "array([[ 1,  6, 17, 11],\n",
       "       [ 1,  6, 17, 11],\n",
       "       [ 1,  6, 17, 11],\n",
       "       ...,\n",
       "       [ 0,  4, 15,  4],\n",
       "       [ 0,  4, 15,  4],\n",
       "       [ 0,  4, 15,  4]], dtype=uint8)"
      ]
     },
     "execution_count": 4,
     "metadata": {},
     "output_type": "execute_result"
    }
   ],
   "source": [
    "train_ds.projects[0]['labels']"
   ]
  },
  {
   "cell_type": "code",
   "execution_count": 50,
   "metadata": {},
   "outputs": [],
   "source": [
    "from copy import deepcopy\n",
    "class_weights = deepcopy(statistics)\n",
    "for ds in class_weights.keys():\n",
    "    for level in class_weights[ds].keys():\n",
    "        counts = class_weights[ds][level]\n",
    "        class_weights[ds][level] = np.array([(1/(n_k+1))/sum([1/(n_j+1) for n_j in counts]) for n_k in counts])\n"
   ]
  },
  {
   "cell_type": "code",
   "execution_count": 17,
   "metadata": {},
   "outputs": [
    {
     "data": {
      "text/plain": [
       "(870520, 4)"
      ]
     },
     "execution_count": 17,
     "metadata": {},
     "output_type": "execute_result"
    }
   ],
   "source": [
    "train_ds.projects[0]['labels'].shape"
   ]
  },
  {
   "cell_type": "code",
   "execution_count": 56,
   "metadata": {},
   "outputs": [
    {
     "name": "stdout",
     "output_type": "stream",
     "text": [
      "{'train_ds': {'labels_0': array([0.01679923, 0.07938494, 0.90381583]), 'labels_1': array([9.17557495e-01, 4.44884019e-04, 1.52917621e-02, 1.68690743e-02,\n",
      "       8.72626824e-04, 9.27476127e-03, 1.45468228e-03, 3.82347142e-02]), 'labels_2': array([3.34436330e-03, 3.03373692e-02, 1.30157269e-02, 7.08813666e-03,\n",
      "       1.05054612e-04, 1.07234628e-02, 3.68645953e-03, 9.33819515e-03,\n",
      "       3.90240145e-03, 3.08122699e-04, 7.38791328e-03, 3.06283678e-01,\n",
      "       7.12170995e-02, 2.75110952e-02, 4.49592551e-02, 6.50421359e-04,\n",
      "       4.59804725e-01, 3.36520597e-04]), 'labels_3': array([0.03556773, 0.00576621, 0.01258122, 0.52183787, 0.00219621,\n",
      "       0.17685136, 0.03436785, 0.00933628, 0.01655379, 0.04637777,\n",
      "       0.13336367, 0.00520003])}, 'val_ds': {'labels_0': array([0.01390853, 0.06166928, 0.92442218]), 'labels_1': array([8.30614205e-01, 4.66273685e-04, 1.96805269e-02, 3.10860655e-02,\n",
      "       9.45079569e-04, 6.08645144e-03, 1.37071364e-03, 1.09750684e-01]), 'labels_2': array([1.48829198e-06, 9.99766090e-01, 1.49388275e-05, 2.94075663e-06,\n",
      "       4.99120140e-08, 2.98197301e-06, 1.19219039e-06, 3.37006243e-06,\n",
      "       3.22358569e-06, 1.76399664e-07, 2.17144552e-06, 8.40563385e-05,\n",
      "       2.27571267e-05, 1.24373767e-05, 6.28736253e-06, 2.47783514e-07,\n",
      "       7.54483503e-05, 1.42143105e-07]), 'labels_3': array([0.02864613, 0.00682089, 0.0483225 , 0.48201003, 0.00264645,\n",
      "       0.20116371, 0.01711604, 0.0046371 , 0.01650416, 0.04972954,\n",
      "       0.13744455, 0.00495888])}, 'full': {'labels_0': array([0.01593094, 0.07379393, 0.91027513]), 'labels_1': array([9.03332569e-01, 4.59115358e-04, 1.67311409e-02, 2.00545059e-02,\n",
      "       9.09520065e-04, 8.09310402e-03, 1.45136142e-03, 4.89686830e-02]), 'labels_2': array([4.31310448e-03, 5.73310188e-02, 2.08374302e-02, 8.93524820e-03,\n",
      "       1.38265928e-04, 1.16153608e-02, 4.24709401e-03, 1.12130984e-02,\n",
      "       5.89652326e-03, 4.27612644e-04, 8.19078522e-03, 3.29902119e-01,\n",
      "       8.16642320e-02, 3.56572883e-02, 3.42489114e-02, 7.96304806e-04,\n",
      "       3.84158863e-01, 4.26739646e-04]), 'labels_3': array([0.03351364, 0.00613522, 0.01654195, 0.515365  , 0.00234863,\n",
      "       0.18612006, 0.02651554, 0.00719386, 0.01675209, 0.04798106,\n",
      "       0.13634405, 0.0051889 ])}}\n"
     ]
    }
   ],
   "source": [
    "print(class_weights)"
   ]
  },
  {
   "cell_type": "code",
   "execution_count": 61,
   "metadata": {},
   "outputs": [],
   "source": [
    "kind = 'full'\n",
    "\n",
    "proj = train_ds.projects[0]\n",
    "weights = []\n",
    "for li, label_name in enumerate(cfg.data.label_names):\n",
    "    labels = proj['labels'][:,li]\n",
    "    weights_level = np.array(class_weights[kind][label_name][labels],dtype=np.float64)\n",
    "    weights_level /= weights_level.sum()\n",
    "    weights.append(weights_level[:, None])\n",
    "weights = np.concatenate(weights,axis=-1).mean(axis=-1)"
   ]
  }
 ],
 "metadata": {
  "kernelspec": {
   "display_name": "base",
   "language": "python",
   "name": "python3"
  },
  "language_info": {
   "codemirror_mode": {
    "name": "ipython",
    "version": 3
   },
   "file_extension": ".py",
   "mimetype": "text/x-python",
   "name": "python",
   "nbconvert_exporter": "python",
   "pygments_lexer": "ipython3",
   "version": "3.12.7"
  }
 },
 "nbformat": 4,
 "nbformat_minor": 2
}
