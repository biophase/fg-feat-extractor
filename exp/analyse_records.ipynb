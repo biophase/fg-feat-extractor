{
 "cells": [
  {
   "cell_type": "code",
   "execution_count": 154,
   "metadata": {},
   "outputs": [
    {
     "name": "stdout",
     "output_type": "stream",
     "text": [
      "2024-12-16_01-19-40_v002\n",
      "2024-12-16_02-12-37_v003\n",
      "2024-12-16_03-07-36_v005\n",
      "2024-12-16_04-14-52_v000\n",
      "2024-12-16_05-25-50_v001\n",
      "2024-12-16_06-32-56_v004\n",
      "2024-12-16_15-22-33_v005\n",
      "2024-12-16_16-04-25_v006\n",
      "2024-12-16_16-55-20_v007\n"
     ]
    }
   ],
   "source": [
    "import pandas as pd\n",
    "from glob import glob\n",
    "import pickle\n",
    "from omegaconf import OmegaConf\n",
    "import os\n",
    "import numpy as np\n",
    "\n",
    "search_pattern_report=\"./batch_1-2/*/test/*pkl\"\n",
    "search_pattern_config=\"./batch_1-2/*/config.yaml\"\n",
    "\n",
    "\n",
    "# load the reports\n",
    "exp_reports = dict()\n",
    "for report_fp in glob(search_pattern_report):\n",
    "    # recover experiment name from path\n",
    "    n = [n for n in report_fp.split(os.sep) if '_v' in n][0]\n",
    "    print(n)\n",
    "    with open(report_fp, 'rb') as f:\n",
    "        report = pickle.load(f)\n",
    "        exp_reports.update({n:report})\n",
    "configs = [OmegaConf.load(cfg_fp) for cfg_fp in glob(search_pattern_config)]\n",
    "assert len(configs) == len(exp_reports)"
   ]
  },
  {
   "cell_type": "code",
   "execution_count": 109,
   "metadata": {},
   "outputs": [
    {
     "data": {
      "text/plain": [
       "['mIoU@L3', 'mAcc@L3']"
      ]
     },
     "execution_count": 109,
     "metadata": {},
     "output_type": "execute_result"
    }
   ],
   "source": []
  },
  {
   "cell_type": "code",
   "execution_count": 110,
   "metadata": {},
   "outputs": [],
   "source": []
  },
  {
   "cell_type": "code",
   "execution_count": 117,
   "metadata": {},
   "outputs": [
    {
     "data": {
      "text/plain": [
       "[0, 1]"
      ]
     },
     "execution_count": 117,
     "metadata": {},
     "output_type": "execute_result"
    }
   ],
   "source": [
    "list(range(len(columns_overview)-1))"
   ]
  },
  {
   "cell_type": "code",
   "execution_count": 125,
   "metadata": {},
   "outputs": [
    {
     "data": {
      "text/html": [
       "<div>\n",
       "<style scoped>\n",
       "    .dataframe tbody tr th:only-of-type {\n",
       "        vertical-align: middle;\n",
       "    }\n",
       "\n",
       "    .dataframe tbody tr th {\n",
       "        vertical-align: top;\n",
       "    }\n",
       "\n",
       "    .dataframe thead th {\n",
       "        text-align: right;\n",
       "    }\n",
       "</style>\n",
       "<table border=\"1\" class=\"dataframe\">\n",
       "  <thead>\n",
       "    <tr style=\"text-align: right;\">\n",
       "      <th></th>\n",
       "      <th>experiment_name</th>\n",
       "      <th>mIoU@L3</th>\n",
       "      <th>mAcc@L3</th>\n",
       "    </tr>\n",
       "  </thead>\n",
       "  <tbody>\n",
       "  </tbody>\n",
       "</table>\n",
       "</div>"
      ],
      "text/plain": [
       "Empty DataFrame\n",
       "Columns: [experiment_name, mIoU@L3, mAcc@L3]\n",
       "Index: []"
      ]
     },
     "execution_count": 125,
     "metadata": {},
     "output_type": "execute_result"
    }
   ],
   "source": [
    "df_overview"
   ]
  },
  {
   "cell_type": "code",
   "execution_count": 122,
   "metadata": {},
   "outputs": [
    {
     "data": {
      "text/html": [
       "<div>\n",
       "<style scoped>\n",
       "    .dataframe tbody tr th:only-of-type {\n",
       "        vertical-align: middle;\n",
       "    }\n",
       "\n",
       "    .dataframe tbody tr th {\n",
       "        vertical-align: top;\n",
       "    }\n",
       "\n",
       "    .dataframe thead th {\n",
       "        text-align: right;\n",
       "    }\n",
       "</style>\n",
       "<table border=\"1\" class=\"dataframe\">\n",
       "  <thead>\n",
       "    <tr style=\"text-align: right;\">\n",
       "      <th></th>\n",
       "      <th>experiment_name</th>\n",
       "      <th>mIoU@L3</th>\n",
       "      <th>mAcc@L3</th>\n",
       "    </tr>\n",
       "  </thead>\n",
       "  <tbody>\n",
       "    <tr>\n",
       "      <th>0</th>\n",
       "      <td>2024-12-16_01-19-40_v002</td>\n",
       "      <td>None</td>\n",
       "      <td>None</td>\n",
       "    </tr>\n",
       "  </tbody>\n",
       "</table>\n",
       "</div>"
      ],
      "text/plain": [
       "            experiment_name mIoU@L3 mAcc@L3\n",
       "0  2024-12-16_01-19-40_v002    None    None"
      ]
     },
     "execution_count": 122,
     "metadata": {},
     "output_type": "execute_result"
    }
   ],
   "source": [
    "df"
   ]
  },
  {
   "cell_type": "code",
   "execution_count": 183,
   "metadata": {},
   "outputs": [
    {
     "data": {
      "text/plain": [
       "['xyz', 'rgb', 'riegl_feats', 'geom_feats', 'normals', 'incAngles', 'distanceFromScanner', 'ignore_waveform', 'ignore_neibors']"
      ]
     },
     "execution_count": 183,
     "metadata": {},
     "output_type": "execute_result"
    }
   ],
   "source": [
    "cfg.data.scalar_input_fields + [k for k in cfg.model.keys() if 'ignore_' in k]"
   ]
  },
  {
   "cell_type": "code",
   "execution_count": 252,
   "metadata": {},
   "outputs": [],
   "source": []
  },
  {
   "cell_type": "code",
   "execution_count": 240,
   "metadata": {},
   "outputs": [
    {
     "name": "stderr",
     "output_type": "stream",
     "text": [
      "C:\\Users\\Hristo\\AppData\\Local\\Temp\\ipykernel_32856\\2532516172.py:51: FutureWarning: The behavior of DataFrame concatenation with empty or all-NA entries is deprecated. In a future version, this will no longer exclude empty or all-NA columns when determining the result dtypes. To retain the old behavior, exclude the relevant entries before the concat operation.\n",
      "  df_overview = pd.concat([df_overview, df_exp],ignore_index=True)\n"
     ]
    }
   ],
   "source": [
    "\n",
    "all_sifs = ['xyz', 'rgb', 'riegl_feats', 'geom_feats', 'normals', 'incAngles', 'distanceFromScanner', 'raw waveform', 'process neibors']\n",
    "columns_overview = [\n",
    "    'experiment_name',\n",
    "] + all_sifs \\\n",
    "  + [n for nn in [[f'mIoU@{l.replace('labels_','L')}', f'mAcc@{l.replace('labels_','L')}'] for l in configs[0].data.label_names] for n in nn]\n",
    "\n",
    "cat_names = list(configs[0].data.label_schema['labels_3'].keys()) # FIXME: only works if labels_3 is the level\n",
    "\n",
    "columns_classwise = ['experiment_name']  + cat_names\n",
    "\n",
    "df_overview = pd.DataFrame(columns=columns_overview)\n",
    "\n",
    "# levels = list(list(reports.values())[0].keys())\n",
    "for cfg, (exp_name, reports) in zip(configs, exp_reports.items()):\n",
    "    # print(\"*\"*(len(exp_name)+4))\n",
    "    # print(f\"| {exp_name} |\")\n",
    "    # print(\"*\"*(len(exp_name)+4))\n",
    "    df_exp_overview = pd.DataFrame(data=([[exp_name]+[None for _ in range(len(columns_overview)-1)]]), columns=columns_overview)\n",
    "    miou, ious ,macc = [] , [], []\n",
    "    metrics = {n:dict(\n",
    "        miou=list(),\n",
    "        ious=list(),\n",
    "        macc=list(),\n",
    "        pc_acc=list()\n",
    "        \n",
    "    ) for n in cfg.data.label_names}\n",
    "    for proj_name, report in reports.items():\n",
    "        # print(proj_name)\n",
    "        for level in cfg.data.label_names:\n",
    "            metrics[level]['miou'].append(report[level]['miou'])\n",
    "            metrics[level]['ious'].append(report[level]['iou'])\n",
    "            metrics[level]['macc'].append(report[level]['macc'])\n",
    "            metrics[level]['pc_acc'].append(report[level]['pc_acc'])\n",
    "            # print(f'\\t\\t{level}: mIoU: {report[level]['miou']*100:.2f}\\tmAcc:{report[level]['macc']*100:.2f}')\n",
    "            # print('\\n')\n",
    "    # raise NotImplementedError\n",
    "    for level in cfg.data.label_names:\n",
    "        # overall\n",
    "        miou = np.mean(metrics[level]['miou'])*100\n",
    "        macc = np.mean(metrics[level]['macc'])*100\n",
    "        df_exp_overview[f'mIoU@L{level.replace('labels_','')}'] = miou\n",
    "        df_exp_overview[f'mAcc@L{level.replace('labels_','')}'] = macc\n",
    "        \n",
    "        # class-wise\n",
    "        \n",
    "        \n",
    "    \n",
    "    # add config values\n",
    "    \n",
    "    for sif in all_sifs:\n",
    "        if sif in cfg.data.scalar_input_fields:\n",
    "            df_exp_overview[sif] = r'\\checkmark'\n",
    "        else:\n",
    "            df_exp_overview[sif] = \"\"\n",
    "            \n",
    "    # handle ignores\n",
    "    df_exp_overview['raw waveform'] = r'\\checkmark' if not(cfg.model.ignore_waveform) else ''\n",
    "    df_exp_overview['process neibors'] = r'\\checkmark' if not(cfg.model.ignore_neibors) else ''\n",
    "    # concat\n",
    "    df_overview = pd.concat([df_overview, df_exp_overview],ignore_index=True)\n",
    "    \n",
    "    \n",
    "# df_overview = df_overview.sort_values(by=df_overview['experiment_name'].apply(lambda x: x.split(\"_\")[-1]))\n",
    "    # TODO: Perform Averiging\n",
    "    df_overview['version'] = df_overview['experiment_name'].apply(lambda x: x.split('_')[-1])\n",
    "    df_overview = df_overview.sort_values(by='version').drop(columns='version').reset_index(drop=True)\n",
    "\n",
    "# rename experiments\n",
    "df_overview['experiment_name'] = df_overview['experiment_name'].apply(lambda x: x.split('_')[-1].replace('v',r'\\#'))\n",
    "# rename columns\n",
    "df_overview = df_overview.rename(columns={\n",
    "    'experiment_name' : '',\n",
    "    'xyz' : 'XYZ',\n",
    "    'rgb' : 'RGB',\n",
    "    'riegl_feats' : 'Riegl',\n",
    "    'geom_feats': 'Geom',\n",
    "    'normals':r'$\\[n_x,n_y,n_z\\]$',\n",
    "    'distanceFromScanner':r'$D_\\text{scanner}$'\n",
    "})\n"
   ]
  },
  {
   "cell_type": "code",
   "execution_count": 245,
   "metadata": {},
   "outputs": [],
   "source": [
    "df_overview = df_overview.drop([6])"
   ]
  },
  {
   "cell_type": "code",
   "execution_count": 246,
   "metadata": {},
   "outputs": [
    {
     "data": {
      "text/html": [
       "<div>\n",
       "<style scoped>\n",
       "    .dataframe tbody tr th:only-of-type {\n",
       "        vertical-align: middle;\n",
       "    }\n",
       "\n",
       "    .dataframe tbody tr th {\n",
       "        vertical-align: top;\n",
       "    }\n",
       "\n",
       "    .dataframe thead th {\n",
       "        text-align: right;\n",
       "    }\n",
       "</style>\n",
       "<table border=\"1\" class=\"dataframe\">\n",
       "  <thead>\n",
       "    <tr style=\"text-align: right;\">\n",
       "      <th></th>\n",
       "      <th></th>\n",
       "      <th>XYZ</th>\n",
       "      <th>RGB</th>\n",
       "      <th>Riegl</th>\n",
       "      <th>Geom</th>\n",
       "      <th>$\\[n_x,n_y,n_z\\]$</th>\n",
       "      <th>incAngles</th>\n",
       "      <th>$D_\\text{scanner}$</th>\n",
       "      <th>raw waveform</th>\n",
       "      <th>process neibors</th>\n",
       "      <th>mIoU@L3</th>\n",
       "      <th>mAcc@L3</th>\n",
       "    </tr>\n",
       "  </thead>\n",
       "  <tbody>\n",
       "    <tr>\n",
       "      <th>0</th>\n",
       "      <td>\\#000</td>\n",
       "      <td>\\checkmark</td>\n",
       "      <td></td>\n",
       "      <td></td>\n",
       "      <td></td>\n",
       "      <td></td>\n",
       "      <td></td>\n",
       "      <td></td>\n",
       "      <td></td>\n",
       "      <td>\\checkmark</td>\n",
       "      <td>3.726174</td>\n",
       "      <td>8.673848</td>\n",
       "    </tr>\n",
       "    <tr>\n",
       "      <th>1</th>\n",
       "      <td>\\#001</td>\n",
       "      <td>\\checkmark</td>\n",
       "      <td>\\checkmark</td>\n",
       "      <td></td>\n",
       "      <td></td>\n",
       "      <td></td>\n",
       "      <td></td>\n",
       "      <td></td>\n",
       "      <td></td>\n",
       "      <td>\\checkmark</td>\n",
       "      <td>11.743101</td>\n",
       "      <td>29.371643</td>\n",
       "    </tr>\n",
       "    <tr>\n",
       "      <th>2</th>\n",
       "      <td>\\#002</td>\n",
       "      <td>\\checkmark</td>\n",
       "      <td>\\checkmark</td>\n",
       "      <td>\\checkmark</td>\n",
       "      <td></td>\n",
       "      <td></td>\n",
       "      <td></td>\n",
       "      <td></td>\n",
       "      <td></td>\n",
       "      <td>\\checkmark</td>\n",
       "      <td>16.362155</td>\n",
       "      <td>48.114046</td>\n",
       "    </tr>\n",
       "    <tr>\n",
       "      <th>3</th>\n",
       "      <td>\\#003</td>\n",
       "      <td>\\checkmark</td>\n",
       "      <td>\\checkmark</td>\n",
       "      <td>\\checkmark</td>\n",
       "      <td></td>\n",
       "      <td></td>\n",
       "      <td>\\checkmark</td>\n",
       "      <td>\\checkmark</td>\n",
       "      <td>\\checkmark</td>\n",
       "      <td>\\checkmark</td>\n",
       "      <td>16.977851</td>\n",
       "      <td>40.188612</td>\n",
       "    </tr>\n",
       "    <tr>\n",
       "      <th>4</th>\n",
       "      <td>\\#004</td>\n",
       "      <td>\\checkmark</td>\n",
       "      <td>\\checkmark</td>\n",
       "      <td></td>\n",
       "      <td></td>\n",
       "      <td></td>\n",
       "      <td>\\checkmark</td>\n",
       "      <td>\\checkmark</td>\n",
       "      <td>\\checkmark</td>\n",
       "      <td>\\checkmark</td>\n",
       "      <td>15.142054</td>\n",
       "      <td>34.512015</td>\n",
       "    </tr>\n",
       "    <tr>\n",
       "      <th>5</th>\n",
       "      <td>\\#005</td>\n",
       "      <td>\\checkmark</td>\n",
       "      <td>\\checkmark</td>\n",
       "      <td></td>\n",
       "      <td></td>\n",
       "      <td></td>\n",
       "      <td></td>\n",
       "      <td></td>\n",
       "      <td>\\checkmark</td>\n",
       "      <td>\\checkmark</td>\n",
       "      <td>12.908594</td>\n",
       "      <td>31.485221</td>\n",
       "    </tr>\n",
       "    <tr>\n",
       "      <th>7</th>\n",
       "      <td>\\#006</td>\n",
       "      <td>\\checkmark</td>\n",
       "      <td>\\checkmark</td>\n",
       "      <td>\\checkmark</td>\n",
       "      <td>\\checkmark</td>\n",
       "      <td>\\checkmark</td>\n",
       "      <td>\\checkmark</td>\n",
       "      <td>\\checkmark</td>\n",
       "      <td>\\checkmark</td>\n",
       "      <td>\\checkmark</td>\n",
       "      <td>20.513423</td>\n",
       "      <td>56.818999</td>\n",
       "    </tr>\n",
       "    <tr>\n",
       "      <th>8</th>\n",
       "      <td>\\#007</td>\n",
       "      <td>\\checkmark</td>\n",
       "      <td>\\checkmark</td>\n",
       "      <td>\\checkmark</td>\n",
       "      <td>\\checkmark</td>\n",
       "      <td>\\checkmark</td>\n",
       "      <td>\\checkmark</td>\n",
       "      <td>\\checkmark</td>\n",
       "      <td>\\checkmark</td>\n",
       "      <td></td>\n",
       "      <td>3.726174</td>\n",
       "      <td>8.673848</td>\n",
       "    </tr>\n",
       "  </tbody>\n",
       "</table>\n",
       "</div>"
      ],
      "text/plain": [
       "                 XYZ         RGB       Riegl        Geom $\\[n_x,n_y,n_z\\]$  \\\n",
       "0  \\#000  \\checkmark                                                         \n",
       "1  \\#001  \\checkmark  \\checkmark                                             \n",
       "2  \\#002  \\checkmark  \\checkmark  \\checkmark                                 \n",
       "3  \\#003  \\checkmark  \\checkmark  \\checkmark                                 \n",
       "4  \\#004  \\checkmark  \\checkmark                                             \n",
       "5  \\#005  \\checkmark  \\checkmark                                             \n",
       "7  \\#006  \\checkmark  \\checkmark  \\checkmark  \\checkmark        \\checkmark   \n",
       "8  \\#007  \\checkmark  \\checkmark  \\checkmark  \\checkmark        \\checkmark   \n",
       "\n",
       "    incAngles $D_\\text{scanner}$ raw waveform process neibors    mIoU@L3  \\\n",
       "0                                                  \\checkmark   3.726174   \n",
       "1                                                  \\checkmark  11.743101   \n",
       "2                                                  \\checkmark  16.362155   \n",
       "3  \\checkmark         \\checkmark   \\checkmark      \\checkmark  16.977851   \n",
       "4  \\checkmark         \\checkmark   \\checkmark      \\checkmark  15.142054   \n",
       "5                                  \\checkmark      \\checkmark  12.908594   \n",
       "7  \\checkmark         \\checkmark   \\checkmark      \\checkmark  20.513423   \n",
       "8  \\checkmark         \\checkmark   \\checkmark                   3.726174   \n",
       "\n",
       "     mAcc@L3  \n",
       "0   8.673848  \n",
       "1  29.371643  \n",
       "2  48.114046  \n",
       "3  40.188612  \n",
       "4  34.512015  \n",
       "5  31.485221  \n",
       "7  56.818999  \n",
       "8   8.673848  "
      ]
     },
     "execution_count": 246,
     "metadata": {},
     "output_type": "execute_result"
    }
   ],
   "source": [
    "df_overview"
   ]
  },
  {
   "cell_type": "code",
   "execution_count": 247,
   "metadata": {},
   "outputs": [
    {
     "name": "stdout",
     "output_type": "stream",
     "text": [
      "\\begin{tabular}{llllllllllrr}\n",
      "\\toprule\n",
      " & XYZ & RGB & Riegl & Geom & $\\[n_x,n_y,n_z\\]$ & incAngles & $D_\\text{scanner}$ & raw waveform & process neibors & mIoU@L3 & mAcc@L3 \\\\\n",
      "\\midrule\n",
      "\\#000 & \\checkmark &  &  &  &  &  &  &  & \\checkmark & 3.73 & 8.67 \\\\\n",
      "\\#001 & \\checkmark & \\checkmark &  &  &  &  &  &  & \\checkmark & 11.74 & 29.37 \\\\\n",
      "\\#002 & \\checkmark & \\checkmark & \\checkmark &  &  &  &  &  & \\checkmark & 16.36 & 48.11 \\\\\n",
      "\\#003 & \\checkmark & \\checkmark & \\checkmark &  &  & \\checkmark & \\checkmark & \\checkmark & \\checkmark & 16.98 & 40.19 \\\\\n",
      "\\#004 & \\checkmark & \\checkmark &  &  &  & \\checkmark & \\checkmark & \\checkmark & \\checkmark & 15.14 & 34.51 \\\\\n",
      "\\#005 & \\checkmark & \\checkmark &  &  &  &  &  & \\checkmark & \\checkmark & 12.91 & 31.49 \\\\\n",
      "\\#006 & \\checkmark & \\checkmark & \\checkmark & \\checkmark & \\checkmark & \\checkmark & \\checkmark & \\checkmark & \\checkmark & 20.51 & 56.82 \\\\\n",
      "\\#007 & \\checkmark & \\checkmark & \\checkmark & \\checkmark & \\checkmark & \\checkmark & \\checkmark & \\checkmark &  & 3.73 & 8.67 \\\\\n",
      "\\bottomrule\n",
      "\\end{tabular}\n",
      "\n"
     ]
    }
   ],
   "source": [
    "print(df_overview.to_latex(index=False, float_format=\"%.2f\"))"
   ]
  },
  {
   "cell_type": "code",
   "execution_count": 162,
   "metadata": {},
   "outputs": [
    {
     "data": {
      "text/plain": [
       "0    v002\n",
       "1    v003\n",
       "2    v005\n",
       "3    v000\n",
       "4    v001\n",
       "5    v004\n",
       "6    v005\n",
       "7    v006\n",
       "8    v007\n",
       "Name: experiment_name, dtype: object"
      ]
     },
     "execution_count": 162,
     "metadata": {},
     "output_type": "execute_result"
    }
   ],
   "source": [
    "df_overview['experiment_name'].apply(lambda x: x.split(\"_\")[-1])"
   ]
  },
  {
   "cell_type": "code",
   "execution_count": 159,
   "metadata": {},
   "outputs": [
    {
     "data": {
      "text/html": [
       "<div>\n",
       "<style scoped>\n",
       "    .dataframe tbody tr th:only-of-type {\n",
       "        vertical-align: middle;\n",
       "    }\n",
       "\n",
       "    .dataframe tbody tr th {\n",
       "        vertical-align: top;\n",
       "    }\n",
       "\n",
       "    .dataframe thead th {\n",
       "        text-align: right;\n",
       "    }\n",
       "</style>\n",
       "<table border=\"1\" class=\"dataframe\">\n",
       "  <thead>\n",
       "    <tr style=\"text-align: right;\">\n",
       "      <th></th>\n",
       "      <th>experiment_name</th>\n",
       "      <th>mIoU@L3</th>\n",
       "      <th>mAcc@L3</th>\n",
       "    </tr>\n",
       "  </thead>\n",
       "  <tbody>\n",
       "    <tr>\n",
       "      <th>0</th>\n",
       "      <td>2024-12-16_01-19-40_v002</td>\n",
       "      <td>0.163622</td>\n",
       "      <td>0.481140</td>\n",
       "    </tr>\n",
       "    <tr>\n",
       "      <th>1</th>\n",
       "      <td>2024-12-16_02-12-37_v003</td>\n",
       "      <td>0.169779</td>\n",
       "      <td>0.401886</td>\n",
       "    </tr>\n",
       "    <tr>\n",
       "      <th>2</th>\n",
       "      <td>2024-12-16_03-07-36_v005</td>\n",
       "      <td>0.129086</td>\n",
       "      <td>0.314852</td>\n",
       "    </tr>\n",
       "    <tr>\n",
       "      <th>3</th>\n",
       "      <td>2024-12-16_04-14-52_v000</td>\n",
       "      <td>0.037262</td>\n",
       "      <td>0.086738</td>\n",
       "    </tr>\n",
       "    <tr>\n",
       "      <th>4</th>\n",
       "      <td>2024-12-16_05-25-50_v001</td>\n",
       "      <td>0.117431</td>\n",
       "      <td>0.293716</td>\n",
       "    </tr>\n",
       "    <tr>\n",
       "      <th>5</th>\n",
       "      <td>2024-12-16_06-32-56_v004</td>\n",
       "      <td>0.151421</td>\n",
       "      <td>0.345120</td>\n",
       "    </tr>\n",
       "    <tr>\n",
       "      <th>6</th>\n",
       "      <td>2024-12-16_15-22-33_v005</td>\n",
       "      <td>0.127630</td>\n",
       "      <td>0.299709</td>\n",
       "    </tr>\n",
       "    <tr>\n",
       "      <th>7</th>\n",
       "      <td>2024-12-16_16-04-25_v006</td>\n",
       "      <td>0.205134</td>\n",
       "      <td>0.568190</td>\n",
       "    </tr>\n",
       "    <tr>\n",
       "      <th>8</th>\n",
       "      <td>2024-12-16_16-55-20_v007</td>\n",
       "      <td>0.037262</td>\n",
       "      <td>0.086738</td>\n",
       "    </tr>\n",
       "  </tbody>\n",
       "</table>\n",
       "</div>"
      ],
      "text/plain": [
       "            experiment_name   mIoU@L3   mAcc@L3\n",
       "0  2024-12-16_01-19-40_v002  0.163622  0.481140\n",
       "1  2024-12-16_02-12-37_v003  0.169779  0.401886\n",
       "2  2024-12-16_03-07-36_v005  0.129086  0.314852\n",
       "3  2024-12-16_04-14-52_v000  0.037262  0.086738\n",
       "4  2024-12-16_05-25-50_v001  0.117431  0.293716\n",
       "5  2024-12-16_06-32-56_v004  0.151421  0.345120\n",
       "6  2024-12-16_15-22-33_v005  0.127630  0.299709\n",
       "7  2024-12-16_16-04-25_v006  0.205134  0.568190\n",
       "8  2024-12-16_16-55-20_v007  0.037262  0.086738"
      ]
     },
     "execution_count": 159,
     "metadata": {},
     "output_type": "execute_result"
    }
   ],
   "source": [
    "df_overview"
   ]
  },
  {
   "cell_type": "code",
   "execution_count": 142,
   "metadata": {},
   "outputs": [
    {
     "data": {
      "text/plain": [
       "array([0.0003083 , 0.31987058, 0.        , 0.        , 0.48117412,\n",
       "       0.        , 0.36869524, 0.05389096, 0.        , 0.33852922,\n",
       "       0.        , 0.28081915])"
      ]
     },
     "execution_count": 142,
     "metadata": {},
     "output_type": "execute_result"
    }
   ],
   "source": [
    "np.set_printoptions(suppress=True)\n",
    "np.nanmean(np.array(metrics['labels_3']['ious']),axis=0)\n"
   ]
  },
  {
   "cell_type": "code",
   "execution_count": 127,
   "metadata": {},
   "outputs": [
    {
     "data": {
      "text/plain": [
       "0.16362154677992727"
      ]
     },
     "execution_count": 127,
     "metadata": {},
     "output_type": "execute_result"
    }
   ],
   "source": [
    "\n",
    "np.mean(metrics['labels_3']['miou'])"
   ]
  },
  {
   "cell_type": "code",
   "execution_count": 33,
   "metadata": {},
   "outputs": [
    {
     "data": {
      "text/plain": [
       "{'iou': array([0.        , 0.        ,        nan, 0.        , 0.54096119,\n",
       "        0.        , 0.        , 0.        ,        nan,        nan,\n",
       "        0.        , 0.        ]),\n",
       " 'pc_acc': array([0.        , 0.        ,        nan, 0.        , 1.17846504,\n",
       "        0.        , 0.        , 0.        ,        nan,        nan,\n",
       "        0.        , 0.        ]),\n",
       " 'miou': 0.060106798925996144,\n",
       " 'macc': 0.13094056027579887}"
      ]
     },
     "execution_count": 33,
     "metadata": {},
     "output_type": "execute_result"
    }
   ],
   "source": [
    "report[level]"
   ]
  }
 ],
 "metadata": {
  "kernelspec": {
   "display_name": "base_py12",
   "language": "python",
   "name": "python3"
  },
  "language_info": {
   "codemirror_mode": {
    "name": "ipython",
    "version": 3
   },
   "file_extension": ".py",
   "mimetype": "text/x-python",
   "name": "python",
   "nbconvert_exporter": "python",
   "pygments_lexer": "ipython3",
   "version": "3.12.8"
  }
 },
 "nbformat": 4,
 "nbformat_minor": 2
}
