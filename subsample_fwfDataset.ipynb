{
 "cells": [
  {
   "cell_type": "code",
   "execution_count": 2,
   "metadata": {},
   "outputs": [
    {
     "name": "stdout",
     "output_type": "stream",
     "text": [
      "2023-08-28_FW_EingangBauing.FwfProj\n",
      "2024-03-22_FW_Koenigshuegel.FwfProj\n",
      "2024-04-05_FW_Westbahnhof_01.FwfProj\n",
      "2024-04-05_FW_Westbahnhof_02.FwfProj\n",
      "2024-04-05_FW_Westbahnhof_03.FwfProj\n",
      "2024-04-05_FW_Westbahnhof_04.FwfProj\n",
      "2024-04-05_FW_Westbahnhof_05.FwfProj\n",
      "2024-05-10_FW_RWTH_Zentrum_01.FwfProj\n",
      "2024-07-31_FW_Bruecke_Koenigstr.FwfProj\n",
      "2024-07-31_FW_Bruecke_Turmstr.FwfProj\n",
      "2024-08-02_FW_Bruecke_A44_VerlautenheidenerStr.FwfProj\n",
      "2024-08-02_FW_Bruecke_Deltourserb.FwfProj\n",
      "2024-08-02_FW_Bruecke_Kasinostrasse.FwfProj\n",
      "2024-08-02_FW_Bruecke_RotheErde.FwfProj\n",
      "2024-08-02_FW_Bruecke_Rottstrasse.FwfProj\n"
     ]
    },
    {
     "data": {
      "text/plain": [
       "'D:\\\\Projekte\\\\GIA_220412_PCS\\\\02_Datasets\\\\FullWaveForm\\\\full_waveform_software\\\\FullWaveformParse_mass\\\\output\\\\FWF_Aachen_labeled\\\\/../FWF_Subsampled/0.01/class_dict.json'"
      ]
     },
     "execution_count": 2,
     "metadata": {},
     "output_type": "execute_result"
    }
   ],
   "source": [
    "from plyfile import PlyData, PlyElement\n",
    "from glob import glob\n",
    "from utils.pointcloud import grid_subsample_simple\n",
    "import os\n",
    "from omegaconf import OmegaConf\n",
    "import shutil\n",
    "import pandas as pd\n",
    "from scipy.spatial import KDTree\n",
    "import numpy as np\n",
    "\n",
    "\n",
    "cfg = OmegaConf.load(\"./config/subsampling.yaml\")\n",
    "out_dir = cfg.data.preprocess_raw.output_dir_subsampling\n",
    "\n",
    "\n",
    "for proj_fp in glob(os.path.join(cfg.data.preprocess_raw.raw_dir, \"*.FwfProj\")):\n",
    "    project_name = os.path.basename(proj_fp)\n",
    "    print(f\"{project_name}\")\n",
    "\n",
    "    pcd_fp = list(glob(os.path.join(proj_fp,'labeled',\"*_pointcloud.ply\")))[0]\n",
    "    waveform_fp = list(glob(os.path.join(proj_fp,'labeled',\"*_waveform.npy\")))[0]\n",
    "    meta_fp = waveform = list(glob(os.path.join(proj_fp,'labeled',\"*_metadata.json\")))[0]\n",
    "\n",
    "    pcd = pd.DataFrame.from_dict(PlyData.read(pcd_fp).elements[0].data)\n",
    "    xyz = pcd[['x','y','z']].to_numpy()\n",
    "    kd_tree = KDTree(xyz)\n",
    "\n",
    "    # get sub inds\n",
    "    sub = grid_subsample_simple(xyz, cfg.data.preprocess_raw.voxel_size)\n",
    "    _,sub_ids = kd_tree.query(sub['points'])\n",
    "\n",
    "    # subsample point cloud\n",
    "    sub_pcd = pcd.loc[sub_ids]\n",
    "\n",
    "    # subsample waveform\n",
    "    wfm = np.load(waveform_fp)\n",
    "    wfm_sub = wfm[sub_ids]\n",
    "\n",
    "    proj_out_dir = os.path.join(out_dir,project_name,'labeled')\n",
    "    os.makedirs(proj_out_dir, exist_ok=True)\n",
    "    PlyData([PlyElement.describe(sub_pcd.to_records(index=False),'vertex')]).write(os.path.join(proj_out_dir, os.path.basename(pcd_fp)))\n",
    "    np.save(os.path.join(proj_out_dir, os.path.basename(waveform_fp)),wfm_sub)\n",
    "    shutil.copy(meta_fp,os.path.join(proj_out_dir,os.path.basename(meta_fp)))\n",
    "\n",
    "    assert sub_pcd.shape[0] == wfm_sub.shape[0], \"Something went wrong\"\n",
    "shutil.copy(os.path.join(cfg.data.preprocess_raw.raw_dir, 'class_dict.json'), os.path.join(out_dir,'class_dict.json'))\n",
    "\n"
   ]
  }
 ],
 "metadata": {
  "kernelspec": {
   "display_name": "base",
   "language": "python",
   "name": "python3"
  },
  "language_info": {
   "codemirror_mode": {
    "name": "ipython",
    "version": 3
   },
   "file_extension": ".py",
   "mimetype": "text/x-python",
   "name": "python",
   "nbconvert_exporter": "python",
   "pygments_lexer": "ipython3",
   "version": "3.9.12"
  }
 },
 "nbformat": 4,
 "nbformat_minor": 2
}
