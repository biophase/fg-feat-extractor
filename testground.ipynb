{
 "cells": [
  {
   "cell_type": "code",
   "execution_count": 1,
   "metadata": {},
   "outputs": [],
   "source": [
    "train_projects = [ # total: 13 point clouds (including bbox splitting)\n",
    "    # {\"proj_name\": \"2023-08-28_FW_EingangBauing.FwfProj\", \"bboxes\" : []},                    # building\n",
    "    {\"proj_name\": \"2024-03-22_FW_Koenigshuegel.FwfProj\", \"bboxes\" : []},                      # building\n",
    "    # {\"proj_name\": \"2024-04-05_FW_Westbahnhof_01.FwfProj\", \"bboxes\" : []},                   # tunnel-bridge\n",
    "    {\"proj_name\": \"2024-04-05_FW_Westbahnhof_02.FwfProj\", \"bboxes\" : []},                     # tunnel-bridge\n",
    "    {\"proj_name\": \"2024-04-05_FW_Westbahnhof_03.FwfProj\", \"bboxes\" : []},                     # tunnel-bridge\n",
    "    {\"proj_name\": \"2024-04-05_FW_Westbahnhof_04.FwfProj\", \"bboxes\" : []},                     # tunnel-bridge\n",
    "    {\"proj_name\": \"2024-04-05_FW_Westbahnhof_05.FwfProj\", \"bboxes\" : []},                     # building\n",
    "    {\"proj_name\": \"2024-05-10_FW_RWTH_Zentrum_01.FwfProj\", \"bboxes\" : []},                    # building\n",
    "    {\"proj_name\": \"2024-07-31_FW_Bruecke_Koenigstr.FwfProj\", \"bboxes\" : [0,2]},               # bridge (steel+stone)\n",
    "    # {\"proj_name\": \"2024-07-31_FW_Bruecke_Turmstr.FwfProj\", \"bboxes\" : []},                  # bridge (concrete/steel)\n",
    "    {\"proj_name\": \"2024-08-02_FW_Bruecke_A44_VerlautenheidenerStr.FwfProj\", \"bboxes\" : []},   # bridge (concrete)\n",
    "    {\"proj_name\": \"2024-08-02_FW_Bruecke_Deltourserb.FwfProj\", \"bboxes\" : []},                # bridge (concrete)\n",
    "    {\"proj_name\": \"2024-08-02_FW_Bruecke_Kasinostrasse.FwfProj\", \"bboxes\" : [1]},             # bridge (concrete, steel, brick)\n",
    "    {\"proj_name\": \"2024-08-02_FW_Bruecke_RotheErde.FwfProj\", \"bboxes\" : []},                  # bridge (steel)\n",
    "    {\"proj_name\": \"2024-08-02_FW_Bruecke_Rottstrasse.FwfProj\", \"bboxes\" : []},                # bridge (concrete)\n",
    "]\n",
    "val_projects = [ # total: 5 point clouds (including bbox splitting)\n",
    "    {\"proj_name\": \"2023-08-28_FW_EingangBauing.FwfProj\", \"bboxes\" : []},                    # building\n",
    "    {\"proj_name\": \"2024-04-05_FW_Westbahnhof_01.FwfProj\", \"bboxes\" : []},                   # tunnel-bridge\n",
    "    {\"proj_name\": \"2024-07-31_FW_Bruecke_Koenigstr.FwfProj\", \"bboxes\" : [1]},               # bridge (steel+stone)\n",
    "    {\"proj_name\": \"2024-08-02_FW_Bruecke_Kasinostrasse.FwfProj\", \"bboxes\" : [0]},           # bridge (concrete, steel, brick)\n",
    "    {\"proj_name\": \"2024-07-31_FW_Bruecke_Turmstr.FwfProj\", \"bboxes\" : []},                  # bridge (concrete/steel)\n",
    "\n",
    "\n",
    "]"
   ]
  },
  {
   "cell_type": "code",
   "execution_count": 2,
   "metadata": {},
   "outputs": [],
   "source": [
    "import numpy as np\n",
    "class BBox:\n",
    "    \"\"\"Bounding box using the CloudCompare synthax\n",
    "    \"\"\"\n",
    "    def __init__(self, orientation:np.ndarray, width: np.ndarray) -> None:\n",
    "        # an easy way to retrieve these values is by using the cross-section tool in cloudcompare\n",
    "        # so cross-section -> advanced -> orientation -> to clipboard\n",
    "        self.orientation = orientation\n",
    "        # from the same menu copy and paste the values under 'width' \n",
    "        self.width = width\n",
    "        \n",
    "    def cutout(self, xyz:np.ndarray) -> np.ndarray:\n",
    "            # Inverse of the orientation matrix (rotation and translation)\n",
    "            orientation_inv = np.linalg.inv(self.orientation)\n",
    "            \n",
    "            # Transform points into the bbox's local coordinate system\n",
    "            transformed_xyz = (orientation_inv @ np.vstack((xyz.T, np.ones(xyz.shape[0])))).T\n",
    "            \n",
    "            # Get the half-dimensions of the bbox (since width is the full length)\n",
    "            half_width = self.width / 2\n",
    "            \n",
    "            # Check if points lie within the bbox in local coordinates\n",
    "            inside_bbox = (\n",
    "                (np.abs(transformed_xyz[:, 0]) <= half_width[0]) &\n",
    "                (np.abs(transformed_xyz[:, 1]) <= half_width[1]) &\n",
    "                (np.abs(transformed_xyz[:, 2]) <= half_width[2])\n",
    "            )\n",
    "            \n",
    "            # Return the indices of the points inside the bbox\n",
    "            return np.where(inside_bbox)[0]\n"
   ]
  },
  {
   "cell_type": "code",
   "execution_count": 3,
   "metadata": {},
   "outputs": [],
   "source": [
    "from utils.pointcloud import grid_subsample\n",
    "import numpy as np\n",
    "import torch\n",
    "\n",
    "def grid_subsample_simple(xyz:np.ndarray, voxel_size:float, device='cuda'):\n",
    "    \"\"\"\n",
    "    Wrapper using numpy arrays\n",
    "    \"\"\"\n",
    "    sub = grid_subsample(torch.Tensor(xyz).to(device=device), voxel_size) # n -> m number of points\n",
    "    sub['points'] = sub['points'].to(dtype=torch.float64).detach().cpu().numpy()\n",
    "    sub['inv_inds'] = sub['inv_inds'].detach().cpu().numpy()\n",
    "    return sub"
   ]
  },
  {
   "cell_type": "code",
   "execution_count": 201,
   "metadata": {},
   "outputs": [],
   "source": [
    "from typing import Callable, Tuple, List\n",
    "import colorsys\n",
    "\n",
    "class Transform():\n",
    "    def __init__(self, fn:Callable = lambda x: x):\n",
    "        self.fn = fn\n",
    "\n",
    "    def __call__(self, x):\n",
    "        return self.fn(x)\n",
    "\n",
    "class TransZRotation(Transform):\n",
    "    def __init__(self, limits:Tuple = (0, 2*np.pi)):\n",
    "        def fn(x):\n",
    "            r = np.random.uniform(*limits)\n",
    "            rot_matrix = np.array([[np.cos(r), -np.sin(r), 0],\n",
    "                                   [np.sin(r),  np.cos(r), 0],\n",
    "                                   [0,          0,         1]])\n",
    "            return x @ rot_matrix\n",
    "            \n",
    "        super().__init__(fn)\n",
    "\n",
    "\n",
    "class TransScaling(Transform):\n",
    "    def __init__(self, limits: Tuple = (0.85, 1.15)):\n",
    "        def fn(x):\n",
    "            scale_factor = np.random.uniform(*limits)\n",
    "            scale_matrix = np.diag([scale_factor, scale_factor, scale_factor])  # Uniform scaling\n",
    "            return x @ scale_matrix\n",
    "        \n",
    "        super().__init__(fn)\n",
    "\n",
    "class TransGaussianNoise(Transform):\n",
    "    def __init__(self, mean: float = 0.0, std: float = 0.01):\n",
    "        def fn(x:np.ndarray):\n",
    "            noise = np.random.normal(loc=mean, scale=std, size=x.shape)\n",
    "            return x + noise\n",
    "\n",
    "        super().__init__(fn)\n",
    "\n",
    "class TransGammaCorrection(Transform):\n",
    "    def __init__(self, limits: Tuple[float, float] = (0.8, 1.2)):\n",
    "        def fn(x):\n",
    "            gamma = np.random.uniform(*limits)\n",
    "            return np.clip(x ** gamma, 0, 1) # TODO: Check order of normalization and augmentation !!!\n",
    "        super().__init__(fn)\n",
    "\n",
    "\n",
    "class TransformsList():\n",
    "    def __init__(self,\n",
    "                 transforms:List[Transform]):\n",
    "        self.transforms = transforms\n",
    "\n",
    "    def __call__(self, x):\n",
    "        for t in self.transforms:\n",
    "            x = t(x)\n",
    "        return x\n",
    "\n"
   ]
  },
  {
   "cell_type": "code",
   "execution_count": 4,
   "metadata": {},
   "outputs": [],
   "source": [
    "from plyfile import PlyData, PlyElement\n",
    "import pandas as pd\n",
    "import numpy as np\n",
    "from glob import glob\n",
    "import json\n",
    "import os\n",
    "from omegaconf import OmegaConf\n",
    "from scipy.spatial import KDTree\n",
    "from torch.utils.data import Dataset, DataLoader\n",
    "from jakteristics import compute_features\n",
    "from typing import List, Optional, Dict\n",
    "import torch\n",
    "\n",
    "from utils.pointcloud import grid_subsample\n",
    "\n",
    "class FwfDataset(Dataset):\n",
    "    def __init__(self,\n",
    "                 proj_search_pattern,\n",
    "                 proj_query_list,\n",
    "                 return_fields_input = None,\n",
    "                 label_names = None,\n",
    "                 return_waveform = True,\n",
    "                 query_grid_size = None,\n",
    "                 subsample_on_gpu = True,\n",
    "                 transforms_dict: Dict[str, TransformsList] = dict(\n",
    "                     xyz = TransformsList([\n",
    "                         TransZRotation(),\n",
    "                         TransScaling(),\n",
    "                         TransGaussianNoise(0,0.1)\n",
    "                     ]),\n",
    "                     rgb = TransformsList([\n",
    "                         \n",
    "                     ])\n",
    "                 )\n",
    "                 ):\n",
    "        \n",
    "        super(Dataset,self).__init__()\n",
    "        \n",
    "        self.proj_query_list = proj_query_list\n",
    "        self.return_fields_input = return_fields_input\n",
    "        self.return_waveform = return_waveform\n",
    "\n",
    "        self.projects = list()\n",
    "        \n",
    "        # keep track of point cloud sizes\n",
    "        self.proj_lens = []\n",
    "\n",
    "        \n",
    "        \n",
    "        # go through search pattern\n",
    "        for fwf_prof_fp in glob(proj_search_pattern):\n",
    "            proj_name = os.path.basename(fwf_prof_fp)\n",
    "            \n",
    "            # only get projects if they are on the project list\n",
    "            if proj_name not in [p['proj_name'] for p in self.proj_query_list]:\n",
    "                continue\n",
    "            else:\n",
    "                bbox_queries = [p['bboxes'] for p in self.proj_query_list if p['proj_name']==proj_name][0]\n",
    "\n",
    "                \n",
    "            print(f\"Loading '{proj_name}'; Bounding box IDs = {bbox_queries if len(bbox_queries) else 'default'}\")\n",
    "\n",
    "            # load the data\n",
    "            pcd = pd.DataFrame(PlyData.read(list(glob(os.path.join(fwf_prof_fp,'labeled','*pointcloud.ply')))[0]).elements[0].data)\n",
    "            wfm = np.load(list(glob(os.path.join(fwf_prof_fp,'labeled','*waveform.npy')))[0])\n",
    "            meta = json.load(open(list(glob(os.path.join(fwf_prof_fp,'labeled','*metadata.json')))[0],\"r\"))\n",
    "            \n",
    "            # field names (constants)\n",
    "            riegl_feat_names = [ 'riegl_reflectance','riegl_amplitude', 'riegl_deviation', 'riegl_targetIndex','riegl_targetCount']\n",
    "            # label_names = ['labels_0', 'labels_1', 'labels_2', 'labels_3']\n",
    "            self.label_names:Optional[List[str]] = label_names\n",
    "            \n",
    "            \n",
    "            # convert to numpy\n",
    "            riegl_feats = pcd[riegl_feat_names].to_numpy()\n",
    "            rgb = pcd[['Red','Green','Blue']].to_numpy()\n",
    "            \n",
    "            # normalize the data\n",
    "            # FIXME: Statistics calculated on first point cloud only\n",
    "            wfm = (wfm.astype(np.float32) - 358.35934) / 623.0141 # - mean / std\n",
    "\n",
    "            riegl_feats -= np.array([[-6.90191949, 25.16398933, 26.45952891,  1.        ,  1.03636612]]) # - means\n",
    "            riegl_feats /= np.array([[  2.32590898, 2.98518547, 929.71399545, 1., 0.22651793]]) # /std\n",
    "            \n",
    "            rgb -= np.array([[0.29689665, 0.3428666,  0.190237]]) # means\n",
    "            rgb /= np.array([[0.21558372, 0.23351644, 0.21213871]]) # std          \n",
    "            \n",
    "\n",
    "            \n",
    "            # get scan positions\n",
    "            if 'scanId=000' in meta['scan_positions'].keys():\n",
    "                sop = np.array([meta['scan_positions'][f'scanId={si:03}']['sop'] for si in range(len(meta['scan_positions']))])\n",
    "            else:\n",
    "                # handle case where only one scan position is in the metadata and it's f.s.r. labeled 'scanId=001' instead of 'scanID=000'\n",
    "                sop = np.array([meta['scan_positions']['scanId=001']['sop']])\n",
    "\n",
    "            # get full xyz\n",
    "            xyz_defaultBbox = pcd[['x','y','z']].to_numpy()       \n",
    "\n",
    "                \n",
    "            # save project as dict\n",
    "            if len(bbox_queries)==0:\n",
    "                # handle default case\n",
    "                sub = grid_subsample_simple(xyz_defaultBbox,query_grid_size, 'cuda' if subsample_on_gpu else 'cpu')\n",
    "                kd_tree = KDTree(xyz_defaultBbox)\n",
    "                _, sub_ids = kd_tree.query(sub['points'])\n",
    "                self.projects.append(dict(\n",
    "                    proj_name=f\"{proj_name}::defaultBbox\",\n",
    "                    xyz = xyz_defaultBbox,\n",
    "                    wfm = wfm,\n",
    "                    sop = sop,\n",
    "                    rgb = rgb,\n",
    "                    riegl_feats = riegl_feats,\n",
    "                    labels = pcd[self.label_names].to_numpy()[sub_ids], # labels need to be subsampeld \n",
    "                    sop_ids = pcd['scan_id'].to_numpy(),\n",
    "                    kd_tree = kd_tree,\n",
    "                    xyz_sub = sub['points'],\n",
    "                    sub_inv = sub['inv_inds']\n",
    "                ))\n",
    "                self.proj_lens.append(sub['points'].shape[0])\n",
    "            else:\n",
    "                # handle region bboxes case\n",
    "                for bbox_i in bbox_queries:\n",
    "                    bbox_meta = meta['bboxes'][f'bboxId={bbox_i:03}']\n",
    "                    bbox = BBox(orientation=np.array(bbox_meta['orientation']), width=np.array(bbox_meta['width']))\n",
    "                    subcloud_mask=bbox.cutout(xyz_defaultBbox)\n",
    "                    xyz_masked = xyz_defaultBbox[subcloud_mask]\n",
    "                    sub = grid_subsample_simple(xyz_masked,query_grid_size, 'cuda' if subsample_on_gpu else 'cpu')\n",
    "                    kd_tree = KDTree(xyz_masked)\n",
    "                    _, sub_ids = kd_tree.query(sub['points'])\n",
    "                    self.projects.append(dict(\n",
    "                        proj_name=f\"{proj_name}::bboxId={bbox_i:03}\",\n",
    "                        xyz = xyz_masked,\n",
    "                        wfm = wfm[subcloud_mask],\n",
    "                        sop = sop,\n",
    "                        rgb = rgb[subcloud_mask],\n",
    "                        riegl_feats = riegl_feats[subcloud_mask],\n",
    "                        labels = pcd[self.label_names].to_numpy()[subcloud_mask][sub_ids], # labels need to be subsampeld\n",
    "                        sop_ids = pcd['scan_id'].to_numpy()[subcloud_mask],\n",
    "                        kd_tree = KDTree(xyz_masked),\n",
    "                        xyz_sub = sub['points'],\n",
    "                        sub_inv = sub['inv_inds']\n",
    "                    ))\n",
    "                    self.proj_lens.append(sub['points'].shape[0])\n",
    "                    \n",
    "            # calculate the cumulative sum of the point cloud sizes\n",
    "\n",
    "            # break\n",
    "        self.proj_lens_cumsum = np.cumsum(self.proj_lens)\n",
    "    \n",
    "    def compute_neibors_knn(self, k:int):\n",
    "        for proj in self.projects:\n",
    "            print(f\"Computing neibors for '{proj['proj_name']}' @ k={k}\")\n",
    "            dists, neib_ids = proj['kd_tree'].query(proj['xyz_sub'], k)\n",
    "            proj['neibors'] = neib_ids\n",
    "    \n",
    "\n",
    "   \n",
    "    def compute_normals_knn(self):\n",
    "        for proj in self.projects:\n",
    "            k = proj['neibors'].shape[1]\n",
    "            print(f\"Computing normals for '{proj['proj_name']}' @ k={k}\")\n",
    "            neibs_xyz = proj['xyz'][proj['neibors']]\n",
    "\n",
    "            means = neibs_xyz.mean(axis=1, keepdims=True)\n",
    "            neibs_xyz -= means\n",
    "            cov = (neibs_xyz.transpose([0,2,1]) @ neibs_xyz) / (k-1)\n",
    "            eigenvals, eigenvecs = np.linalg.eigh(cov)\n",
    "            # get non-flipped normals\n",
    "            normals = eigenvecs[:, :, 0]\n",
    "\n",
    "            # upsample normals to full resolution\n",
    "            normals = normals[proj['sub_inv']]\n",
    "            \n",
    "            # move all points to scanner CS\n",
    "            points_origin_scanPos = proj['sop'][proj['sop_ids']][:,:3,3]\n",
    "            xyz_scannerCs = proj['xyz'] - points_origin_scanPos\n",
    "            signs = np.sign(np.squeeze(xyz_scannerCs[:,None,:] @ normals [:,:,None])) * -1\n",
    "            normals *= signs[:,None]\n",
    "            \n",
    "            proj['normals'] = normals\n",
    "\n",
    "\n",
    "\n",
    "\n",
    "            \n",
    "            \n",
    "    # def compute_normals_spherical_subsample(self, r = 0.08, voxel_size = 0.03, device='cuda'):\n",
    "        \n",
    "    #     for proj in self.projects:\n",
    "    #         print(f\"Computing normals for '{proj['proj_name']}' @ r={r:.3f}m and voxel_size = {voxel_size:.3f}\")\n",
    "    #         print(\"\\tDEBUG: subsampling\")\n",
    "    #         sub = grid_subsample(torch.Tensor(proj['xyz']).to(device=device), voxel_size) # n -> m number of points\n",
    "    #         sub['points'] = sub['points'].to(dtype=torch.float64).detach().cpu().numpy()\n",
    "    #         sub['inv_inds'] = sub['inv_inds'].detach().cpu().numpy()\n",
    "    #         _,sub_ids = proj['kd_tree'].query(sub['points'])\n",
    "    #         print(\"\\tDEBUG: computing feats\")\n",
    "    #         sub_normals = compute_features(sub['points'],search_radius=0.05,feature_names=['nx','ny','nz'])\n",
    "\n",
    "    #         # flip the normals\n",
    "    #         print(\"\\tDEBUG: flipping the subsampled normals\")\n",
    "    #         sub_xyz_scannerCs = proj['xyz'][sub_ids] - proj['sop'][proj['sop_ids']][:,3,:3][sub_ids]\n",
    "    #         sub_signs = np.sign(np.squeeze(sub_xyz_scannerCs[:,None,:] @ sub_normals[:,:,None]))*-1\n",
    "    #         sub_normals *= sub_signs[:,None]\n",
    "\n",
    "    #         print(\"\\tDEBUG: reprojecting\")\n",
    "    #         proj['normals'] = sub_normals[sub['inv_inds']]\n",
    "\n",
    "\n",
    "\n",
    "    \n",
    "    \n",
    "    # def compute_normals_spherical(self, r = 0.08):\n",
    "    #     for proj in self.projects:\n",
    "    #         print(f\"Computing normals for '{proj['proj_name']}' @ r={r:.3f}m\")\n",
    "            \n",
    "    #         # get non-oriented normals\n",
    "    #         normals = compute_features(proj['xyz'],search_radius=0.05,feature_names=['nx','ny','nz'])\n",
    "    #         # orient the normals to corresponding scanner position\n",
    "    #         xyz_scannerCs = proj['xyz'] - proj['sop'][proj['sop_ids']][:,3,:3]\n",
    "    #         signs = np.sign(np.squeeze(xyz_scannerCs[:,None,:] @ normals [:,:,None])) * -1\n",
    "    #         normals *= signs[:,None]\n",
    "            \n",
    "            \n",
    "            \n",
    "    def compute_incAngles(self):\n",
    "        for proj in self.projects:\n",
    "            print(f\"Computing incidence angles for '{proj['proj_name']}'\")\n",
    "            xyz_scannerCs = proj['xyz'] - proj['sop'][proj['sop_ids']][:,:3,3]\n",
    "            proj['incAngles']= np.arccos(np.squeeze((proj['normals'][:,None,:] @ xyz_scannerCs[...,None])) / \\\n",
    "                (np.linalg.norm(xyz_scannerCs,axis=-1) * np.linalg.norm(proj['normals'],axis=-1)))\n",
    "            proj['distanceFromScanner'] = np.linalg.norm(xyz_scannerCs, axis=-1)\n",
    "            \n",
    "            # reshape by adding an additional axis\n",
    "            proj['incAngles'] = proj['incAngles'][:,None]\n",
    "            proj['distanceFromScanner'] = proj['distanceFromScanner'][:,None]\n",
    "            \n",
    "    \n",
    "    def __getitem__(self, index):\n",
    "        # get proj index first\n",
    "        proj_idx = np.argwhere(index<self.proj_lens_cumsum)[0][0]\n",
    "        size_prev = self.proj_lens_cumsum[proj_idx-1] if proj_idx > 0 else 0\n",
    "        residual_idx = index - size_prev\n",
    "        \n",
    "        # get neibors of point at index\n",
    "        neibs = self.projects[proj_idx]['neibors'][residual_idx]\n",
    "        \n",
    "        \n",
    "        if self.return_fields_input == None:\n",
    "            # TODO: remove the default option (instead putting the fields as a default argument list)\n",
    "            # extract all fields\n",
    "            return_dict = dict(\n",
    "                features_neibors = np.concatenate([\n",
    "                    self.projects[proj_idx]['xyz'][neibs],\n",
    "                    self.projects[proj_idx]['rgb'][neibs],\n",
    "                    self.projects[proj_idx]['riegl_feats'][neibs],\n",
    "                    self.projects[proj_idx]['normals'][neibs],\n",
    "                    self.projects[proj_idx]['incAngles'][neibs],\n",
    "                    self.projects[proj_idx]['distanceFromScanner'][neibs],\n",
    "                ], axis=-1).astype(np.float32),\n",
    "                features_point = np.concatenate([\n",
    "                    self.projects[proj_idx]['xyz'][residual_idx][None,:],\n",
    "                    self.projects[proj_idx]['rgb'][residual_idx][None,:],\n",
    "                    self.projects[proj_idx]['riegl_feats'][residual_idx][None,:],\n",
    "                    self.projects[proj_idx]['normals'][residual_idx][None,:],\n",
    "                    self.projects[proj_idx]['incAngles'][residual_idx][None,:],\n",
    "                    self.projects[proj_idx]['distanceFromScanner'][residual_idx][None,:],\n",
    "                ],axis=-1).astype(np.float32)\n",
    "            )\n",
    "        else:\n",
    "            # only extract specific fields\n",
    "            return_dict = dict(\n",
    "                features_neibors = np.concatenate([self.projects[proj_idx][f][neibs] for f in \\\n",
    "                                                   self.return_fields_input],axis=-1).astype(np.float32),\n",
    "                features_point = np.concatenate([self.projects[proj_idx][f][residual_idx][None,:] for f in \\\n",
    "                                                 self.return_fields_input],axis=-1).astype(np.float32)\n",
    "                )\n",
    "\n",
    "        # add waveforms and labels\n",
    "        return_dict.update(dict(\n",
    "            wfm_neibors = self.projects[proj_idx]['wfm'][neibs] if self.return_waveform else None,\n",
    "            wfm_point = self.projects[proj_idx]['wfm'][residual_idx][None,:] if self.return_waveform else None,\n",
    "            labels = self.projects[proj_idx]['labels'][residual_idx],\n",
    "        )) # type:ignore\n",
    "        \n",
    "\n",
    "        \n",
    "        return return_dict\n",
    "        \n",
    "    \n",
    "    def __len__(self):\n",
    "        return np.sum([p['xyz_sub'].shape[0] for p in self.projects])\n",
    "        \n",
    "\n",
    "\n"
   ]
  },
  {
   "cell_type": "code",
   "execution_count": 5,
   "metadata": {},
   "outputs": [],
   "source": [
    "from torch import nn\n",
    "\n",
    "class FGFeatNetwork (nn.Module):\n",
    "    def __init__(self,\n",
    "                 num_input_feats,\n",
    "                 label_structure = {'labels_0':3, 'labels_1':10, 'labels_2':12, 'labels_3':18}\n",
    "                 ):\n",
    "        super(FGFeatNetwork, self).__init__()\n",
    "        \n",
    "        self.label_structure = label_structure\n",
    "        \n",
    "        # Pointwise feats\n",
    "        self.mlp1 = nn.Sequential(\n",
    "            nn.Linear(num_input_feats, 64), nn.ReLU(),\n",
    "            nn.Linear(64, 128), nn.ReLU(),\n",
    "            nn.Linear(128, 128), nn.ReLU()\n",
    "        )\n",
    "        self.wf_conv = nn.Sequential(\n",
    "            # FIXME: check conv and maxpool kernel sizes and strides\n",
    "            nn.Conv1d(in_channels=1, out_channels=16, kernel_size=3), nn.RReLU(), nn.MaxPool1d(2), # activations 32 -> 16\n",
    "            nn.Conv1d(in_channels=16, out_channels=32, kernel_size=3), nn.RReLU(), nn.MaxPool1d(2),# activations 16 -> 8\n",
    "            nn.Conv1d(in_channels=32, out_channels=64, kernel_size=3), nn.RReLU(), nn.MaxPool1d(2),# activations 8 -> 4\n",
    "            # after concat. activation shape = 4 * 64 = 256\n",
    "        )\n",
    "        # TODO: Try out inverse bottleneck?\n",
    "        # TODO: Network size might be an overkill / unfeasable for the task\n",
    "        \n",
    "        # MLP after concat with WFM feats\n",
    "        self.mlp2 = nn.Sequential(\n",
    "            nn.Linear(256, 512), nn.ReLU(),\n",
    "            nn.Linear(512, 1024), nn.ReLU(),\n",
    "        )\n",
    "        \n",
    "        # decoder\n",
    "        self.mlp3 = nn.Sequential(\n",
    "            nn.Linear(1280, 512), nn.ReLU(), # joined shape (point + neibors)\n",
    "            nn.Linear(512, 256), nn.ReLU(),\n",
    "            nn.Linear(256, 128), nn.ReLU(),\n",
    "        )\n",
    "        \n",
    "        # classifier\n",
    "        self.classifier = nn.ModuleDict({k:nn.Linear(128,v) for k,v in self.label_structure.items()})\n",
    "        \n",
    "    def forward(self, x):\n",
    "        # handle neibor features\n",
    "        pw_feats_neib = self.mlp1(x['features_neibors'])\n",
    "        batch, neibor, signal_length = x['wfm_neibors'].shape\n",
    "        wf_feats_neib = self.wf_conv(x['wfm_neibors'].view((batch * neibor, 1, signal_length))) # batch, neibor, signal_length -> batch * neibor, 1,  signal_length\n",
    "        wf_feats_neib = wf_feats_neib.view((batch, neibor,-1))\n",
    "        joined_feats_neib = torch.cat([pw_feats_neib, wf_feats_neib], dim=-1)\n",
    "        \n",
    "        # handle the point features\n",
    "        pw_feats_point = self.mlp1(x['features_point'])\n",
    "        batch, neibor, signal_length = x['wfm_point'].shape\n",
    "        wf_feats_point = self.wf_conv(x['wfm_point'].view((batch * neibor, 1, signal_length))) ## batch, 1, signal_length -> batch , 1,  signal_length\n",
    "        wf_feats_point = wf_feats_point.view((batch, neibor,-1))\n",
    "        joined_feats_point = torch.cat([pw_feats_point, wf_feats_point], dim=-1)        \n",
    "        \n",
    "        # continue processing neibor feats\n",
    "        joined_feats_neib = self.mlp2(joined_feats_neib)\n",
    "        joined_feats_neib = torch.max(joined_feats_neib, dim=1)[0]\n",
    "        \n",
    "        # join neibor with skip connection to point features\n",
    "        global_feat = torch.cat([joined_feats_neib, torch.squeeze(joined_feats_point)],dim=-1)\n",
    "        global_feat = self.mlp3(global_feat)\n",
    "        \n",
    "        result = {k: self.classifier[k](global_feat) for k in self.classifier.keys()}\n",
    "        \n",
    "        \n",
    "        \n",
    "        return result\n",
    "\n",
    "        \n",
    "        "
   ]
  },
  {
   "cell_type": "code",
   "execution_count": 8,
   "metadata": {},
   "outputs": [
    {
     "name": "stdout",
     "output_type": "stream",
     "text": [
      "Loading '2024-03-22_FW_Koenigshuegel.FwfProj'; Bounding box IDs = default\n",
      "Loading '2024-04-05_FW_Westbahnhof_02.FwfProj'; Bounding box IDs = default\n",
      "Loading '2024-04-05_FW_Westbahnhof_03.FwfProj'; Bounding box IDs = default\n",
      "Loading '2024-04-05_FW_Westbahnhof_04.FwfProj'; Bounding box IDs = default\n",
      "Loading '2024-04-05_FW_Westbahnhof_05.FwfProj'; Bounding box IDs = default\n",
      "Loading '2024-05-10_FW_RWTH_Zentrum_01.FwfProj'; Bounding box IDs = default\n",
      "Loading '2024-07-31_FW_Bruecke_Koenigstr.FwfProj'; Bounding box IDs = [0, 2]\n",
      "Loading '2024-08-02_FW_Bruecke_A44_VerlautenheidenerStr.FwfProj'; Bounding box IDs = default\n",
      "Loading '2024-08-02_FW_Bruecke_Deltourserb.FwfProj'; Bounding box IDs = default\n",
      "Loading '2024-08-02_FW_Bruecke_Kasinostrasse.FwfProj'; Bounding box IDs = [1]\n",
      "Loading '2024-08-02_FW_Bruecke_RotheErde.FwfProj'; Bounding box IDs = default\n",
      "Loading '2024-08-02_FW_Bruecke_Rottstrasse.FwfProj'; Bounding box IDs = default\n",
      "Computing neibors for '2024-03-22_FW_Koenigshuegel.FwfProj::defaultBbox' @ k=20\n",
      "Computing neibors for '2024-04-05_FW_Westbahnhof_02.FwfProj::defaultBbox' @ k=20\n",
      "Computing neibors for '2024-04-05_FW_Westbahnhof_03.FwfProj::defaultBbox' @ k=20\n",
      "Computing neibors for '2024-04-05_FW_Westbahnhof_04.FwfProj::defaultBbox' @ k=20\n",
      "Computing neibors for '2024-04-05_FW_Westbahnhof_05.FwfProj::defaultBbox' @ k=20\n",
      "Computing neibors for '2024-05-10_FW_RWTH_Zentrum_01.FwfProj::defaultBbox' @ k=20\n",
      "Computing neibors for '2024-07-31_FW_Bruecke_Koenigstr.FwfProj::bboxId=000' @ k=20\n",
      "Computing neibors for '2024-07-31_FW_Bruecke_Koenigstr.FwfProj::bboxId=002' @ k=20\n",
      "Computing neibors for '2024-08-02_FW_Bruecke_A44_VerlautenheidenerStr.FwfProj::defaultBbox' @ k=20\n",
      "Computing neibors for '2024-08-02_FW_Bruecke_Deltourserb.FwfProj::defaultBbox' @ k=20\n",
      "Computing neibors for '2024-08-02_FW_Bruecke_Kasinostrasse.FwfProj::bboxId=001' @ k=20\n",
      "Computing neibors for '2024-08-02_FW_Bruecke_RotheErde.FwfProj::defaultBbox' @ k=20\n",
      "Computing neibors for '2024-08-02_FW_Bruecke_Rottstrasse.FwfProj::defaultBbox' @ k=20\n",
      "Computing normals for '2024-03-22_FW_Koenigshuegel.FwfProj::defaultBbox' @ k=20\n",
      "Computing normals for '2024-04-05_FW_Westbahnhof_02.FwfProj::defaultBbox' @ k=20\n",
      "Computing normals for '2024-04-05_FW_Westbahnhof_03.FwfProj::defaultBbox' @ k=20\n",
      "Computing normals for '2024-04-05_FW_Westbahnhof_04.FwfProj::defaultBbox' @ k=20\n",
      "Computing normals for '2024-04-05_FW_Westbahnhof_05.FwfProj::defaultBbox' @ k=20\n",
      "Computing normals for '2024-05-10_FW_RWTH_Zentrum_01.FwfProj::defaultBbox' @ k=20\n",
      "Computing normals for '2024-07-31_FW_Bruecke_Koenigstr.FwfProj::bboxId=000' @ k=20\n",
      "Computing normals for '2024-07-31_FW_Bruecke_Koenigstr.FwfProj::bboxId=002' @ k=20\n",
      "Computing normals for '2024-08-02_FW_Bruecke_A44_VerlautenheidenerStr.FwfProj::defaultBbox' @ k=20\n",
      "Computing normals for '2024-08-02_FW_Bruecke_Deltourserb.FwfProj::defaultBbox' @ k=20\n",
      "Computing normals for '2024-08-02_FW_Bruecke_Kasinostrasse.FwfProj::bboxId=001' @ k=20\n",
      "Computing normals for '2024-08-02_FW_Bruecke_RotheErde.FwfProj::defaultBbox' @ k=20\n",
      "Computing normals for '2024-08-02_FW_Bruecke_Rottstrasse.FwfProj::defaultBbox' @ k=20\n",
      "Computing incidence angles for '2024-03-22_FW_Koenigshuegel.FwfProj::defaultBbox'\n",
      "Computing incidence angles for '2024-04-05_FW_Westbahnhof_02.FwfProj::defaultBbox'\n",
      "Computing incidence angles for '2024-04-05_FW_Westbahnhof_03.FwfProj::defaultBbox'\n",
      "Computing incidence angles for '2024-04-05_FW_Westbahnhof_04.FwfProj::defaultBbox'\n",
      "Computing incidence angles for '2024-04-05_FW_Westbahnhof_05.FwfProj::defaultBbox'\n",
      "Computing incidence angles for '2024-05-10_FW_RWTH_Zentrum_01.FwfProj::defaultBbox'\n",
      "Computing incidence angles for '2024-07-31_FW_Bruecke_Koenigstr.FwfProj::bboxId=000'\n",
      "Computing incidence angles for '2024-07-31_FW_Bruecke_Koenigstr.FwfProj::bboxId=002'\n",
      "Computing incidence angles for '2024-08-02_FW_Bruecke_A44_VerlautenheidenerStr.FwfProj::defaultBbox'\n",
      "Computing incidence angles for '2024-08-02_FW_Bruecke_Deltourserb.FwfProj::defaultBbox'\n",
      "Computing incidence angles for '2024-08-02_FW_Bruecke_Kasinostrasse.FwfProj::bboxId=001'\n",
      "Computing incidence angles for '2024-08-02_FW_Bruecke_RotheErde.FwfProj::defaultBbox'\n",
      "Computing incidence angles for '2024-08-02_FW_Bruecke_Rottstrasse.FwfProj::defaultBbox'\n",
      "Computing neibors for '2024-03-22_FW_Koenigshuegel.FwfProj::defaultBbox' @ k=96\n",
      "Computing neibors for '2024-04-05_FW_Westbahnhof_02.FwfProj::defaultBbox' @ k=96\n",
      "Computing neibors for '2024-04-05_FW_Westbahnhof_03.FwfProj::defaultBbox' @ k=96\n",
      "Computing neibors for '2024-04-05_FW_Westbahnhof_04.FwfProj::defaultBbox' @ k=96\n",
      "Computing neibors for '2024-04-05_FW_Westbahnhof_05.FwfProj::defaultBbox' @ k=96\n",
      "Computing neibors for '2024-05-10_FW_RWTH_Zentrum_01.FwfProj::defaultBbox' @ k=96\n",
      "Computing neibors for '2024-07-31_FW_Bruecke_Koenigstr.FwfProj::bboxId=000' @ k=96\n",
      "Computing neibors for '2024-07-31_FW_Bruecke_Koenigstr.FwfProj::bboxId=002' @ k=96\n",
      "Computing neibors for '2024-08-02_FW_Bruecke_A44_VerlautenheidenerStr.FwfProj::defaultBbox' @ k=96\n",
      "Computing neibors for '2024-08-02_FW_Bruecke_Deltourserb.FwfProj::defaultBbox' @ k=96\n",
      "Computing neibors for '2024-08-02_FW_Bruecke_Kasinostrasse.FwfProj::bboxId=001' @ k=96\n",
      "Computing neibors for '2024-08-02_FW_Bruecke_RotheErde.FwfProj::defaultBbox' @ k=96\n",
      "Computing neibors for '2024-08-02_FW_Bruecke_Rottstrasse.FwfProj::defaultBbox' @ k=96\n"
     ]
    }
   ],
   "source": [
    "from torch.nn import CrossEntropyLoss\n",
    "from tqdm import tqdm\n",
    "\n",
    "\n",
    "criterion = CrossEntropyLoss()\n",
    "device='cuda'\n",
    "\n",
    "\n",
    "input_fields = [\n",
    "    'xyz',\n",
    "    'rgb',\n",
    "    'riegl_feats',\n",
    "    'normals',\n",
    "    'incAngles',\n",
    "    'distanceFromScanner',\n",
    "]\n",
    "\n",
    "\n",
    "# create Dataset\n",
    "# proj_search_pattern = r\"D:\\Projekte\\GIA_220412_PCS\\02_Datasets\\FullWaveForm\\full_waveform_software\\FullWaveformParse_mass\\output\\FWF_Aachen_labeled\\*.FwfProj\" # work pc\n",
    "proj_search_pattern = \"../../02_Datasets/FWF_Aachen_labeled/*.FwfProj\" # home pc\n",
    "train_ds = FwfDataset(\n",
    "    proj_search_pattern=proj_search_pattern, \n",
    "    proj_query_list=train_projects, \n",
    "    query_grid_size=0.8,\n",
    "    return_fields_input = None,\n",
    "    label_names = [\n",
    "        'labels_0', \n",
    "        # 'labels_2'\n",
    "        ],\n",
    "    return_waveform = True,\n",
    "    subsample_on_gpu = True\n",
    ")\n",
    "\n",
    "# rest computation\n",
    "train_ds.compute_neibors_knn(k=20)\n",
    "train_ds.compute_normals_knn()\n",
    "train_ds.compute_incAngles()\n",
    "train_ds.compute_neibors_knn(k=96)\n",
    "\n",
    "# create model\n",
    "model = FGFeatNetwork(\n",
    "    num_input_feats = train_ds[0]['features_neibors'].shape[-1],\n",
    "    label_structure = {\n",
    "        \"labels_0\":3,\n",
    "        # \"labels_1\":8,\n",
    "        # \"labels_2\":18,\n",
    "        # \"labels_3\":18\n",
    "}).to(device=device)\n",
    "\n",
    "# create dataloader\n",
    "batch_size = 64\n",
    "train_dl = DataLoader(train_ds, batch_size=batch_size)\n",
    "\n",
    "\n",
    "\n"
   ]
  },
  {
   "cell_type": "code",
   "execution_count": 9,
   "metadata": {},
   "outputs": [
    {
     "name": "stderr",
     "output_type": "stream",
     "text": [
      "100%|██████████| 1228/1228 [00:14<00:00, 86.45it/s] \n"
     ]
    },
    {
     "name": "stdout",
     "output_type": "stream",
     "text": [
      "Epoch-000: L:0.5950\n"
     ]
    },
    {
     "name": "stderr",
     "output_type": "stream",
     "text": [
      "100%|██████████| 1228/1228 [00:12<00:00, 101.67it/s]\n"
     ]
    },
    {
     "name": "stdout",
     "output_type": "stream",
     "text": [
      "Epoch-001: L:0.5244\n"
     ]
    },
    {
     "name": "stderr",
     "output_type": "stream",
     "text": [
      "100%|██████████| 1228/1228 [00:11<00:00, 104.94it/s]\n"
     ]
    },
    {
     "name": "stdout",
     "output_type": "stream",
     "text": [
      "Epoch-002: L:0.5129\n"
     ]
    },
    {
     "name": "stderr",
     "output_type": "stream",
     "text": [
      "100%|██████████| 1228/1228 [00:11<00:00, 105.93it/s]\n"
     ]
    },
    {
     "name": "stdout",
     "output_type": "stream",
     "text": [
      "Epoch-003: L:0.4824\n"
     ]
    },
    {
     "name": "stderr",
     "output_type": "stream",
     "text": [
      "100%|██████████| 1228/1228 [00:11<00:00, 103.92it/s]\n"
     ]
    },
    {
     "name": "stdout",
     "output_type": "stream",
     "text": [
      "Epoch-004: L:0.4313\n"
     ]
    },
    {
     "name": "stderr",
     "output_type": "stream",
     "text": [
      "100%|██████████| 1228/1228 [00:11<00:00, 104.29it/s]\n"
     ]
    },
    {
     "name": "stdout",
     "output_type": "stream",
     "text": [
      "Epoch-005: L:0.3912\n"
     ]
    },
    {
     "name": "stderr",
     "output_type": "stream",
     "text": [
      "100%|██████████| 1228/1228 [00:11<00:00, 104.56it/s]\n"
     ]
    },
    {
     "name": "stdout",
     "output_type": "stream",
     "text": [
      "Epoch-006: L:0.3709\n"
     ]
    },
    {
     "name": "stderr",
     "output_type": "stream",
     "text": [
      "100%|██████████| 1228/1228 [00:11<00:00, 104.85it/s]\n"
     ]
    },
    {
     "name": "stdout",
     "output_type": "stream",
     "text": [
      "Epoch-007: L:0.3604\n"
     ]
    },
    {
     "name": "stderr",
     "output_type": "stream",
     "text": [
      "100%|██████████| 1228/1228 [00:11<00:00, 106.05it/s]\n"
     ]
    },
    {
     "name": "stdout",
     "output_type": "stream",
     "text": [
      "Epoch-008: L:0.3440\n"
     ]
    },
    {
     "name": "stderr",
     "output_type": "stream",
     "text": [
      "100%|██████████| 1228/1228 [00:11<00:00, 105.01it/s]\n"
     ]
    },
    {
     "name": "stdout",
     "output_type": "stream",
     "text": [
      "Epoch-009: L:0.3549\n"
     ]
    },
    {
     "name": "stderr",
     "output_type": "stream",
     "text": [
      "100%|██████████| 1228/1228 [00:11<00:00, 104.86it/s]\n"
     ]
    },
    {
     "name": "stdout",
     "output_type": "stream",
     "text": [
      "Epoch-010: L:0.3225\n"
     ]
    },
    {
     "name": "stderr",
     "output_type": "stream",
     "text": [
      "100%|██████████| 1228/1228 [00:11<00:00, 103.14it/s]\n"
     ]
    },
    {
     "name": "stdout",
     "output_type": "stream",
     "text": [
      "Epoch-011: L:0.3128\n"
     ]
    },
    {
     "name": "stderr",
     "output_type": "stream",
     "text": [
      "100%|██████████| 1228/1228 [00:11<00:00, 104.46it/s]\n"
     ]
    },
    {
     "name": "stdout",
     "output_type": "stream",
     "text": [
      "Epoch-012: L:0.2990\n"
     ]
    },
    {
     "name": "stderr",
     "output_type": "stream",
     "text": [
      "100%|██████████| 1228/1228 [00:11<00:00, 104.88it/s]\n"
     ]
    },
    {
     "name": "stdout",
     "output_type": "stream",
     "text": [
      "Epoch-013: L:0.3020\n"
     ]
    },
    {
     "name": "stderr",
     "output_type": "stream",
     "text": [
      "100%|██████████| 1228/1228 [00:11<00:00, 103.22it/s]\n"
     ]
    },
    {
     "name": "stdout",
     "output_type": "stream",
     "text": [
      "Epoch-014: L:0.2820\n"
     ]
    },
    {
     "name": "stderr",
     "output_type": "stream",
     "text": [
      "100%|██████████| 1228/1228 [00:11<00:00, 104.27it/s]\n"
     ]
    },
    {
     "name": "stdout",
     "output_type": "stream",
     "text": [
      "Epoch-015: L:0.2665\n"
     ]
    },
    {
     "name": "stderr",
     "output_type": "stream",
     "text": [
      "100%|██████████| 1228/1228 [00:11<00:00, 104.25it/s]\n"
     ]
    },
    {
     "name": "stdout",
     "output_type": "stream",
     "text": [
      "Epoch-016: L:0.2764\n"
     ]
    },
    {
     "name": "stderr",
     "output_type": "stream",
     "text": [
      "100%|██████████| 1228/1228 [00:11<00:00, 104.66it/s]\n"
     ]
    },
    {
     "name": "stdout",
     "output_type": "stream",
     "text": [
      "Epoch-017: L:0.2520\n"
     ]
    },
    {
     "name": "stderr",
     "output_type": "stream",
     "text": [
      "100%|██████████| 1228/1228 [00:11<00:00, 104.47it/s]\n"
     ]
    },
    {
     "name": "stdout",
     "output_type": "stream",
     "text": [
      "Epoch-018: L:0.2469\n"
     ]
    },
    {
     "name": "stderr",
     "output_type": "stream",
     "text": [
      "100%|██████████| 1228/1228 [00:11<00:00, 102.85it/s]\n"
     ]
    },
    {
     "name": "stdout",
     "output_type": "stream",
     "text": [
      "Epoch-019: L:0.2416\n"
     ]
    },
    {
     "name": "stderr",
     "output_type": "stream",
     "text": [
      "100%|██████████| 1228/1228 [00:11<00:00, 104.25it/s]\n"
     ]
    },
    {
     "name": "stdout",
     "output_type": "stream",
     "text": [
      "Epoch-020: L:0.2342\n"
     ]
    },
    {
     "name": "stderr",
     "output_type": "stream",
     "text": [
      "100%|██████████| 1228/1228 [00:11<00:00, 104.57it/s]\n"
     ]
    },
    {
     "name": "stdout",
     "output_type": "stream",
     "text": [
      "Epoch-021: L:0.2200\n"
     ]
    },
    {
     "name": "stderr",
     "output_type": "stream",
     "text": [
      "100%|██████████| 1228/1228 [00:11<00:00, 104.10it/s]\n"
     ]
    },
    {
     "name": "stdout",
     "output_type": "stream",
     "text": [
      "Epoch-022: L:0.2284\n"
     ]
    },
    {
     "name": "stderr",
     "output_type": "stream",
     "text": [
      "100%|██████████| 1228/1228 [00:11<00:00, 102.61it/s]\n"
     ]
    },
    {
     "name": "stdout",
     "output_type": "stream",
     "text": [
      "Epoch-023: L:0.2163\n"
     ]
    },
    {
     "name": "stderr",
     "output_type": "stream",
     "text": [
      "100%|██████████| 1228/1228 [00:11<00:00, 104.56it/s]\n"
     ]
    },
    {
     "name": "stdout",
     "output_type": "stream",
     "text": [
      "Epoch-024: L:0.2053\n"
     ]
    },
    {
     "name": "stderr",
     "output_type": "stream",
     "text": [
      "100%|██████████| 1228/1228 [00:11<00:00, 104.68it/s]\n"
     ]
    },
    {
     "name": "stdout",
     "output_type": "stream",
     "text": [
      "Epoch-025: L:0.1963\n"
     ]
    },
    {
     "name": "stderr",
     "output_type": "stream",
     "text": [
      "100%|██████████| 1228/1228 [00:11<00:00, 103.10it/s]\n"
     ]
    },
    {
     "name": "stdout",
     "output_type": "stream",
     "text": [
      "Epoch-026: L:0.1884\n"
     ]
    },
    {
     "name": "stderr",
     "output_type": "stream",
     "text": [
      "100%|██████████| 1228/1228 [00:11<00:00, 104.17it/s]\n"
     ]
    },
    {
     "name": "stdout",
     "output_type": "stream",
     "text": [
      "Epoch-027: L:0.1818\n"
     ]
    },
    {
     "name": "stderr",
     "output_type": "stream",
     "text": [
      "100%|██████████| 1228/1228 [00:12<00:00, 101.62it/s]\n"
     ]
    },
    {
     "name": "stdout",
     "output_type": "stream",
     "text": [
      "Epoch-028: L:0.1821\n"
     ]
    },
    {
     "name": "stderr",
     "output_type": "stream",
     "text": [
      "100%|██████████| 1228/1228 [00:11<00:00, 102.67it/s]\n"
     ]
    },
    {
     "name": "stdout",
     "output_type": "stream",
     "text": [
      "Epoch-029: L:0.1771\n"
     ]
    },
    {
     "name": "stderr",
     "output_type": "stream",
     "text": [
      "100%|██████████| 1228/1228 [00:11<00:00, 103.18it/s]\n"
     ]
    },
    {
     "name": "stdout",
     "output_type": "stream",
     "text": [
      "Epoch-030: L:0.1683\n"
     ]
    },
    {
     "name": "stderr",
     "output_type": "stream",
     "text": [
      "100%|██████████| 1228/1228 [00:11<00:00, 104.37it/s]\n"
     ]
    },
    {
     "name": "stdout",
     "output_type": "stream",
     "text": [
      "Epoch-031: L:0.2166\n"
     ]
    },
    {
     "name": "stderr",
     "output_type": "stream",
     "text": [
      "100%|██████████| 1228/1228 [00:11<00:00, 104.10it/s]\n"
     ]
    },
    {
     "name": "stdout",
     "output_type": "stream",
     "text": [
      "Epoch-032: L:0.1700\n"
     ]
    },
    {
     "name": "stderr",
     "output_type": "stream",
     "text": [
      "100%|██████████| 1228/1228 [00:11<00:00, 105.04it/s]\n"
     ]
    },
    {
     "name": "stdout",
     "output_type": "stream",
     "text": [
      "Epoch-033: L:0.1633\n"
     ]
    },
    {
     "name": "stderr",
     "output_type": "stream",
     "text": [
      "100%|██████████| 1228/1228 [00:11<00:00, 105.29it/s]\n"
     ]
    },
    {
     "name": "stdout",
     "output_type": "stream",
     "text": [
      "Epoch-034: L:0.1665\n"
     ]
    },
    {
     "name": "stderr",
     "output_type": "stream",
     "text": [
      "100%|██████████| 1228/1228 [00:11<00:00, 105.02it/s]\n"
     ]
    },
    {
     "name": "stdout",
     "output_type": "stream",
     "text": [
      "Epoch-035: L:0.1566\n"
     ]
    },
    {
     "name": "stderr",
     "output_type": "stream",
     "text": [
      "100%|██████████| 1228/1228 [00:11<00:00, 104.80it/s]\n"
     ]
    },
    {
     "name": "stdout",
     "output_type": "stream",
     "text": [
      "Epoch-036: L:0.1494\n"
     ]
    },
    {
     "name": "stderr",
     "output_type": "stream",
     "text": [
      "100%|██████████| 1228/1228 [00:11<00:00, 104.96it/s]\n"
     ]
    },
    {
     "name": "stdout",
     "output_type": "stream",
     "text": [
      "Epoch-037: L:0.1520\n"
     ]
    },
    {
     "name": "stderr",
     "output_type": "stream",
     "text": [
      "100%|██████████| 1228/1228 [00:11<00:00, 104.93it/s]\n"
     ]
    },
    {
     "name": "stdout",
     "output_type": "stream",
     "text": [
      "Epoch-038: L:0.1461\n"
     ]
    },
    {
     "name": "stderr",
     "output_type": "stream",
     "text": [
      "100%|██████████| 1228/1228 [00:11<00:00, 103.48it/s]\n"
     ]
    },
    {
     "name": "stdout",
     "output_type": "stream",
     "text": [
      "Epoch-039: L:0.1405\n"
     ]
    },
    {
     "name": "stderr",
     "output_type": "stream",
     "text": [
      "100%|██████████| 1228/1228 [00:11<00:00, 104.29it/s]\n"
     ]
    },
    {
     "name": "stdout",
     "output_type": "stream",
     "text": [
      "Epoch-040: L:0.1379\n"
     ]
    },
    {
     "name": "stderr",
     "output_type": "stream",
     "text": [
      "100%|██████████| 1228/1228 [00:11<00:00, 104.33it/s]\n"
     ]
    },
    {
     "name": "stdout",
     "output_type": "stream",
     "text": [
      "Epoch-041: L:0.1391\n"
     ]
    },
    {
     "name": "stderr",
     "output_type": "stream",
     "text": [
      "100%|██████████| 1228/1228 [00:11<00:00, 104.28it/s]\n"
     ]
    },
    {
     "name": "stdout",
     "output_type": "stream",
     "text": [
      "Epoch-042: L:0.1394\n"
     ]
    },
    {
     "name": "stderr",
     "output_type": "stream",
     "text": [
      "100%|██████████| 1228/1228 [00:11<00:00, 103.62it/s]\n"
     ]
    },
    {
     "name": "stdout",
     "output_type": "stream",
     "text": [
      "Epoch-043: L:0.1308\n"
     ]
    },
    {
     "name": "stderr",
     "output_type": "stream",
     "text": [
      "100%|██████████| 1228/1228 [00:11<00:00, 104.03it/s]\n"
     ]
    },
    {
     "name": "stdout",
     "output_type": "stream",
     "text": [
      "Epoch-044: L:0.1276\n"
     ]
    },
    {
     "name": "stderr",
     "output_type": "stream",
     "text": [
      "100%|██████████| 1228/1228 [00:11<00:00, 103.62it/s]\n"
     ]
    },
    {
     "name": "stdout",
     "output_type": "stream",
     "text": [
      "Epoch-045: L:0.1206\n"
     ]
    },
    {
     "name": "stderr",
     "output_type": "stream",
     "text": [
      "100%|██████████| 1228/1228 [00:11<00:00, 102.78it/s]\n"
     ]
    },
    {
     "name": "stdout",
     "output_type": "stream",
     "text": [
      "Epoch-046: L:0.1251\n"
     ]
    },
    {
     "name": "stderr",
     "output_type": "stream",
     "text": [
      "100%|██████████| 1228/1228 [00:11<00:00, 102.69it/s]\n"
     ]
    },
    {
     "name": "stdout",
     "output_type": "stream",
     "text": [
      "Epoch-047: L:0.1133\n"
     ]
    },
    {
     "name": "stderr",
     "output_type": "stream",
     "text": [
      "100%|██████████| 1228/1228 [00:11<00:00, 102.62it/s]\n"
     ]
    },
    {
     "name": "stdout",
     "output_type": "stream",
     "text": [
      "Epoch-048: L:0.1109\n"
     ]
    },
    {
     "name": "stderr",
     "output_type": "stream",
     "text": [
      "100%|██████████| 1228/1228 [00:11<00:00, 103.49it/s]\n"
     ]
    },
    {
     "name": "stdout",
     "output_type": "stream",
     "text": [
      "Epoch-049: L:0.1083\n"
     ]
    },
    {
     "name": "stderr",
     "output_type": "stream",
     "text": [
      "100%|██████████| 1228/1228 [00:11<00:00, 103.55it/s]\n"
     ]
    },
    {
     "name": "stdout",
     "output_type": "stream",
     "text": [
      "Epoch-050: L:0.1075\n"
     ]
    },
    {
     "name": "stderr",
     "output_type": "stream",
     "text": [
      "100%|██████████| 1228/1228 [00:11<00:00, 103.69it/s]\n"
     ]
    },
    {
     "name": "stdout",
     "output_type": "stream",
     "text": [
      "Epoch-051: L:0.1104\n"
     ]
    },
    {
     "name": "stderr",
     "output_type": "stream",
     "text": [
      "100%|██████████| 1228/1228 [00:11<00:00, 103.31it/s]\n"
     ]
    },
    {
     "name": "stdout",
     "output_type": "stream",
     "text": [
      "Epoch-052: L:0.1044\n"
     ]
    },
    {
     "name": "stderr",
     "output_type": "stream",
     "text": [
      "100%|██████████| 1228/1228 [00:11<00:00, 102.91it/s]\n"
     ]
    },
    {
     "name": "stdout",
     "output_type": "stream",
     "text": [
      "Epoch-053: L:0.1047\n"
     ]
    },
    {
     "name": "stderr",
     "output_type": "stream",
     "text": [
      "100%|██████████| 1228/1228 [00:11<00:00, 103.25it/s]\n"
     ]
    },
    {
     "name": "stdout",
     "output_type": "stream",
     "text": [
      "Epoch-054: L:0.1034\n"
     ]
    },
    {
     "name": "stderr",
     "output_type": "stream",
     "text": [
      "100%|██████████| 1228/1228 [00:11<00:00, 102.84it/s]\n"
     ]
    },
    {
     "name": "stdout",
     "output_type": "stream",
     "text": [
      "Epoch-055: L:0.1030\n"
     ]
    },
    {
     "name": "stderr",
     "output_type": "stream",
     "text": [
      "100%|██████████| 1228/1228 [00:11<00:00, 103.24it/s]\n"
     ]
    },
    {
     "name": "stdout",
     "output_type": "stream",
     "text": [
      "Epoch-056: L:0.0988\n"
     ]
    },
    {
     "name": "stderr",
     "output_type": "stream",
     "text": [
      "100%|██████████| 1228/1228 [00:11<00:00, 103.58it/s]\n"
     ]
    },
    {
     "name": "stdout",
     "output_type": "stream",
     "text": [
      "Epoch-057: L:0.1207\n"
     ]
    },
    {
     "name": "stderr",
     "output_type": "stream",
     "text": [
      "100%|██████████| 1228/1228 [00:11<00:00, 103.89it/s]\n"
     ]
    },
    {
     "name": "stdout",
     "output_type": "stream",
     "text": [
      "Epoch-058: L:0.1090\n"
     ]
    },
    {
     "name": "stderr",
     "output_type": "stream",
     "text": [
      "100%|██████████| 1228/1228 [00:11<00:00, 102.92it/s]\n"
     ]
    },
    {
     "name": "stdout",
     "output_type": "stream",
     "text": [
      "Epoch-059: L:0.0954\n"
     ]
    },
    {
     "name": "stderr",
     "output_type": "stream",
     "text": [
      "100%|██████████| 1228/1228 [00:11<00:00, 103.11it/s]\n"
     ]
    },
    {
     "name": "stdout",
     "output_type": "stream",
     "text": [
      "Epoch-060: L:0.1002\n"
     ]
    },
    {
     "name": "stderr",
     "output_type": "stream",
     "text": [
      "100%|██████████| 1228/1228 [00:11<00:00, 103.55it/s]\n"
     ]
    },
    {
     "name": "stdout",
     "output_type": "stream",
     "text": [
      "Epoch-061: L:0.0958\n"
     ]
    },
    {
     "name": "stderr",
     "output_type": "stream",
     "text": [
      "100%|██████████| 1228/1228 [00:11<00:00, 104.24it/s]\n"
     ]
    },
    {
     "name": "stdout",
     "output_type": "stream",
     "text": [
      "Epoch-062: L:0.1067\n"
     ]
    },
    {
     "name": "stderr",
     "output_type": "stream",
     "text": [
      "100%|██████████| 1228/1228 [00:11<00:00, 103.71it/s]\n"
     ]
    },
    {
     "name": "stdout",
     "output_type": "stream",
     "text": [
      "Epoch-063: L:0.0963\n"
     ]
    },
    {
     "name": "stderr",
     "output_type": "stream",
     "text": [
      "100%|██████████| 1228/1228 [00:11<00:00, 103.85it/s]\n"
     ]
    },
    {
     "name": "stdout",
     "output_type": "stream",
     "text": [
      "Epoch-064: L:0.0926\n"
     ]
    },
    {
     "name": "stderr",
     "output_type": "stream",
     "text": [
      "100%|██████████| 1228/1228 [00:11<00:00, 103.42it/s]\n"
     ]
    },
    {
     "name": "stdout",
     "output_type": "stream",
     "text": [
      "Epoch-065: L:0.0989\n"
     ]
    },
    {
     "name": "stderr",
     "output_type": "stream",
     "text": [
      "100%|██████████| 1228/1228 [00:11<00:00, 103.18it/s]\n"
     ]
    },
    {
     "name": "stdout",
     "output_type": "stream",
     "text": [
      "Epoch-066: L:0.0987\n"
     ]
    },
    {
     "name": "stderr",
     "output_type": "stream",
     "text": [
      "100%|██████████| 1228/1228 [00:11<00:00, 103.15it/s]\n"
     ]
    },
    {
     "name": "stdout",
     "output_type": "stream",
     "text": [
      "Epoch-067: L:0.0873\n"
     ]
    },
    {
     "name": "stderr",
     "output_type": "stream",
     "text": [
      "100%|██████████| 1228/1228 [00:11<00:00, 103.68it/s]\n"
     ]
    },
    {
     "name": "stdout",
     "output_type": "stream",
     "text": [
      "Epoch-068: L:0.0842\n"
     ]
    },
    {
     "name": "stderr",
     "output_type": "stream",
     "text": [
      "100%|██████████| 1228/1228 [00:11<00:00, 103.97it/s]\n"
     ]
    },
    {
     "name": "stdout",
     "output_type": "stream",
     "text": [
      "Epoch-069: L:0.1505\n"
     ]
    },
    {
     "name": "stderr",
     "output_type": "stream",
     "text": [
      "100%|██████████| 1228/1228 [00:11<00:00, 103.82it/s]\n"
     ]
    },
    {
     "name": "stdout",
     "output_type": "stream",
     "text": [
      "Epoch-070: L:0.0954\n"
     ]
    },
    {
     "name": "stderr",
     "output_type": "stream",
     "text": [
      "100%|██████████| 1228/1228 [00:11<00:00, 104.22it/s]\n"
     ]
    },
    {
     "name": "stdout",
     "output_type": "stream",
     "text": [
      "Epoch-071: L:0.0922\n"
     ]
    },
    {
     "name": "stderr",
     "output_type": "stream",
     "text": [
      "100%|██████████| 1228/1228 [00:11<00:00, 103.70it/s]\n"
     ]
    },
    {
     "name": "stdout",
     "output_type": "stream",
     "text": [
      "Epoch-072: L:0.0846\n"
     ]
    },
    {
     "name": "stderr",
     "output_type": "stream",
     "text": [
      "100%|██████████| 1228/1228 [00:11<00:00, 104.45it/s]\n"
     ]
    },
    {
     "name": "stdout",
     "output_type": "stream",
     "text": [
      "Epoch-073: L:0.0866\n"
     ]
    },
    {
     "name": "stderr",
     "output_type": "stream",
     "text": [
      "100%|██████████| 1228/1228 [00:11<00:00, 103.87it/s]\n"
     ]
    },
    {
     "name": "stdout",
     "output_type": "stream",
     "text": [
      "Epoch-074: L:0.0845\n"
     ]
    },
    {
     "name": "stderr",
     "output_type": "stream",
     "text": [
      "100%|██████████| 1228/1228 [00:11<00:00, 104.02it/s]\n"
     ]
    },
    {
     "name": "stdout",
     "output_type": "stream",
     "text": [
      "Epoch-075: L:0.0907\n"
     ]
    },
    {
     "name": "stderr",
     "output_type": "stream",
     "text": [
      "100%|██████████| 1228/1228 [00:11<00:00, 103.93it/s]\n"
     ]
    },
    {
     "name": "stdout",
     "output_type": "stream",
     "text": [
      "Epoch-076: L:0.0873\n"
     ]
    },
    {
     "name": "stderr",
     "output_type": "stream",
     "text": [
      "100%|██████████| 1228/1228 [00:11<00:00, 103.38it/s]\n"
     ]
    },
    {
     "name": "stdout",
     "output_type": "stream",
     "text": [
      "Epoch-077: L:0.0815\n"
     ]
    },
    {
     "name": "stderr",
     "output_type": "stream",
     "text": [
      "100%|██████████| 1228/1228 [00:11<00:00, 102.84it/s]\n"
     ]
    },
    {
     "name": "stdout",
     "output_type": "stream",
     "text": [
      "Epoch-078: L:0.0824\n"
     ]
    },
    {
     "name": "stderr",
     "output_type": "stream",
     "text": [
      "100%|██████████| 1228/1228 [00:11<00:00, 103.31it/s]\n"
     ]
    },
    {
     "name": "stdout",
     "output_type": "stream",
     "text": [
      "Epoch-079: L:0.0970\n"
     ]
    },
    {
     "name": "stderr",
     "output_type": "stream",
     "text": [
      "100%|██████████| 1228/1228 [00:11<00:00, 103.65it/s]\n"
     ]
    },
    {
     "name": "stdout",
     "output_type": "stream",
     "text": [
      "Epoch-080: L:0.0864\n"
     ]
    },
    {
     "name": "stderr",
     "output_type": "stream",
     "text": [
      "100%|██████████| 1228/1228 [00:11<00:00, 104.61it/s]\n"
     ]
    },
    {
     "name": "stdout",
     "output_type": "stream",
     "text": [
      "Epoch-081: L:0.0787\n"
     ]
    },
    {
     "name": "stderr",
     "output_type": "stream",
     "text": [
      "100%|██████████| 1228/1228 [00:11<00:00, 104.46it/s]\n"
     ]
    },
    {
     "name": "stdout",
     "output_type": "stream",
     "text": [
      "Epoch-082: L:0.0776\n"
     ]
    },
    {
     "name": "stderr",
     "output_type": "stream",
     "text": [
      "100%|██████████| 1228/1228 [00:11<00:00, 102.73it/s]\n"
     ]
    },
    {
     "name": "stdout",
     "output_type": "stream",
     "text": [
      "Epoch-083: L:0.0755\n"
     ]
    },
    {
     "name": "stderr",
     "output_type": "stream",
     "text": [
      "100%|██████████| 1228/1228 [00:11<00:00, 102.91it/s]\n"
     ]
    },
    {
     "name": "stdout",
     "output_type": "stream",
     "text": [
      "Epoch-084: L:0.0727\n"
     ]
    },
    {
     "name": "stderr",
     "output_type": "stream",
     "text": [
      "100%|██████████| 1228/1228 [00:11<00:00, 104.10it/s]\n"
     ]
    },
    {
     "name": "stdout",
     "output_type": "stream",
     "text": [
      "Epoch-085: L:0.0730\n"
     ]
    },
    {
     "name": "stderr",
     "output_type": "stream",
     "text": [
      "100%|██████████| 1228/1228 [00:11<00:00, 104.41it/s]\n"
     ]
    },
    {
     "name": "stdout",
     "output_type": "stream",
     "text": [
      "Epoch-086: L:0.0749\n"
     ]
    },
    {
     "name": "stderr",
     "output_type": "stream",
     "text": [
      "100%|██████████| 1228/1228 [00:11<00:00, 103.39it/s]\n"
     ]
    },
    {
     "name": "stdout",
     "output_type": "stream",
     "text": [
      "Epoch-087: L:0.0732\n"
     ]
    },
    {
     "name": "stderr",
     "output_type": "stream",
     "text": [
      "100%|██████████| 1228/1228 [00:11<00:00, 103.83it/s]\n"
     ]
    },
    {
     "name": "stdout",
     "output_type": "stream",
     "text": [
      "Epoch-088: L:0.0858\n"
     ]
    },
    {
     "name": "stderr",
     "output_type": "stream",
     "text": [
      "100%|██████████| 1228/1228 [00:11<00:00, 103.31it/s]\n"
     ]
    },
    {
     "name": "stdout",
     "output_type": "stream",
     "text": [
      "Epoch-089: L:0.0718\n"
     ]
    },
    {
     "name": "stderr",
     "output_type": "stream",
     "text": [
      "100%|██████████| 1228/1228 [00:11<00:00, 104.39it/s]\n"
     ]
    },
    {
     "name": "stdout",
     "output_type": "stream",
     "text": [
      "Epoch-090: L:0.0885\n"
     ]
    },
    {
     "name": "stderr",
     "output_type": "stream",
     "text": [
      "100%|██████████| 1228/1228 [00:11<00:00, 103.71it/s]\n"
     ]
    },
    {
     "name": "stdout",
     "output_type": "stream",
     "text": [
      "Epoch-091: L:0.0683\n"
     ]
    },
    {
     "name": "stderr",
     "output_type": "stream",
     "text": [
      "100%|██████████| 1228/1228 [00:11<00:00, 103.92it/s]\n"
     ]
    },
    {
     "name": "stdout",
     "output_type": "stream",
     "text": [
      "Epoch-092: L:0.0732\n"
     ]
    },
    {
     "name": "stderr",
     "output_type": "stream",
     "text": [
      "100%|██████████| 1228/1228 [00:11<00:00, 104.06it/s]\n"
     ]
    },
    {
     "name": "stdout",
     "output_type": "stream",
     "text": [
      "Epoch-093: L:0.0752\n"
     ]
    },
    {
     "name": "stderr",
     "output_type": "stream",
     "text": [
      "100%|██████████| 1228/1228 [00:11<00:00, 104.31it/s]\n"
     ]
    },
    {
     "name": "stdout",
     "output_type": "stream",
     "text": [
      "Epoch-094: L:0.0684\n"
     ]
    },
    {
     "name": "stderr",
     "output_type": "stream",
     "text": [
      "100%|██████████| 1228/1228 [00:11<00:00, 104.26it/s]\n"
     ]
    },
    {
     "name": "stdout",
     "output_type": "stream",
     "text": [
      "Epoch-095: L:0.0829\n"
     ]
    },
    {
     "name": "stderr",
     "output_type": "stream",
     "text": [
      "100%|██████████| 1228/1228 [00:11<00:00, 104.44it/s]\n"
     ]
    },
    {
     "name": "stdout",
     "output_type": "stream",
     "text": [
      "Epoch-096: L:0.0742\n"
     ]
    },
    {
     "name": "stderr",
     "output_type": "stream",
     "text": [
      "100%|██████████| 1228/1228 [00:11<00:00, 104.35it/s]\n"
     ]
    },
    {
     "name": "stdout",
     "output_type": "stream",
     "text": [
      "Epoch-097: L:0.0680\n"
     ]
    },
    {
     "name": "stderr",
     "output_type": "stream",
     "text": [
      "100%|██████████| 1228/1228 [00:11<00:00, 104.24it/s]\n"
     ]
    },
    {
     "name": "stdout",
     "output_type": "stream",
     "text": [
      "Epoch-098: L:0.0706\n"
     ]
    },
    {
     "name": "stderr",
     "output_type": "stream",
     "text": [
      "100%|██████████| 1228/1228 [00:11<00:00, 102.72it/s]"
     ]
    },
    {
     "name": "stdout",
     "output_type": "stream",
     "text": [
      "Epoch-099: L:0.0845\n"
     ]
    },
    {
     "name": "stderr",
     "output_type": "stream",
     "text": [
      "\n"
     ]
    }
   ],
   "source": [
    "from torch.optim import Adam\n",
    "\n",
    "\n",
    "max_epochs = 100\n",
    "optim = Adam(params=model.parameters())\n",
    "\n",
    "for epoch in range(max_epochs):\n",
    "    epoch_loss = []\n",
    "    for batch in tqdm(train_dl):\n",
    "        optim.zero_grad()\n",
    "        # put batch on device\n",
    "        for k, v in batch.items():\n",
    "            batch[k] = v.to(device=device)\n",
    "\n",
    "        # forward pass\n",
    "        result = model(batch)\n",
    "        \n",
    "        # agregate loss on all levels\n",
    "        loss = torch.tensor(0.).to(device=device)\n",
    "        for k in result.keys():\n",
    "            output = result[k]\n",
    "            gt = batch['labels'][:, train_ds.label_names.index(k)] # type:ignore\n",
    "            loss += criterion(output, gt)\n",
    "        \n",
    "        loss.backward()\n",
    "        optim.step()\n",
    "        epoch_loss.append(loss.item())\n",
    "    print(f\"Epoch-{epoch:03}: L:{np.mean(epoch_loss):.4f}\")\n",
    "    "
   ]
  },
  {
   "cell_type": "code",
   "execution_count": 7,
   "metadata": {},
   "outputs": [
    {
     "ename": "NameError",
     "evalue": "name 'batch' is not defined",
     "output_type": "error",
     "traceback": [
      "\u001b[0;31m---------------------------------------------------------------------------\u001b[0m",
      "\u001b[0;31mNameError\u001b[0m                                 Traceback (most recent call last)",
      "Cell \u001b[0;32mIn[7], line 1\u001b[0m\n\u001b[0;32m----> 1\u001b[0m \u001b[38;5;28;01mfor\u001b[39;00m v \u001b[38;5;129;01min\u001b[39;00m batch\u001b[38;5;241m.\u001b[39mvalues():\n\u001b[1;32m      2\u001b[0m     \u001b[38;5;28mprint\u001b[39m(\u001b[38;5;28mtype\u001b[39m(v))\n\u001b[1;32m      3\u001b[0m     v\u001b[38;5;241m.\u001b[39mto(device\u001b[38;5;241m=\u001b[39m\u001b[38;5;124m'\u001b[39m\u001b[38;5;124mcuda\u001b[39m\u001b[38;5;124m'\u001b[39m)\n",
      "\u001b[0;31mNameError\u001b[0m: name 'batch' is not defined"
     ]
    }
   ],
   "source": [
    "for v in batch.values():\n",
    "    print(type(v))\n",
    "    v.to(device='cuda')"
   ]
  },
  {
   "cell_type": "code",
   "execution_count": 76,
   "metadata": {},
   "outputs": [
    {
     "name": "stdout",
     "output_type": "stream",
     "text": [
      "------------------------------\n",
      "              0               \n",
      "------------------------------\n",
      "inputs........................ (20, 16)\n",
      "wfm........................... (20, 32)\n",
      "labels........................ (2,)\n",
      "------------------------------\n",
      "              1               \n",
      "------------------------------\n",
      "inputs........................ (20, 16)\n",
      "wfm........................... (20, 32)\n",
      "labels........................ (2,)\n",
      "------------------------------\n",
      "              2               \n",
      "------------------------------\n",
      "inputs........................ (20, 16)\n",
      "wfm........................... (20, 32)\n",
      "labels........................ (2,)\n",
      "------------------------------\n",
      "              3               \n",
      "------------------------------\n",
      "inputs........................ (20, 16)\n",
      "wfm........................... (20, 32)\n",
      "labels........................ (2,)\n",
      "------------------------------\n",
      "              4               \n",
      "------------------------------\n",
      "inputs........................ (20, 16)\n",
      "wfm........................... (20, 32)\n",
      "labels........................ (2,)\n",
      "------------------------------\n",
      "              5               \n",
      "------------------------------\n",
      "inputs........................ (20, 16)\n",
      "wfm........................... (20, 32)\n",
      "labels........................ (2,)\n",
      "------------------------------\n",
      "              6               \n",
      "------------------------------\n",
      "inputs........................ (20, 16)\n",
      "wfm........................... (20, 32)\n",
      "labels........................ (2,)\n",
      "------------------------------\n",
      "              7               \n",
      "------------------------------\n",
      "inputs........................ (20, 16)\n",
      "wfm........................... (20, 32)\n",
      "labels........................ (2,)\n",
      "------------------------------\n",
      "              8               \n",
      "------------------------------\n",
      "inputs........................ (20, 16)\n",
      "wfm........................... (20, 32)\n",
      "labels........................ (2,)\n",
      "------------------------------\n",
      "              9               \n",
      "------------------------------\n",
      "inputs........................ (20, 16)\n",
      "wfm........................... (20, 32)\n",
      "labels........................ (2,)\n",
      "------------------------------\n",
      "              10              \n",
      "------------------------------\n",
      "inputs........................ (20, 16)\n",
      "wfm........................... (20, 32)\n",
      "labels........................ (2,)\n",
      "------------------------------\n",
      "              11              \n",
      "------------------------------\n",
      "inputs........................ (20, 16)\n",
      "wfm........................... (20, 32)\n",
      "labels........................ (2,)\n",
      "------------------------------\n",
      "              12              \n",
      "------------------------------\n",
      "inputs........................ (20, 16)\n",
      "wfm........................... (20, 32)\n",
      "labels........................ (2,)\n",
      "------------------------------\n",
      "              13              \n",
      "------------------------------\n",
      "inputs........................ (20, 16)\n",
      "wfm........................... (20, 32)\n",
      "labels........................ (2,)\n",
      "------------------------------\n",
      "              14              \n",
      "------------------------------\n",
      "inputs........................ (20, 16)\n",
      "wfm........................... (20, 32)\n",
      "labels........................ (2,)\n",
      "------------------------------\n",
      "              15              \n",
      "------------------------------\n",
      "inputs........................ (20, 16)\n",
      "wfm........................... (20, 32)\n",
      "labels........................ (2,)\n",
      "------------------------------\n",
      "              16              \n",
      "------------------------------\n",
      "inputs........................ (20, 16)\n",
      "wfm........................... (20, 32)\n",
      "labels........................ (2,)\n",
      "------------------------------\n",
      "              17              \n",
      "------------------------------\n",
      "inputs........................ (20, 16)\n",
      "wfm........................... (20, 32)\n",
      "labels........................ (2,)\n",
      "------------------------------\n",
      "              18              \n",
      "------------------------------\n",
      "inputs........................ (20, 16)\n",
      "wfm........................... (20, 32)\n",
      "labels........................ (2,)\n",
      "------------------------------\n",
      "              19              \n",
      "------------------------------\n",
      "inputs........................ (20, 16)\n",
      "wfm........................... (20, 32)\n",
      "labels........................ (2,)\n",
      "------------------------------\n",
      "              20              \n",
      "------------------------------\n",
      "inputs........................ (20, 16)\n",
      "wfm........................... (20, 32)\n",
      "labels........................ (2,)\n",
      "------------------------------\n",
      "              21              \n",
      "------------------------------\n",
      "inputs........................ (20, 16)\n",
      "wfm........................... (20, 32)\n",
      "labels........................ (2,)\n",
      "------------------------------\n",
      "              22              \n",
      "------------------------------\n",
      "inputs........................ (20, 16)\n",
      "wfm........................... (20, 32)\n",
      "labels........................ (2,)\n",
      "------------------------------\n",
      "              23              \n",
      "------------------------------\n",
      "inputs........................ (20, 16)\n",
      "wfm........................... (20, 32)\n",
      "labels........................ (2,)\n",
      "------------------------------\n",
      "              24              \n",
      "------------------------------\n",
      "inputs........................ (20, 16)\n",
      "wfm........................... (20, 32)\n",
      "labels........................ (2,)\n",
      "------------------------------\n",
      "              25              \n",
      "------------------------------\n",
      "inputs........................ (20, 16)\n",
      "wfm........................... (20, 32)\n",
      "labels........................ (2,)\n",
      "------------------------------\n",
      "              26              \n",
      "------------------------------\n",
      "inputs........................ (20, 16)\n",
      "wfm........................... (20, 32)\n",
      "labels........................ (2,)\n",
      "------------------------------\n",
      "              27              \n",
      "------------------------------\n",
      "inputs........................ (20, 16)\n",
      "wfm........................... (20, 32)\n",
      "labels........................ (2,)\n",
      "------------------------------\n",
      "              28              \n",
      "------------------------------\n",
      "inputs........................ (20, 16)\n",
      "wfm........................... (20, 32)\n",
      "labels........................ (2,)\n",
      "------------------------------\n",
      "              29              \n",
      "------------------------------\n",
      "inputs........................ (20, 16)\n",
      "wfm........................... (20, 32)\n",
      "labels........................ (2,)\n",
      "------------------------------\n",
      "              30              \n",
      "------------------------------\n",
      "inputs........................ (20, 16)\n",
      "wfm........................... (20, 32)\n",
      "labels........................ (2,)\n",
      "------------------------------\n",
      "              31              \n",
      "------------------------------\n",
      "inputs........................ (20, 16)\n",
      "wfm........................... (20, 32)\n",
      "labels........................ (2,)\n",
      "------------------------------\n",
      "              32              \n",
      "------------------------------\n",
      "inputs........................ (20, 16)\n",
      "wfm........................... (20, 32)\n",
      "labels........................ (2,)\n",
      "------------------------------\n",
      "              33              \n",
      "------------------------------\n",
      "inputs........................ (20, 16)\n",
      "wfm........................... (20, 32)\n",
      "labels........................ (2,)\n",
      "------------------------------\n",
      "              34              \n",
      "------------------------------\n",
      "inputs........................ (20, 16)\n",
      "wfm........................... (20, 32)\n",
      "labels........................ (2,)\n",
      "------------------------------\n",
      "              35              \n",
      "------------------------------\n",
      "inputs........................ (20, 16)\n",
      "wfm........................... (20, 32)\n",
      "labels........................ (2,)\n",
      "------------------------------\n",
      "              36              \n",
      "------------------------------\n",
      "inputs........................ (20, 16)\n",
      "wfm........................... (20, 32)\n",
      "labels........................ (2,)\n",
      "------------------------------\n",
      "              37              \n",
      "------------------------------\n",
      "inputs........................ (20, 16)\n",
      "wfm........................... (20, 32)\n",
      "labels........................ (2,)\n",
      "------------------------------\n",
      "              38              \n",
      "------------------------------\n",
      "inputs........................ (20, 16)\n",
      "wfm........................... (20, 32)\n",
      "labels........................ (2,)\n",
      "------------------------------\n",
      "              39              \n",
      "------------------------------\n",
      "inputs........................ (20, 16)\n",
      "wfm........................... (20, 32)\n",
      "labels........................ (2,)\n",
      "------------------------------\n",
      "              40              \n",
      "------------------------------\n",
      "inputs........................ (20, 16)\n",
      "wfm........................... (20, 32)\n",
      "labels........................ (2,)\n",
      "------------------------------\n",
      "              41              \n",
      "------------------------------\n",
      "inputs........................ (20, 16)\n",
      "wfm........................... (20, 32)\n",
      "labels........................ (2,)\n",
      "------------------------------\n",
      "              42              \n",
      "------------------------------\n",
      "inputs........................ (20, 16)\n",
      "wfm........................... (20, 32)\n",
      "labels........................ (2,)\n",
      "------------------------------\n",
      "              43              \n",
      "------------------------------\n",
      "inputs........................ (20, 16)\n",
      "wfm........................... (20, 32)\n",
      "labels........................ (2,)\n",
      "------------------------------\n",
      "              44              \n",
      "------------------------------\n",
      "inputs........................ (20, 16)\n",
      "wfm........................... (20, 32)\n",
      "labels........................ (2,)\n",
      "------------------------------\n",
      "              45              \n",
      "------------------------------\n",
      "inputs........................ (20, 16)\n",
      "wfm........................... (20, 32)\n",
      "labels........................ (2,)\n",
      "------------------------------\n",
      "              46              \n",
      "------------------------------\n",
      "inputs........................ (20, 16)\n",
      "wfm........................... (20, 32)\n",
      "labels........................ (2,)\n",
      "------------------------------\n",
      "              47              \n",
      "------------------------------\n",
      "inputs........................ (20, 16)\n",
      "wfm........................... (20, 32)\n",
      "labels........................ (2,)\n",
      "------------------------------\n",
      "              48              \n",
      "------------------------------\n",
      "inputs........................ (20, 16)\n",
      "wfm........................... (20, 32)\n",
      "labels........................ (2,)\n",
      "------------------------------\n",
      "              49              \n",
      "------------------------------\n",
      "inputs........................ (20, 16)\n",
      "wfm........................... (20, 32)\n",
      "labels........................ (2,)\n",
      "------------------------------\n",
      "              50              \n",
      "------------------------------\n",
      "inputs........................ (20, 16)\n",
      "wfm........................... (20, 32)\n",
      "labels........................ (2,)\n",
      "------------------------------\n",
      "              51              \n",
      "------------------------------\n",
      "inputs........................ (20, 16)\n",
      "wfm........................... (20, 32)\n",
      "labels........................ (2,)\n",
      "------------------------------\n",
      "              52              \n",
      "------------------------------\n",
      "inputs........................ (20, 16)\n",
      "wfm........................... (20, 32)\n",
      "labels........................ (2,)\n",
      "------------------------------\n",
      "              53              \n",
      "------------------------------\n",
      "inputs........................ (20, 16)\n",
      "wfm........................... (20, 32)\n",
      "labels........................ (2,)\n",
      "------------------------------\n",
      "              54              \n",
      "------------------------------\n",
      "inputs........................ (20, 16)\n",
      "wfm........................... (20, 32)\n",
      "labels........................ (2,)\n",
      "------------------------------\n",
      "              55              \n",
      "------------------------------\n",
      "inputs........................ (20, 16)\n",
      "wfm........................... (20, 32)\n",
      "labels........................ (2,)\n",
      "------------------------------\n",
      "              56              \n",
      "------------------------------\n",
      "inputs........................ (20, 16)\n",
      "wfm........................... (20, 32)\n",
      "labels........................ (2,)\n",
      "------------------------------\n",
      "              57              \n",
      "------------------------------\n",
      "inputs........................ (20, 16)\n",
      "wfm........................... (20, 32)\n",
      "labels........................ (2,)\n",
      "------------------------------\n",
      "              58              \n",
      "------------------------------\n",
      "inputs........................ (20, 16)\n",
      "wfm........................... (20, 32)\n",
      "labels........................ (2,)\n",
      "------------------------------\n",
      "              59              \n",
      "------------------------------\n",
      "inputs........................ (20, 16)\n",
      "wfm........................... (20, 32)\n",
      "labels........................ (2,)\n",
      "------------------------------\n",
      "              60              \n",
      "------------------------------\n",
      "inputs........................ (20, 16)\n",
      "wfm........................... (20, 32)\n",
      "labels........................ (2,)\n",
      "------------------------------\n",
      "              61              \n",
      "------------------------------\n",
      "inputs........................ (20, 16)\n",
      "wfm........................... (20, 32)\n",
      "labels........................ (2,)\n",
      "------------------------------\n",
      "              62              \n",
      "------------------------------\n",
      "inputs........................ (20, 16)\n",
      "wfm........................... (20, 32)\n",
      "labels........................ (2,)\n",
      "------------------------------\n",
      "              63              \n",
      "------------------------------\n",
      "inputs........................ (20, 16)\n",
      "wfm........................... (20, 32)\n",
      "labels........................ (2,)\n",
      "------------------------------\n",
      "              64              \n",
      "------------------------------\n",
      "inputs........................ (20, 16)\n",
      "wfm........................... (20, 32)\n",
      "labels........................ (2,)\n",
      "------------------------------\n",
      "              65              \n",
      "------------------------------\n",
      "inputs........................ (20, 16)\n",
      "wfm........................... (20, 32)\n",
      "labels........................ (2,)\n",
      "------------------------------\n",
      "              66              \n",
      "------------------------------\n",
      "inputs........................ (20, 16)\n",
      "wfm........................... (20, 32)\n",
      "labels........................ (2,)\n",
      "------------------------------\n",
      "              67              \n",
      "------------------------------\n",
      "inputs........................ (20, 16)\n",
      "wfm........................... (20, 32)\n",
      "labels........................ (2,)\n",
      "------------------------------\n",
      "              68              \n",
      "------------------------------\n",
      "inputs........................ (20, 16)\n",
      "wfm........................... (20, 32)\n",
      "labels........................ (2,)\n",
      "------------------------------\n",
      "              69              \n",
      "------------------------------\n",
      "inputs........................ (20, 16)\n",
      "wfm........................... (20, 32)\n",
      "labels........................ (2,)\n",
      "------------------------------\n",
      "              70              \n",
      "------------------------------\n",
      "inputs........................ (20, 16)\n",
      "wfm........................... (20, 32)\n",
      "labels........................ (2,)\n",
      "------------------------------\n",
      "              71              \n",
      "------------------------------\n",
      "inputs........................ (20, 16)\n",
      "wfm........................... (20, 32)\n",
      "labels........................ (2,)\n",
      "------------------------------\n",
      "              72              \n",
      "------------------------------\n",
      "inputs........................ (20, 16)\n",
      "wfm........................... (20, 32)\n",
      "labels........................ (2,)\n",
      "------------------------------\n",
      "              73              \n",
      "------------------------------\n",
      "inputs........................ (20, 16)\n",
      "wfm........................... (20, 32)\n",
      "labels........................ (2,)\n",
      "------------------------------\n",
      "              74              \n",
      "------------------------------\n",
      "inputs........................ (20, 16)\n",
      "wfm........................... (20, 32)\n",
      "labels........................ (2,)\n",
      "------------------------------\n",
      "              75              \n",
      "------------------------------\n",
      "inputs........................ (20, 16)\n",
      "wfm........................... (20, 32)\n",
      "labels........................ (2,)\n",
      "------------------------------\n",
      "              76              \n",
      "------------------------------\n",
      "inputs........................ (20, 16)\n",
      "wfm........................... (20, 32)\n",
      "labels........................ (2,)\n",
      "------------------------------\n",
      "              77              \n",
      "------------------------------\n",
      "inputs........................ (20, 16)\n",
      "wfm........................... (20, 32)\n",
      "labels........................ (2,)\n",
      "------------------------------\n",
      "              78              \n",
      "------------------------------\n",
      "inputs........................ (20, 16)\n",
      "wfm........................... (20, 32)\n",
      "labels........................ (2,)\n",
      "------------------------------\n",
      "              79              \n",
      "------------------------------\n",
      "inputs........................ (20, 16)\n",
      "wfm........................... (20, 32)\n",
      "labels........................ (2,)\n",
      "------------------------------\n",
      "              80              \n",
      "------------------------------\n",
      "inputs........................ (20, 16)\n",
      "wfm........................... (20, 32)\n",
      "labels........................ (2,)\n",
      "------------------------------\n",
      "              81              \n",
      "------------------------------\n",
      "inputs........................ (20, 16)\n",
      "wfm........................... (20, 32)\n",
      "labels........................ (2,)\n",
      "------------------------------\n",
      "              82              \n",
      "------------------------------\n",
      "inputs........................ (20, 16)\n",
      "wfm........................... (20, 32)\n",
      "labels........................ (2,)\n",
      "------------------------------\n",
      "              83              \n",
      "------------------------------\n",
      "inputs........................ (20, 16)\n",
      "wfm........................... (20, 32)\n",
      "labels........................ (2,)\n",
      "------------------------------\n",
      "              84              \n",
      "------------------------------\n",
      "inputs........................ (20, 16)\n",
      "wfm........................... (20, 32)\n",
      "labels........................ (2,)\n",
      "------------------------------\n",
      "              85              \n",
      "------------------------------\n",
      "inputs........................ (20, 16)\n",
      "wfm........................... (20, 32)\n",
      "labels........................ (2,)\n",
      "------------------------------\n",
      "              86              \n",
      "------------------------------\n",
      "inputs........................ (20, 16)\n",
      "wfm........................... (20, 32)\n",
      "labels........................ (2,)\n",
      "------------------------------\n",
      "              87              \n",
      "------------------------------\n",
      "inputs........................ (20, 16)\n",
      "wfm........................... (20, 32)\n",
      "labels........................ (2,)\n",
      "------------------------------\n",
      "              88              \n",
      "------------------------------\n",
      "inputs........................ (20, 16)\n",
      "wfm........................... (20, 32)\n",
      "labels........................ (2,)\n",
      "------------------------------\n",
      "              89              \n",
      "------------------------------\n",
      "inputs........................ (20, 16)\n",
      "wfm........................... (20, 32)\n",
      "labels........................ (2,)\n",
      "------------------------------\n",
      "              90              \n",
      "------------------------------\n",
      "inputs........................ (20, 16)\n",
      "wfm........................... (20, 32)\n",
      "labels........................ (2,)\n",
      "------------------------------\n",
      "              91              \n",
      "------------------------------\n",
      "inputs........................ (20, 16)\n",
      "wfm........................... (20, 32)\n",
      "labels........................ (2,)\n",
      "------------------------------\n",
      "              92              \n",
      "------------------------------\n",
      "inputs........................ (20, 16)\n",
      "wfm........................... (20, 32)\n",
      "labels........................ (2,)\n",
      "------------------------------\n",
      "              93              \n",
      "------------------------------\n",
      "inputs........................ (20, 16)\n",
      "wfm........................... (20, 32)\n",
      "labels........................ (2,)\n",
      "------------------------------\n",
      "              94              \n",
      "------------------------------\n",
      "inputs........................ (20, 16)\n",
      "wfm........................... (20, 32)\n",
      "labels........................ (2,)\n",
      "------------------------------\n",
      "              95              \n",
      "------------------------------\n",
      "inputs........................ (20, 16)\n",
      "wfm........................... (20, 32)\n",
      "labels........................ (2,)\n",
      "------------------------------\n",
      "              96              \n",
      "------------------------------\n",
      "inputs........................ (20, 16)\n",
      "wfm........................... (20, 32)\n",
      "labels........................ (2,)\n",
      "------------------------------\n",
      "              97              \n",
      "------------------------------\n",
      "inputs........................ (20, 16)\n",
      "wfm........................... (20, 32)\n",
      "labels........................ (2,)\n",
      "------------------------------\n",
      "              98              \n",
      "------------------------------\n",
      "inputs........................ (20, 16)\n",
      "wfm........................... (20, 32)\n",
      "labels........................ (2,)\n",
      "------------------------------\n",
      "              99              \n",
      "------------------------------\n",
      "inputs........................ (20, 16)\n",
      "wfm........................... (20, 32)\n",
      "labels........................ (2,)\n"
     ]
    }
   ],
   "source": [
    "# for j in range(100):\n",
    "#     print(\"-\"*30)\n",
    "#     print(f\"{j:^30}\")\n",
    "#     print(\"-\"*30)\n",
    "#     for i in train_ds[j].items():\n",
    "#         print(f\"{i[0]:.<30}\", i[1].shape)"
   ]
  },
  {
   "cell_type": "code",
   "execution_count": 35,
   "metadata": {},
   "outputs": [],
   "source": [
    "input_fields = [\n",
    "    # ('labels',4),\n",
    "    # ('wfm',32),\n",
    "    ('xyz',3),\n",
    "    ('rgb',3),\n",
    "    ('riegl_feats',5),\n",
    "    ('normals',3),\n",
    "    ('incAngles',1),\n",
    "    ('distanceFromScanner',1)\n",
    "]"
   ]
  },
  {
   "cell_type": "code",
   "execution_count": null,
   "metadata": {},
   "outputs": [],
   "source": [
    "# visualize normals\n",
    "# proj = train_ds.projects[7]\n",
    "for i, proj in enumerate(train_ds.projects):\n",
    "    PlyData([PlyElement.describe(pd.DataFrame(np.concatenate([proj['xyz'],proj['normals'],np.squeeze(proj['incAngles'])[:,None],proj['distanceFromScanner'][:,None], proj['sop_ids'][:,None]], axis=1),columns=['x','y','z','nx','ny','nz','incAngle','distanceFromScanner','sop_ids']).to_records(index=False),'vertex')]).write(f\"./_temp/proj_{i:03}.ply\")"
   ]
  },
  {
   "cell_type": "code",
   "execution_count": null,
   "metadata": {},
   "outputs": [],
   "source": []
  },
  {
   "cell_type": "code",
   "execution_count": null,
   "metadata": {},
   "outputs": [],
   "source": []
  }
 ],
 "metadata": {
  "kernelspec": {
   "display_name": "base",
   "language": "python",
   "name": "python3"
  },
  "language_info": {
   "codemirror_mode": {
    "name": "ipython",
    "version": 3
   },
   "file_extension": ".py",
   "mimetype": "text/x-python",
   "name": "python",
   "nbconvert_exporter": "python",
   "pygments_lexer": "ipython3",
   "version": "3.9.12"
  }
 },
 "nbformat": 4,
 "nbformat_minor": 2
}
