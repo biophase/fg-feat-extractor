{
 "cells": [
  {
   "cell_type": "code",
   "execution_count": 1,
   "metadata": {},
   "outputs": [
    {
     "name": "stdout",
     "output_type": "stream",
     "text": [
      "general:\n",
      "  device: cuda\n",
      "  batch_size: 1024\n",
      "  weight_decay: 0.0005\n",
      "  max_epochs: 50\n",
      "data:\n",
      "  dataset_root: ../../02_Datasets/FWF_Subsampled/0.01/\n",
      "  split: ./config/default_split.yaml\n",
      "  preprocessing:\n",
      "    _transformsTraining_:\n",
      "      xyz:\n",
      "        TransCenterXyz: {}\n",
      "        TransZRotation: {}\n",
      "        TransScaling: {}\n",
      "        TransGaussianNoise:\n",
      "          mean: 0\n",
      "          std: 0.002\n",
      "      rgb:\n",
      "        TransGaussianNoise:\n",
      "          mean: 0\n",
      "          std: 0.02\n",
      "        TransFeatureDropout:\n",
      "          dropout_prob: 0.1\n",
      "      wfm:\n",
      "        TransSignalScaling: {}\n",
      "      normals:\n",
      "        TransGaussianNoise:\n",
      "          mean: 0\n",
      "          std: 0.05\n",
      "      incAngles:\n",
      "        TransGaussianNoise:\n",
      "          mean: 0\n",
      "          std: 0.05\n",
      "        TransStandardize:\n",
      "          mean: 2.07\n",
      "          std: 0.38\n",
      "      distanceFromScanner:\n",
      "        TransGaussianNoise:\n",
      "          mean: 12.13\n",
      "          std: 12.2\n",
      "    _transformsValidation_:\n",
      "      xyz:\n",
      "        TransCenterXyz: {}\n",
      "      incAngles:\n",
      "        TransStandardize:\n",
      "          mean: 2.07\n",
      "          std: 0.38\n",
      "      distanceFromScanner:\n",
      "        TransStandardize:\n",
      "          mean: 12.13\n",
      "          std: 12.2\n",
      "  scalar_input_fields:\n",
      "  - xyz\n",
      "  - rgb\n",
      "  - riegl_feats\n",
      "  - normals\n",
      "  - incAngles\n",
      "  - distanceFromScanner\n",
      "  fw_input_field: true\n",
      "  label_names:\n",
      "  - labels_0\n",
      "  query_grid_size: 0.15\n",
      "  subsample_on_gpu: true\n",
      "  num_neib_normalsComputation: 20\n",
      "  num_neib_featureExtraction: 256\n",
      "  _trainProjects_:\n",
      "  - proj_name: 2024-03-22_FW_Koenigshuegel.FwfProj\n",
      "  - proj_name: 2024-04-05_FW_Westbahnhof_02.FwfProj\n",
      "  - proj_name: 2024-04-05_FW_Westbahnhof_03.FwfProj\n",
      "  - proj_name: 2024-04-05_FW_Westbahnhof_04.FwfProj\n",
      "  - proj_name: 2024-04-05_FW_Westbahnhof_05.FwfProj\n",
      "  - proj_name: 2024-05-10_FW_RWTH_Zentrum_01.FwfProj\n",
      "  - proj_name: 2024-07-31_FW_Bruecke_Koenigstr.FwfProj\n",
      "    bboxes:\n",
      "    - 0\n",
      "    - 2\n",
      "  - proj_name: 2024-08-02_FW_Bruecke_A44_VerlautenheidenerStr.FwfProj\n",
      "  - proj_name: 2024-08-02_FW_Bruecke_Deltourserb.FwfProj\n",
      "  - proj_name: 2024-08-02_FW_Bruecke_Kasinostrasse.FwfProj\n",
      "    bboxes:\n",
      "    - 1\n",
      "  - proj_name: 2024-08-02_FW_Bruecke_RotheErde.FwfProj\n",
      "  - proj_name: 2024-08-02_FW_Bruecke_Rottstrasse.FwfProj\n",
      "  _valProjects_:\n",
      "  - proj_name: 2023-08-28_FW_EingangBauing.FwfProj\n",
      "  - proj_name: 2024-04-05_FW_Westbahnhof_01.FwfProj\n",
      "  - proj_name: 2024-07-31_FW_Bruecke_Koenigstr.FwfProj\n",
      "    bboxes:\n",
      "    - 1\n",
      "  - proj_name: 2024-08-02_FW_Bruecke_Kasinostrasse.FwfProj\n",
      "    bboxes:\n",
      "    - 0\n",
      "  - proj_name: 2024-07-31_FW_Bruecke_Turmstr.FwfProj\n",
      "  label_schema:\n",
      "    labels_0:\n",
      "      scanArtefact: 0\n",
      "      manMade: 1\n",
      "      natural: 2\n",
      "    labels_1:\n",
      "      unspecified: 0\n",
      "      building: 1\n",
      "      sealedSurface: 2\n",
      "      streetFurniture: 3\n",
      "      vegetation: 4\n",
      "      vehicle: 5\n",
      "      naturalGround: 6\n",
      "      movingObject: 7\n",
      "    labels_2:\n",
      "      unspecified: 0\n",
      "      electricalAppliance: 1\n",
      "      facadeSurface: 2\n",
      "      pipeLike: 3\n",
      "      frameElement: 4\n",
      "      sign: 5\n",
      "      kerbStone: 6\n",
      "      nonTiledPaving: 7\n",
      "      shaft: 8\n",
      "      stair: 9\n",
      "      tiledPaving: 10\n",
      "      fence: 11\n",
      "      trashCan: 12\n",
      "      vegetation: 13\n",
      "      bicycle: 14\n",
      "      car: 15\n",
      "      scooter: 16\n",
      "      naturalGround: 17\n",
      "    labels_3:\n",
      "      unspecified: 0\n",
      "      metal: 1\n",
      "      naturalStone: 2\n",
      "      brick: 3\n",
      "      brick(graffiti): 4\n",
      "      concrete: 5\n",
      "      concrete(rough): 6\n",
      "      concrete(graffiti): 7\n",
      "      marking: 8\n",
      "      mesh: 9\n",
      "      plastic: 10\n",
      "      poster: 11\n",
      "      leaves: 12\n",
      "      asphalt: 13\n",
      "      cable: 14\n",
      "      grass: 15\n",
      "      soil: 16\n",
      "      treeTrunk: 17\n",
      "model:\n",
      "  use_global_constraint: true\n",
      "  dropout_prob: 0.3\n",
      "\n"
     ]
    }
   ],
   "source": [
    "# imports\n",
    "from utils.pointcloud import BBox, grid_subsample_simple\n",
    "from data.fwf_dataset import FwfDataset\n",
    "from models.fgf import FGFeatNetwork\n",
    "from omegaconf import OmegaConf\n",
    "import tracemalloc\n",
    "\n",
    "# tracemalloc.start()\n",
    "\n",
    "\n",
    "import numpy as np\n",
    "import json\n",
    "import os\n",
    "\n",
    "\n",
    "# build config\n",
    "cfg = OmegaConf.load(\"./config/default.yaml\")\n",
    "cfg = OmegaConf.merge(cfg, OmegaConf.load(cfg.data.split))\n",
    "with open(os.path.join(cfg.data.dataset_root, 'class_dict.json'),'r') as f:\n",
    "    cfg = OmegaConf.merge(cfg, OmegaConf.create({'data':{'label_schema':json.load(f)}}))\n",
    "\n",
    "\n",
    "print(OmegaConf.to_yaml(cfg))\n",
    "\n",
    "\n",
    "\n",
    "\n"
   ]
  },
  {
   "cell_type": "code",
   "execution_count": 2,
   "metadata": {},
   "outputs": [
    {
     "name": "stdout",
     "output_type": "stream",
     "text": [
      "Loading '2024-03-22_FW_Koenigshuegel.FwfProj'; Bounding box IDs = default\n",
      "Loading '2024-04-05_FW_Westbahnhof_02.FwfProj'; Bounding box IDs = default\n",
      "Loading '2024-04-05_FW_Westbahnhof_03.FwfProj'; Bounding box IDs = default\n",
      "Loading '2024-04-05_FW_Westbahnhof_04.FwfProj'; Bounding box IDs = default\n",
      "Loading '2024-04-05_FW_Westbahnhof_05.FwfProj'; Bounding box IDs = default\n",
      "Loading '2024-05-10_FW_RWTH_Zentrum_01.FwfProj'; Bounding box IDs = default\n",
      "Loading '2024-07-31_FW_Bruecke_Koenigstr.FwfProj'; Bounding box IDs = [0, 2]\n",
      "Loading '2024-08-02_FW_Bruecke_A44_VerlautenheidenerStr.FwfProj'; Bounding box IDs = default\n",
      "Loading '2024-08-02_FW_Bruecke_Deltourserb.FwfProj'; Bounding box IDs = default\n",
      "Loading '2024-08-02_FW_Bruecke_Kasinostrasse.FwfProj'; Bounding box IDs = [1]\n",
      "Loading '2024-08-02_FW_Bruecke_RotheErde.FwfProj'; Bounding box IDs = default\n",
      "Loading '2024-08-02_FW_Bruecke_Rottstrasse.FwfProj'; Bounding box IDs = default\n",
      "Loading '2023-08-28_FW_EingangBauing.FwfProj'; Bounding box IDs = default\n",
      "Loading '2024-04-05_FW_Westbahnhof_01.FwfProj'; Bounding box IDs = default\n",
      "Loading '2024-07-31_FW_Bruecke_Koenigstr.FwfProj'; Bounding box IDs = [1]\n",
      "Loading '2024-08-02_FW_Bruecke_Kasinostrasse.FwfProj'; Bounding box IDs = [0]\n",
      "Loading '2024-07-31_FW_Bruecke_Turmstr.FwfProj'; Bounding box IDs = default\n"
     ]
    }
   ],
   "source": [
    "train_ds = FwfDataset(cfg, cfg.data.preprocessing._transformsTraining_, cfg.data._trainProjects_)\n",
    "val_ds = FwfDataset(cfg, cfg.data.preprocessing._transformsValidation_, cfg.data._valProjects_)\n"
   ]
  },
  {
   "cell_type": "code",
   "execution_count": 3,
   "metadata": {},
   "outputs": [
    {
     "name": "stdout",
     "output_type": "stream",
     "text": [
      "Computing neibors for '2024-03-22_FW_Koenigshuegel.FwfProj::defaultBbox' @ k=20\n",
      "Computing neibors for '2024-04-05_FW_Westbahnhof_02.FwfProj::defaultBbox' @ k=20\n",
      "Computing neibors for '2024-04-05_FW_Westbahnhof_03.FwfProj::defaultBbox' @ k=20\n",
      "Computing neibors for '2024-04-05_FW_Westbahnhof_04.FwfProj::defaultBbox' @ k=20\n",
      "Computing neibors for '2024-04-05_FW_Westbahnhof_05.FwfProj::defaultBbox' @ k=20\n",
      "Computing neibors for '2024-05-10_FW_RWTH_Zentrum_01.FwfProj::defaultBbox' @ k=20\n",
      "Computing neibors for '2024-07-31_FW_Bruecke_Koenigstr.FwfProj::bboxId=000' @ k=20\n",
      "Computing neibors for '2024-07-31_FW_Bruecke_Koenigstr.FwfProj::bboxId=002' @ k=20\n",
      "Computing neibors for '2024-08-02_FW_Bruecke_A44_VerlautenheidenerStr.FwfProj::defaultBbox' @ k=20\n",
      "Computing neibors for '2024-08-02_FW_Bruecke_Deltourserb.FwfProj::defaultBbox' @ k=20\n",
      "Computing neibors for '2024-08-02_FW_Bruecke_Kasinostrasse.FwfProj::bboxId=001' @ k=20\n",
      "Computing neibors for '2024-08-02_FW_Bruecke_RotheErde.FwfProj::defaultBbox' @ k=20\n",
      "Computing neibors for '2024-08-02_FW_Bruecke_Rottstrasse.FwfProj::defaultBbox' @ k=20\n",
      "Computing normals for '2024-03-22_FW_Koenigshuegel.FwfProj::defaultBbox' @ k=20\n",
      "Computing normals for '2024-04-05_FW_Westbahnhof_02.FwfProj::defaultBbox' @ k=20\n",
      "Computing normals for '2024-04-05_FW_Westbahnhof_03.FwfProj::defaultBbox' @ k=20\n",
      "Computing normals for '2024-04-05_FW_Westbahnhof_04.FwfProj::defaultBbox' @ k=20\n",
      "Computing normals for '2024-04-05_FW_Westbahnhof_05.FwfProj::defaultBbox' @ k=20\n",
      "Computing normals for '2024-05-10_FW_RWTH_Zentrum_01.FwfProj::defaultBbox' @ k=20\n",
      "Computing normals for '2024-07-31_FW_Bruecke_Koenigstr.FwfProj::bboxId=000' @ k=20\n",
      "Computing normals for '2024-07-31_FW_Bruecke_Koenigstr.FwfProj::bboxId=002' @ k=20\n",
      "Computing normals for '2024-08-02_FW_Bruecke_A44_VerlautenheidenerStr.FwfProj::defaultBbox' @ k=20\n",
      "Computing normals for '2024-08-02_FW_Bruecke_Deltourserb.FwfProj::defaultBbox' @ k=20\n",
      "Computing normals for '2024-08-02_FW_Bruecke_Kasinostrasse.FwfProj::bboxId=001' @ k=20\n",
      "Computing normals for '2024-08-02_FW_Bruecke_RotheErde.FwfProj::defaultBbox' @ k=20\n",
      "Computing normals for '2024-08-02_FW_Bruecke_Rottstrasse.FwfProj::defaultBbox' @ k=20\n",
      "Computing incidence angles for '2024-03-22_FW_Koenigshuegel.FwfProj::defaultBbox'\n",
      "Computing incidence angles for '2024-04-05_FW_Westbahnhof_02.FwfProj::defaultBbox'\n",
      "Computing incidence angles for '2024-04-05_FW_Westbahnhof_03.FwfProj::defaultBbox'\n",
      "Computing incidence angles for '2024-04-05_FW_Westbahnhof_04.FwfProj::defaultBbox'\n",
      "Computing incidence angles for '2024-04-05_FW_Westbahnhof_05.FwfProj::defaultBbox'\n",
      "Computing incidence angles for '2024-05-10_FW_RWTH_Zentrum_01.FwfProj::defaultBbox'\n",
      "Computing incidence angles for '2024-07-31_FW_Bruecke_Koenigstr.FwfProj::bboxId=000'\n",
      "Computing incidence angles for '2024-07-31_FW_Bruecke_Koenigstr.FwfProj::bboxId=002'\n",
      "Computing incidence angles for '2024-08-02_FW_Bruecke_A44_VerlautenheidenerStr.FwfProj::defaultBbox'\n",
      "Computing incidence angles for '2024-08-02_FW_Bruecke_Deltourserb.FwfProj::defaultBbox'\n",
      "Computing incidence angles for '2024-08-02_FW_Bruecke_Kasinostrasse.FwfProj::bboxId=001'\n",
      "Computing incidence angles for '2024-08-02_FW_Bruecke_RotheErde.FwfProj::defaultBbox'\n",
      "Computing incidence angles for '2024-08-02_FW_Bruecke_Rottstrasse.FwfProj::defaultBbox'\n",
      "Computing neibors for '2023-08-28_FW_EingangBauing.FwfProj::defaultBbox' @ k=20\n",
      "Computing neibors for '2024-04-05_FW_Westbahnhof_01.FwfProj::defaultBbox' @ k=20\n",
      "Computing neibors for '2024-07-31_FW_Bruecke_Koenigstr.FwfProj::bboxId=001' @ k=20\n",
      "Computing neibors for '2024-08-02_FW_Bruecke_Kasinostrasse.FwfProj::bboxId=000' @ k=20\n",
      "Computing neibors for '2024-07-31_FW_Bruecke_Turmstr.FwfProj::defaultBbox' @ k=20\n",
      "Computing normals for '2023-08-28_FW_EingangBauing.FwfProj::defaultBbox' @ k=20\n",
      "Computing normals for '2024-04-05_FW_Westbahnhof_01.FwfProj::defaultBbox' @ k=20\n",
      "Computing normals for '2024-07-31_FW_Bruecke_Koenigstr.FwfProj::bboxId=001' @ k=20\n",
      "Computing normals for '2024-08-02_FW_Bruecke_Kasinostrasse.FwfProj::bboxId=000' @ k=20\n",
      "Computing normals for '2024-07-31_FW_Bruecke_Turmstr.FwfProj::defaultBbox' @ k=20\n",
      "Computing incidence angles for '2023-08-28_FW_EingangBauing.FwfProj::defaultBbox'\n",
      "Computing incidence angles for '2024-04-05_FW_Westbahnhof_01.FwfProj::defaultBbox'\n",
      "Computing incidence angles for '2024-07-31_FW_Bruecke_Koenigstr.FwfProj::bboxId=001'\n",
      "Computing incidence angles for '2024-08-02_FW_Bruecke_Kasinostrasse.FwfProj::bboxId=000'\n",
      "Computing incidence angles for '2024-07-31_FW_Bruecke_Turmstr.FwfProj::defaultBbox'\n"
     ]
    }
   ],
   "source": [
    "# normals, inc angles\n",
    "train_ds.subsample_grid(cfg.data.query_grid_size, save_inv=True)\n",
    "train_ds.compute_neibors_knn(k=cfg.data.num_neib_normalsComputation)\n",
    "train_ds.compute_normals_knn()\n",
    "train_ds.compute_incAngles()\n",
    "\n",
    "\n",
    "val_ds.subsample_grid(cfg.data.query_grid_size, save_inv=True)\n",
    "val_ds.compute_neibors_knn(k=cfg.data.num_neib_normalsComputation)\n",
    "val_ds.compute_normals_knn()\n",
    "val_ds.compute_incAngles()\n"
   ]
  },
  {
   "cell_type": "code",
   "execution_count": 4,
   "metadata": {},
   "outputs": [],
   "source": [
    "from torch.utils.data import DataLoader\n",
    "\n",
    "# create model\n",
    "model = FGFeatNetwork(cfg=cfg,\n",
    "    num_input_feats = train_ds[0]['features_neibors'].shape[-1],\n",
    "    ).to(device=cfg.general.device)\n"
   ]
  },
  {
   "cell_type": "code",
   "execution_count": 5,
   "metadata": {},
   "outputs": [],
   "source": [
    "# train_dl = DataLoader(train_ds, batch_size=cfg.general.batch_size, num_workers=0) --> ca. 6it/sec, no mem problem\n",
    "# train_dl = DataLoader(train_ds, batch_size=cfg.general.batch_size, num_workers=2) --> ca. 12 it/sec, doable but still knapp"
   ]
  },
  {
   "cell_type": "code",
   "execution_count": 16,
   "metadata": {},
   "outputs": [
    {
     "name": "stdout",
     "output_type": "stream",
     "text": [
      "Epoch-000\n",
      "Sampling training dataset. Done. Took 22.67.\n"
     ]
    },
    {
     "name": "stderr",
     "output_type": "stream",
     "text": [
      "Training       : 100%|██████████| 885/885 [07:43<00:00,  1.91it/s]\n"
     ]
    },
    {
     "name": "stdout",
     "output_type": "stream",
     "text": [
      "                oA      mIoU        mP        mR      mF1     mcAcc\n",
      "labels_0  0.906056  0.497311  0.547246  0.549102  0.53911  0.549102\n",
      "L_train:0.2393 \n"
     ]
    },
    {
     "name": "stderr",
     "output_type": "stream",
     "text": [
      "Validation     : 100%|██████████| 843/843 [00:22<00:00, 37.36it/s]\n"
     ]
    },
    {
     "name": "stdout",
     "output_type": "stream",
     "text": [
      "                oA      mIoU        mP        mR       mF1     mcAcc\n",
      "labels_0  0.782875  0.260958  0.333333  0.260958  0.292739  0.260958\n",
      "L_val:0.6410\n",
      "\n",
      "\n",
      "Epoch-001\n",
      "Sampling training dataset. Done. Took 23.47.\n"
     ]
    },
    {
     "name": "stderr",
     "output_type": "stream",
     "text": [
      "Training       : 100%|██████████| 885/885 [07:43<00:00,  1.91it/s]\n"
     ]
    },
    {
     "name": "stdout",
     "output_type": "stream",
     "text": [
      "                oA      mIoU        mP        mR       mF1     mcAcc\n",
      "labels_0  0.894498  0.467999  0.509224  0.520154  0.508874  0.520154\n",
      "L_train:0.2688 \n"
     ]
    },
    {
     "name": "stderr",
     "output_type": "stream",
     "text": [
      "Validation     : 100%|██████████| 843/843 [00:23<00:00, 36.60it/s]\n"
     ]
    },
    {
     "name": "stdout",
     "output_type": "stream",
     "text": [
      "               oA      mIoU        mP        mR     mF1     mcAcc\n",
      "labels_0  0.46789  0.155963  0.333333  0.155963  0.2125  0.155963\n",
      "L_val:1.7706\n",
      "\n",
      "\n",
      "Epoch-002\n",
      "Sampling training dataset. Done. Took 23.74.\n"
     ]
    },
    {
     "name": "stderr",
     "output_type": "stream",
     "text": [
      "Training       : 100%|██████████| 885/885 [07:34<00:00,  1.95it/s]\n"
     ]
    },
    {
     "name": "stdout",
     "output_type": "stream",
     "text": [
      "                oA      mIoU        mP        mR       mF1     mcAcc\n",
      "labels_0  0.915269  0.505815  0.550756  0.551554  0.544049  0.551554\n",
      "L_train:0.2247 \n"
     ]
    },
    {
     "name": "stderr",
     "output_type": "stream",
     "text": [
      "Validation     : 100%|██████████| 843/843 [00:21<00:00, 39.91it/s]\n"
     ]
    },
    {
     "name": "stdout",
     "output_type": "stream",
     "text": [
      "                oA     mIoU        mP       mR       mF1    mcAcc\n",
      "labels_0  0.437309  0.14577  0.333333  0.14577  0.202837  0.14577\n",
      "L_val:1.5162\n",
      "\n",
      "\n",
      "Epoch-003\n",
      "Sampling training dataset. Done. Took 23.09.\n"
     ]
    },
    {
     "name": "stderr",
     "output_type": "stream",
     "text": [
      "Training       : 100%|██████████| 885/885 [07:28<00:00,  1.97it/s]\n"
     ]
    },
    {
     "name": "stdout",
     "output_type": "stream",
     "text": [
      "                oA      mIoU        mP        mR       mF1     mcAcc\n",
      "labels_0  0.929044  0.554587  0.620344  0.603013  0.603558  0.603013\n",
      "L_train:0.1911 \n"
     ]
    },
    {
     "name": "stderr",
     "output_type": "stream",
     "text": [
      "Validation     : 100%|██████████| 843/843 [00:21<00:00, 39.77it/s]\n"
     ]
    },
    {
     "name": "stdout",
     "output_type": "stream",
     "text": [
      "                oA      mIoU        mP        mR       mF1     mcAcc\n",
      "labels_0  0.697248  0.232416  0.333333  0.232416  0.273874  0.232416\n",
      "L_val:0.8775\n",
      "\n",
      "\n",
      "Epoch-004\n",
      "Sampling training dataset. Done. Took 22.75.\n"
     ]
    },
    {
     "name": "stderr",
     "output_type": "stream",
     "text": [
      "Training       : 100%|██████████| 885/885 [07:34<00:00,  1.95it/s]\n"
     ]
    },
    {
     "name": "stdout",
     "output_type": "stream",
     "text": [
      "               oA      mIoU        mP        mR       mF1     mcAcc\n",
      "labels_0  0.94646  0.609639  0.707891  0.652839  0.662498  0.652839\n",
      "L_train:0.1499 \n"
     ]
    },
    {
     "name": "stderr",
     "output_type": "stream",
     "text": [
      "Validation     : 100%|██████████| 843/843 [00:21<00:00, 40.07it/s]\n"
     ]
    },
    {
     "name": "stdout",
     "output_type": "stream",
     "text": [
      "                oA      mIoU        mP        mR       mF1     mcAcc\n",
      "labels_0  0.729867  0.243289  0.333333  0.243289  0.281281  0.243289\n",
      "L_val:0.7743\n",
      "\n",
      "\n",
      "Epoch-005\n",
      "Sampling training dataset. Done. Took 22.84.\n"
     ]
    },
    {
     "name": "stderr",
     "output_type": "stream",
     "text": [
      "Training       : 100%|██████████| 885/885 [07:29<00:00,  1.97it/s]\n"
     ]
    },
    {
     "name": "stdout",
     "output_type": "stream",
     "text": [
      "                oA      mIoU        mP        mR       mF1     mcAcc\n",
      "labels_0  0.949162  0.613066  0.707918  0.657122  0.665149  0.657122\n",
      "L_train:0.1435 \n"
     ]
    },
    {
     "name": "stderr",
     "output_type": "stream",
     "text": [
      "Validation     : 100%|██████████| 843/843 [00:21<00:00, 40.01it/s]\n"
     ]
    },
    {
     "name": "stdout",
     "output_type": "stream",
     "text": [
      "               oA      mIoU        mP        mR       mF1     mcAcc\n",
      "labels_0  0.79001  0.263337  0.333333  0.263337  0.294229  0.263337\n",
      "L_val:0.5866\n",
      "\n",
      "\n",
      "Epoch-006\n",
      "Sampling training dataset. Done. Took 23.04.\n"
     ]
    },
    {
     "name": "stderr",
     "output_type": "stream",
     "text": [
      "Training       : 100%|██████████| 885/885 [07:30<00:00,  1.96it/s]\n"
     ]
    },
    {
     "name": "stdout",
     "output_type": "stream",
     "text": [
      "                oA      mIoU        mP        mR       mF1     mcAcc\n",
      "labels_0  0.953865  0.637786  0.732319  0.679816  0.690063  0.679816\n",
      "L_train:0.1308 \n"
     ]
    },
    {
     "name": "stderr",
     "output_type": "stream",
     "text": [
      "Validation     : 100%|██████████| 843/843 [00:21<00:00, 40.01it/s]\n"
     ]
    },
    {
     "name": "stdout",
     "output_type": "stream",
     "text": [
      "                oA      mIoU        mP        mR      mF1     mcAcc\n",
      "labels_0  0.857288  0.285763  0.333333  0.285763  0.30772  0.285763\n",
      "L_val:0.4182\n",
      "\n",
      "\n",
      "Epoch-007\n",
      "Sampling training dataset. Done. Took 22.95.\n"
     ]
    },
    {
     "name": "stderr",
     "output_type": "stream",
     "text": [
      "Training       : 100%|██████████| 885/885 [07:33<00:00,  1.95it/s]\n"
     ]
    },
    {
     "name": "stdout",
     "output_type": "stream",
     "text": [
      "                oA      mIoU        mP        mR       mF1     mcAcc\n",
      "labels_0  0.960292  0.640576  0.732125  0.678717  0.688504  0.678717\n",
      "L_train:0.1171 \n"
     ]
    },
    {
     "name": "stderr",
     "output_type": "stream",
     "text": [
      "Validation     : 100%|██████████| 843/843 [00:21<00:00, 39.96it/s]\n"
     ]
    },
    {
     "name": "stdout",
     "output_type": "stream",
     "text": [
      "                oA     mIoU        mP       mR       mF1    mcAcc\n",
      "labels_0  0.772681  0.25756  0.333333  0.25756  0.290588  0.25756\n",
      "L_val:0.7088\n",
      "\n",
      "\n",
      "Epoch-008\n",
      "Sampling training dataset. Done. Took 23.30.\n"
     ]
    },
    {
     "name": "stderr",
     "output_type": "stream",
     "text": [
      "Training       : 100%|██████████| 885/885 [07:29<00:00,  1.97it/s]\n"
     ]
    },
    {
     "name": "stdout",
     "output_type": "stream",
     "text": [
      "                oA      mIoU        mP        mR       mF1     mcAcc\n",
      "labels_0  0.958597  0.641956  0.738791  0.681764  0.691632  0.681764\n",
      "L_train:0.1209 \n"
     ]
    },
    {
     "name": "stderr",
     "output_type": "stream",
     "text": [
      "Validation     : 100%|██████████| 843/843 [00:21<00:00, 39.75it/s]\n"
     ]
    },
    {
     "name": "stdout",
     "output_type": "stream",
     "text": [
      "                oA      mIoU        mP        mR       mF1     mcAcc\n",
      "labels_0  0.753313  0.251104  0.333333  0.251104  0.286434  0.251104\n",
      "L_val:0.7726\n",
      "\n",
      "\n",
      "Epoch-009\n",
      "Sampling training dataset. Done. Took 22.86.\n"
     ]
    },
    {
     "name": "stderr",
     "output_type": "stream",
     "text": [
      "Training       : 100%|██████████| 885/885 [07:32<00:00,  1.96it/s]\n"
     ]
    },
    {
     "name": "stdout",
     "output_type": "stream",
     "text": [
      "                oA      mIoU        mP        mR       mF1     mcAcc\n",
      "labels_0  0.956575  0.641976  0.742643  0.683356  0.694678  0.683356\n",
      "L_train:0.1234 \n"
     ]
    },
    {
     "name": "stderr",
     "output_type": "stream",
     "text": [
      "Validation     : 100%|██████████| 843/843 [00:20<00:00, 40.21it/s]\n"
     ]
    },
    {
     "name": "stdout",
     "output_type": "stream",
     "text": [
      "                oA      mIoU        mP        mR       mF1     mcAcc\n",
      "labels_0  0.752294  0.250765  0.333333  0.250765  0.286213  0.250765\n",
      "L_val:0.8507\n",
      "\n",
      "\n",
      "Epoch-010\n",
      "Sampling training dataset. Done. Took 23.00.\n"
     ]
    },
    {
     "name": "stderr",
     "output_type": "stream",
     "text": [
      "Training       : 100%|██████████| 885/885 [07:32<00:00,  1.96it/s]\n"
     ]
    },
    {
     "name": "stdout",
     "output_type": "stream",
     "text": [
      "                oA      mIoU        mP        mR       mF1     mcAcc\n",
      "labels_0  0.960467  0.660183  0.760204  0.700906  0.714033  0.700906\n",
      "L_train:0.1164 \n"
     ]
    },
    {
     "name": "stderr",
     "output_type": "stream",
     "text": [
      "Validation     : 100%|██████████| 843/843 [00:21<00:00, 39.81it/s]\n"
     ]
    },
    {
     "name": "stdout",
     "output_type": "stream",
     "text": [
      "                oA      mIoU        mP        mR       mF1     mcAcc\n",
      "labels_0  0.690112  0.230037  0.333333  0.230037  0.272215  0.230037\n",
      "L_val:1.1302\n",
      "\n",
      "\n",
      "Epoch-011\n",
      "Sampling training dataset. Done. Took 23.08.\n"
     ]
    },
    {
     "name": "stderr",
     "output_type": "stream",
     "text": [
      "Training       : 100%|██████████| 885/885 [07:33<00:00,  1.95it/s]\n"
     ]
    },
    {
     "name": "stdout",
     "output_type": "stream",
     "text": [
      "                oA      mIoU        mP        mR       mF1     mcAcc\n",
      "labels_0  0.956413  0.639339  0.735586  0.679981  0.691014  0.679981\n",
      "L_train:0.1270 \n"
     ]
    },
    {
     "name": "stderr",
     "output_type": "stream",
     "text": [
      "Validation     : 100%|██████████| 843/843 [00:21<00:00, 39.44it/s]\n"
     ]
    },
    {
     "name": "stdout",
     "output_type": "stream",
     "text": [
      "                oA      mIoU        mP        mR       mF1     mcAcc\n",
      "labels_0  0.551478  0.183826  0.333333  0.183826  0.236969  0.183826\n",
      "L_val:1.5752\n",
      "\n",
      "\n",
      "Epoch-012\n",
      "Sampling training dataset. Done. Took 22.83.\n"
     ]
    },
    {
     "name": "stderr",
     "output_type": "stream",
     "text": [
      "Training       : 100%|██████████| 885/885 [07:33<00:00,  1.95it/s]\n"
     ]
    },
    {
     "name": "stdout",
     "output_type": "stream",
     "text": [
      "               oA      mIoU        mP        mR       mF1     mcAcc\n",
      "labels_0  0.96126  0.664165  0.754695  0.705708  0.716876  0.705708\n",
      "L_train:0.1147 \n"
     ]
    },
    {
     "name": "stderr",
     "output_type": "stream",
     "text": [
      "Validation     : 100%|██████████| 843/843 [00:21<00:00, 39.82it/s]\n"
     ]
    },
    {
     "name": "stdout",
     "output_type": "stream",
     "text": [
      "                oA      mIoU        mP        mR       mF1     mcAcc\n",
      "labels_0  0.689093  0.229698  0.333333  0.229698  0.271977  0.229698\n",
      "L_val:1.1078\n",
      "\n",
      "\n",
      "Epoch-013\n",
      "Sampling training dataset. Done. Took 23.02.\n"
     ]
    },
    {
     "name": "stderr",
     "output_type": "stream",
     "text": [
      "Training       : 100%|██████████| 885/885 [07:31<00:00,  1.96it/s]\n"
     ]
    },
    {
     "name": "stdout",
     "output_type": "stream",
     "text": [
      "                oA      mIoU        mP        mR       mF1     mcAcc\n",
      "labels_0  0.961578  0.656609  0.744333  0.695766  0.706645  0.695766\n",
      "L_train:0.1161 \n"
     ]
    },
    {
     "name": "stderr",
     "output_type": "stream",
     "text": [
      "Validation     : 100%|██████████| 843/843 [00:21<00:00, 39.92it/s]\n"
     ]
    },
    {
     "name": "stdout",
     "output_type": "stream",
     "text": [
      "                oA      mIoU        mP        mR       mF1     mcAcc\n",
      "labels_0  0.852192  0.284064  0.333333  0.284064  0.306733  0.284064\n",
      "L_val:0.4578\n",
      "\n",
      "\n",
      "Epoch-014\n",
      "Sampling training dataset. Done. Took 22.72.\n"
     ]
    },
    {
     "name": "stderr",
     "output_type": "stream",
     "text": [
      "Training       : 100%|██████████| 885/885 [07:28<00:00,  1.97it/s]\n"
     ]
    },
    {
     "name": "stdout",
     "output_type": "stream",
     "text": [
      "                oA      mIoU        mP        mR       mF1     mcAcc\n",
      "labels_0  0.961376  0.667599  0.751468  0.707613  0.717998  0.707613\n",
      "L_train:0.1179 \n"
     ]
    },
    {
     "name": "stderr",
     "output_type": "stream",
     "text": [
      "Validation     : 100%|██████████| 843/843 [00:20<00:00, 40.31it/s]\n"
     ]
    },
    {
     "name": "stdout",
     "output_type": "stream",
     "text": [
      "                oA      mIoU        mP        mR       mF1     mcAcc\n",
      "labels_0  0.717635  0.239212  0.333333  0.239212  0.278536  0.239212\n",
      "L_val:0.9412\n",
      "\n",
      "\n",
      "Epoch-015\n",
      "Sampling training dataset. Done. Took 22.92.\n"
     ]
    },
    {
     "name": "stderr",
     "output_type": "stream",
     "text": [
      "Training       : 100%|██████████| 885/885 [07:31<00:00,  1.96it/s]\n"
     ]
    },
    {
     "name": "stdout",
     "output_type": "stream",
     "text": [
      "                oA      mIoU        mP        mR      mF1     mcAcc\n",
      "labels_0  0.958996  0.655462  0.748382  0.695948  0.70742  0.695948\n",
      "L_train:0.1218 \n"
     ]
    },
    {
     "name": "stderr",
     "output_type": "stream",
     "text": [
      "Validation     : 100%|██████████| 843/843 [00:20<00:00, 40.34it/s]\n"
     ]
    },
    {
     "name": "stdout",
     "output_type": "stream",
     "text": [
      "                oA      mIoU        mP        mR      mF1     mcAcc\n",
      "labels_0  0.750255  0.250085  0.333333  0.250085  0.28577  0.250085\n",
      "L_val:0.8915\n",
      "\n",
      "\n",
      "Epoch-016\n",
      "Sampling training dataset. Done. Took 22.91.\n"
     ]
    },
    {
     "name": "stderr",
     "output_type": "stream",
     "text": [
      "Training       : 100%|██████████| 885/885 [07:30<00:00,  1.96it/s]\n"
     ]
    },
    {
     "name": "stdout",
     "output_type": "stream",
     "text": [
      "               oA      mIoU        mP        mR       mF1     mcAcc\n",
      "labels_0  0.96072  0.655972  0.747247  0.695105  0.707186  0.695105\n",
      "L_train:0.1171 \n"
     ]
    },
    {
     "name": "stderr",
     "output_type": "stream",
     "text": [
      "Validation     : 100%|██████████| 843/843 [00:20<00:00, 40.29it/s]\n"
     ]
    },
    {
     "name": "stdout",
     "output_type": "stream",
     "text": [
      "                oA      mIoU        mP        mR      mF1     mcAcc\n",
      "labels_0  0.840979  0.280326  0.333333  0.280326  0.30454  0.280326\n",
      "L_val:0.6723\n",
      "\n",
      "\n",
      "Epoch-017\n",
      "Sampling training dataset. Done. Took 22.83.\n"
     ]
    },
    {
     "name": "stderr",
     "output_type": "stream",
     "text": [
      "Training       : 100%|██████████| 885/885 [07:27<00:00,  1.98it/s]\n"
     ]
    },
    {
     "name": "stdout",
     "output_type": "stream",
     "text": [
      "                oA      mIoU        mP        mR      mF1     mcAcc\n",
      "labels_0  0.959669  0.661552  0.744469  0.702842  0.71182  0.702842\n",
      "L_train:0.1201 \n"
     ]
    },
    {
     "name": "stderr",
     "output_type": "stream",
     "text": [
      "Validation     : 100%|██████████| 843/843 [00:21<00:00, 40.03it/s]\n"
     ]
    },
    {
     "name": "stdout",
     "output_type": "stream",
     "text": [
      "                oA      mIoU        mP        mR       mF1     mcAcc\n",
      "labels_0  0.826707  0.275569  0.333333  0.275569  0.301711  0.275569\n",
      "L_val:0.6048\n",
      "\n",
      "\n",
      "Epoch-018\n",
      "Sampling training dataset. Done. Took 23.14.\n"
     ]
    },
    {
     "name": "stderr",
     "output_type": "stream",
     "text": [
      "Training       : 100%|██████████| 885/885 [07:31<00:00,  1.96it/s]\n"
     ]
    },
    {
     "name": "stdout",
     "output_type": "stream",
     "text": [
      "                oA      mIoU        mP        mR       mF1     mcAcc\n",
      "labels_0  0.959242  0.656857  0.744296  0.698626  0.707545  0.698626\n",
      "L_train:0.1189 \n"
     ]
    },
    {
     "name": "stderr",
     "output_type": "stream",
     "text": [
      "Validation     : 100%|██████████| 843/843 [00:21<00:00, 40.07it/s]\n"
     ]
    },
    {
     "name": "stdout",
     "output_type": "stream",
     "text": [
      "                oA      mIoU        mP        mR       mF1     mcAcc\n",
      "labels_0  0.864424  0.288141  0.333333  0.288141  0.309094  0.288141\n",
      "L_val:0.5293\n",
      "\n",
      "\n",
      "Epoch-019\n",
      "Sampling training dataset. Done. Took 22.72.\n"
     ]
    },
    {
     "name": "stderr",
     "output_type": "stream",
     "text": [
      "Training       : 100%|██████████| 885/885 [07:26<00:00,  1.98it/s]\n"
     ]
    },
    {
     "name": "stdout",
     "output_type": "stream",
     "text": [
      "                oA      mIoU        mP        mR       mF1     mcAcc\n",
      "labels_0  0.958697  0.653633  0.737327  0.694258  0.703748  0.694258\n",
      "L_train:0.1233 \n"
     ]
    },
    {
     "name": "stderr",
     "output_type": "stream",
     "text": [
      "Validation     : 100%|██████████| 843/843 [00:20<00:00, 40.30it/s]\n"
     ]
    },
    {
     "name": "stdout",
     "output_type": "stream",
     "text": [
      "                oA      mIoU        mP        mR       mF1     mcAcc\n",
      "labels_0  0.829765  0.276589  0.333333  0.276589  0.302321  0.276589\n",
      "L_val:0.5518\n",
      "\n",
      "\n",
      "Epoch-020\n",
      "Sampling training dataset. Done. Took 22.79.\n"
     ]
    },
    {
     "name": "stderr",
     "output_type": "stream",
     "text": [
      "Training       : 100%|██████████| 885/885 [07:31<00:00,  1.96it/s]\n"
     ]
    },
    {
     "name": "stdout",
     "output_type": "stream",
     "text": [
      "                oA     mIoU        mP       mR       mF1    mcAcc\n",
      "labels_0  0.962293  0.66889  0.753086  0.70859  0.719022  0.70859\n",
      "L_train:0.1128 \n"
     ]
    },
    {
     "name": "stderr",
     "output_type": "stream",
     "text": [
      "Validation     : 100%|██████████| 843/843 [00:21<00:00, 39.60it/s]\n"
     ]
    },
    {
     "name": "stdout",
     "output_type": "stream",
     "text": [
      "                oA      mIoU        mP        mR       mF1     mcAcc\n",
      "labels_0  0.833843  0.277948  0.333333  0.277948  0.303131  0.277948\n",
      "L_val:0.5895\n",
      "\n",
      "\n",
      "Epoch-021\n",
      "Sampling training dataset. Done. Took 22.96.\n"
     ]
    },
    {
     "name": "stderr",
     "output_type": "stream",
     "text": [
      "Training       : 100%|██████████| 885/885 [07:27<00:00,  1.98it/s]\n"
     ]
    },
    {
     "name": "stdout",
     "output_type": "stream",
     "text": [
      "                oA      mIoU        mP        mR       mF1     mcAcc\n",
      "labels_0  0.962317  0.668253  0.754082  0.708146  0.718529  0.708146\n",
      "L_train:0.1110 \n"
     ]
    },
    {
     "name": "stderr",
     "output_type": "stream",
     "text": [
      "Validation     : 100%|██████████| 843/843 [00:21<00:00, 39.81it/s]\n"
     ]
    },
    {
     "name": "stdout",
     "output_type": "stream",
     "text": [
      "               oA      mIoU        mP        mR       mF1     mcAcc\n",
      "labels_0  0.88685  0.295617  0.333333  0.295617  0.313344  0.295617\n",
      "L_val:0.3375\n",
      "\n",
      "\n",
      "Epoch-022\n",
      "Sampling training dataset. Done. Took 22.64.\n"
     ]
    },
    {
     "name": "stderr",
     "output_type": "stream",
     "text": [
      "Training       : 100%|██████████| 885/885 [07:32<00:00,  1.95it/s]\n"
     ]
    },
    {
     "name": "stdout",
     "output_type": "stream",
     "text": [
      "                oA      mIoU        mP        mR       mF1     mcAcc\n",
      "labels_0  0.963609  0.673484  0.762206  0.713676  0.725029  0.713676\n",
      "L_train:0.1083 \n"
     ]
    },
    {
     "name": "stderr",
     "output_type": "stream",
     "text": [
      "Validation     : 100%|██████████| 843/843 [00:21<00:00, 40.09it/s]\n"
     ]
    },
    {
     "name": "stdout",
     "output_type": "stream",
     "text": [
      "                oA      mIoU        mP        mR       mF1     mcAcc\n",
      "labels_0  0.812436  0.270812  0.333333  0.270812  0.298837  0.270812\n",
      "L_val:0.6245\n",
      "\n",
      "\n",
      "Epoch-023\n",
      "Sampling training dataset. Done. Took 22.95.\n"
     ]
    },
    {
     "name": "stderr",
     "output_type": "stream",
     "text": [
      "Training       : 100%|██████████| 885/885 [07:28<00:00,  1.97it/s]\n"
     ]
    },
    {
     "name": "stdout",
     "output_type": "stream",
     "text": [
      "                oA      mIoU        mP        mR       mF1     mcAcc\n",
      "labels_0  0.964072  0.681696  0.769847  0.721619  0.733604  0.721619\n",
      "L_train:0.1057 \n"
     ]
    },
    {
     "name": "stderr",
     "output_type": "stream",
     "text": [
      "Validation     : 100%|██████████| 843/843 [00:20<00:00, 40.18it/s]\n"
     ]
    },
    {
     "name": "stdout",
     "output_type": "stream",
     "text": [
      "                oA      mIoU        mP        mR       mF1     mcAcc\n",
      "labels_0  0.781855  0.260618  0.333333  0.260618  0.292525  0.260618\n",
      "L_val:0.8815\n",
      "\n",
      "\n",
      "Epoch-024\n",
      "Sampling training dataset. Done. Took 22.82.\n"
     ]
    },
    {
     "name": "stderr",
     "output_type": "stream",
     "text": [
      "Training       : 100%|██████████| 885/885 [07:31<00:00,  1.96it/s]\n"
     ]
    },
    {
     "name": "stdout",
     "output_type": "stream",
     "text": [
      "                oA      mIoU        mP        mR       mF1     mcAcc\n",
      "labels_0  0.964551  0.678262  0.761583  0.718079  0.728278  0.718079\n",
      "L_train:0.1046 \n"
     ]
    },
    {
     "name": "stderr",
     "output_type": "stream",
     "text": [
      "Validation     : 100%|██████████| 843/843 [00:21<00:00, 39.74it/s]\n"
     ]
    },
    {
     "name": "stdout",
     "output_type": "stream",
     "text": [
      "                oA      mIoU        mP        mR       mF1     mcAcc\n",
      "labels_0  0.754332  0.251444  0.333333  0.251444  0.286655  0.251444\n",
      "L_val:0.8840\n",
      "\n",
      "\n",
      "Epoch-025\n",
      "Sampling training dataset. Done. Took 22.75.\n"
     ]
    },
    {
     "name": "stderr",
     "output_type": "stream",
     "text": [
      "Training       : 100%|██████████| 885/885 [07:28<00:00,  1.97it/s]\n"
     ]
    },
    {
     "name": "stdout",
     "output_type": "stream",
     "text": [
      "                oA     mIoU        mP       mR       mF1    mcAcc\n",
      "labels_0  0.964551  0.67978  0.764295  0.71946  0.730235  0.71946\n",
      "L_train:0.1070 \n"
     ]
    },
    {
     "name": "stderr",
     "output_type": "stream",
     "text": [
      "Validation     : 100%|██████████| 843/843 [00:21<00:00, 39.81it/s]\n"
     ]
    },
    {
     "name": "stdout",
     "output_type": "stream",
     "text": [
      "                oA      mIoU        mP        mR       mF1     mcAcc\n",
      "labels_0  0.802243  0.267414  0.333333  0.267414  0.296757  0.267414\n",
      "L_val:0.6827\n",
      "\n",
      "\n",
      "Epoch-026\n",
      "Sampling training dataset. Done. Took 23.05.\n"
     ]
    },
    {
     "name": "stderr",
     "output_type": "stream",
     "text": [
      "Training       : 100%|██████████| 885/885 [07:33<00:00,  1.95it/s]\n"
     ]
    },
    {
     "name": "stdout",
     "output_type": "stream",
     "text": [
      "                oA     mIoU        mP        mR       mF1     mcAcc\n",
      "labels_0  0.965075  0.68317  0.764167  0.724297  0.733709  0.724297\n",
      "L_train:0.1037 \n"
     ]
    },
    {
     "name": "stderr",
     "output_type": "stream",
     "text": [
      "Validation     : 100%|██████████| 843/843 [00:21<00:00, 39.97it/s]\n"
     ]
    },
    {
     "name": "stdout",
     "output_type": "stream",
     "text": [
      "               oA      mIoU        mP        mR       mF1     mcAcc\n",
      "labels_0  0.80632  0.268773  0.333333  0.268773  0.297592  0.268773\n",
      "L_val:0.6531\n",
      "\n",
      "\n",
      "Epoch-027\n",
      "Sampling training dataset. Done. Took 22.84.\n"
     ]
    },
    {
     "name": "stderr",
     "output_type": "stream",
     "text": [
      "Training       : 100%|██████████| 885/885 [07:28<00:00,  1.97it/s]\n"
     ]
    },
    {
     "name": "stdout",
     "output_type": "stream",
     "text": [
      "                oA      mIoU        mP        mR      mF1     mcAcc\n",
      "labels_0  0.963207  0.681658  0.764637  0.723889  0.73321  0.723889\n",
      "L_train:0.1110 \n"
     ]
    },
    {
     "name": "stderr",
     "output_type": "stream",
     "text": [
      "Validation     : 100%|██████████| 843/843 [00:21<00:00, 40.04it/s]\n"
     ]
    },
    {
     "name": "stdout",
     "output_type": "stream",
     "text": [
      "                oA      mIoU        mP        mR      mF1     mcAcc\n",
      "labels_0  0.860347  0.286782  0.333333  0.286782  0.30831  0.286782\n",
      "L_val:0.4614\n",
      "\n",
      "\n",
      "Epoch-028\n",
      "Sampling training dataset. Done. Took 22.78.\n"
     ]
    },
    {
     "name": "stderr",
     "output_type": "stream",
     "text": [
      "Training       : 100%|██████████| 885/885 [07:31<00:00,  1.96it/s]\n"
     ]
    },
    {
     "name": "stdout",
     "output_type": "stream",
     "text": [
      "                oA      mIoU        mP        mR       mF1     mcAcc\n",
      "labels_0  0.963955  0.667211  0.752859  0.706296  0.716656  0.706296\n",
      "L_train:0.1086 \n"
     ]
    },
    {
     "name": "stderr",
     "output_type": "stream",
     "text": [
      "Validation     : 100%|██████████| 843/843 [00:21<00:00, 40.13it/s]\n"
     ]
    },
    {
     "name": "stdout",
     "output_type": "stream",
     "text": [
      "                oA      mIoU        mP        mR       mF1     mcAcc\n",
      "labels_0  0.848114  0.282705  0.333333  0.282705  0.305938  0.282705\n",
      "L_val:0.4804\n",
      "\n",
      "\n",
      "Epoch-029\n",
      "Sampling training dataset. Done. Took 22.80.\n"
     ]
    },
    {
     "name": "stderr",
     "output_type": "stream",
     "text": [
      "Training       : 100%|██████████| 885/885 [07:29<00:00,  1.97it/s]\n"
     ]
    },
    {
     "name": "stdout",
     "output_type": "stream",
     "text": [
      "               oA      mIoU        mP        mR       mF1     mcAcc\n",
      "labels_0  0.96342  0.670343  0.759667  0.709348  0.720745  0.709348\n",
      "L_train:0.1104 \n"
     ]
    },
    {
     "name": "stderr",
     "output_type": "stream",
     "text": [
      "Validation     : 100%|██████████| 843/843 [00:21<00:00, 39.95it/s]\n"
     ]
    },
    {
     "name": "stdout",
     "output_type": "stream",
     "text": [
      "                oA      mIoU        mP        mR       mF1     mcAcc\n",
      "labels_0  0.747197  0.249066  0.333333  0.249066  0.285103  0.249066\n",
      "L_val:0.8095\n",
      "\n",
      "\n",
      "Epoch-030\n",
      "Sampling training dataset. Done. Took 22.54.\n"
     ]
    },
    {
     "name": "stderr",
     "output_type": "stream",
     "text": [
      "Training       : 100%|██████████| 885/885 [07:29<00:00,  1.97it/s]\n"
     ]
    },
    {
     "name": "stdout",
     "output_type": "stream",
     "text": [
      "                oA      mIoU        mP        mR       mF1     mcAcc\n",
      "labels_0  0.964427  0.677042  0.760664  0.716581  0.726451  0.716581\n",
      "L_train:0.1071 \n"
     ]
    },
    {
     "name": "stderr",
     "output_type": "stream",
     "text": [
      "Validation     : 100%|██████████| 843/843 [00:20<00:00, 40.23it/s]\n"
     ]
    },
    {
     "name": "stdout",
     "output_type": "stream",
     "text": [
      "                oA      mIoU        mP        mR       mF1     mcAcc\n",
      "labels_0  0.738022  0.246007  0.333333  0.246007  0.283089  0.246007\n",
      "L_val:0.8390\n",
      "\n",
      "\n",
      "Epoch-031\n",
      "Sampling training dataset. Done. Took 22.71.\n"
     ]
    },
    {
     "name": "stderr",
     "output_type": "stream",
     "text": [
      "Training       : 100%|██████████| 885/885 [07:27<00:00,  1.98it/s]\n"
     ]
    },
    {
     "name": "stdout",
     "output_type": "stream",
     "text": [
      "                oA      mIoU       mP        mR       mF1     mcAcc\n",
      "labels_0  0.964502  0.682829  0.76609  0.722969  0.733582  0.722969\n",
      "L_train:0.1064 \n"
     ]
    },
    {
     "name": "stderr",
     "output_type": "stream",
     "text": [
      "Validation     : 100%|██████████| 843/843 [00:21<00:00, 39.53it/s]\n"
     ]
    },
    {
     "name": "stdout",
     "output_type": "stream",
     "text": [
      "                oA      mIoU        mP        mR       mF1     mcAcc\n",
      "labels_0  0.827727  0.275909  0.333333  0.275909  0.301915  0.275909\n",
      "L_val:0.5541\n",
      "\n",
      "\n",
      "Epoch-032\n",
      "Sampling training dataset. Done. Took 23.15.\n"
     ]
    },
    {
     "name": "stderr",
     "output_type": "stream",
     "text": [
      "Training       : 100%|██████████| 885/885 [07:29<00:00,  1.97it/s]\n"
     ]
    },
    {
     "name": "stdout",
     "output_type": "stream",
     "text": [
      "                oA      mIoU        mP        mR       mF1     mcAcc\n",
      "labels_0  0.963124  0.676457  0.756937  0.716902  0.726623  0.716902\n",
      "L_train:0.1123 \n"
     ]
    },
    {
     "name": "stderr",
     "output_type": "stream",
     "text": [
      "Validation     : 100%|██████████| 843/843 [00:21<00:00, 39.61it/s]\n"
     ]
    },
    {
     "name": "stdout",
     "output_type": "stream",
     "text": [
      "                oA      mIoU        mP        mR       mF1     mcAcc\n",
      "labels_0  0.850153  0.283384  0.333333  0.283384  0.306336  0.283384\n",
      "L_val:0.5413\n",
      "\n",
      "\n",
      "Epoch-033\n",
      "Sampling training dataset. Done. Took 22.88.\n"
     ]
    },
    {
     "name": "stderr",
     "output_type": "stream",
     "text": [
      "Training       : 100%|██████████| 885/885 [07:29<00:00,  1.97it/s]\n"
     ]
    },
    {
     "name": "stdout",
     "output_type": "stream",
     "text": [
      "                oA      mIoU        mP        mR       mF1     mcAcc\n",
      "labels_0  0.965443  0.687587  0.771844  0.726873  0.738153  0.726873\n",
      "L_train:0.1047 \n"
     ]
    },
    {
     "name": "stderr",
     "output_type": "stream",
     "text": [
      "Validation     : 100%|██████████| 843/843 [00:20<00:00, 40.29it/s]\n"
     ]
    },
    {
     "name": "stdout",
     "output_type": "stream",
     "text": [
      "                oA      mIoU        mP        mR       mF1     mcAcc\n",
      "labels_0  0.784913  0.261638  0.333333  0.261638  0.293166  0.261638\n",
      "L_val:0.8123\n",
      "\n",
      "\n",
      "Epoch-034\n",
      "Sampling training dataset. Done. Took 22.80.\n"
     ]
    },
    {
     "name": "stderr",
     "output_type": "stream",
     "text": [
      "Training       : 100%|██████████| 885/885 [07:32<00:00,  1.96it/s]\n"
     ]
    },
    {
     "name": "stdout",
     "output_type": "stream",
     "text": [
      "                oA      mIoU       mP        mR       mF1     mcAcc\n",
      "labels_0  0.965352  0.684559  0.77592  0.723715  0.735518  0.723715\n",
      "L_train:0.1042 \n"
     ]
    },
    {
     "name": "stderr",
     "output_type": "stream",
     "text": [
      "Validation     : 100%|██████████| 843/843 [00:20<00:00, 40.65it/s]\n"
     ]
    },
    {
     "name": "stdout",
     "output_type": "stream",
     "text": [
      "                oA      mIoU        mP        mR       mF1     mcAcc\n",
      "labels_0  0.888889  0.296296  0.333333  0.296296  0.313725  0.296296\n",
      "L_val:0.3395\n",
      "\n",
      "\n",
      "Epoch-035\n",
      "Sampling training dataset. Done. Took 22.82.\n"
     ]
    },
    {
     "name": "stderr",
     "output_type": "stream",
     "text": [
      "Training       : 100%|██████████| 885/885 [07:28<00:00,  1.97it/s]\n"
     ]
    },
    {
     "name": "stdout",
     "output_type": "stream",
     "text": [
      "                oA      mIoU        mP        mR       mF1     mcAcc\n",
      "labels_0  0.966445  0.680966  0.765187  0.719215  0.730142  0.719215\n",
      "L_train:0.1010 \n"
     ]
    },
    {
     "name": "stderr",
     "output_type": "stream",
     "text": [
      "Validation     : 100%|██████████| 843/843 [00:20<00:00, 40.47it/s]\n"
     ]
    },
    {
     "name": "stdout",
     "output_type": "stream",
     "text": [
      "                oA      mIoU        mP        mR      mF1     mcAcc\n",
      "labels_0  0.846075  0.282025  0.333333  0.282025  0.30554  0.282025\n",
      "L_val:0.4787\n",
      "\n",
      "\n",
      "Epoch-036\n",
      "Sampling training dataset. Done. Took 22.84.\n"
     ]
    },
    {
     "name": "stderr",
     "output_type": "stream",
     "text": [
      "Training       : 100%|██████████| 885/885 [07:31<00:00,  1.96it/s]\n"
     ]
    },
    {
     "name": "stdout",
     "output_type": "stream",
     "text": [
      "                oA      mIoU        mP        mR       mF1     mcAcc\n",
      "labels_0  0.966648  0.685019  0.775183  0.721897  0.734487  0.721897\n",
      "L_train:0.1004 \n"
     ]
    },
    {
     "name": "stderr",
     "output_type": "stream",
     "text": [
      "Validation     : 100%|██████████| 843/843 [00:21<00:00, 40.13it/s]\n"
     ]
    },
    {
     "name": "stdout",
     "output_type": "stream",
     "text": [
      "               oA      mIoU        mP        mR       mF1     mcAcc\n",
      "labels_0  0.90316  0.301053  0.333333  0.301053  0.316372  0.301053\n",
      "L_val:0.2858\n",
      "\n",
      "\n",
      "Epoch-037\n",
      "Sampling training dataset. Done. Took 22.85.\n"
     ]
    },
    {
     "name": "stderr",
     "output_type": "stream",
     "text": [
      "Training       : 100%|██████████| 885/885 [07:30<00:00,  1.96it/s]\n"
     ]
    },
    {
     "name": "stdout",
     "output_type": "stream",
     "text": [
      "                oA      mIoU        mP        mR       mF1     mcAcc\n",
      "labels_0  0.966997  0.688497  0.773899  0.727228  0.738092  0.727228\n",
      "L_train:0.0989 \n"
     ]
    },
    {
     "name": "stderr",
     "output_type": "stream",
     "text": [
      "Validation     : 100%|██████████| 843/843 [00:20<00:00, 40.41it/s]\n"
     ]
    },
    {
     "name": "stdout",
     "output_type": "stream",
     "text": [
      "                oA      mIoU        mP        mR       mF1     mcAcc\n",
      "labels_0  0.887869  0.295957  0.333333  0.295957  0.313535  0.295957\n",
      "L_val:0.3276\n",
      "\n",
      "\n",
      "Epoch-038\n",
      "Sampling training dataset. Done. Took 23.07.\n"
     ]
    },
    {
     "name": "stderr",
     "output_type": "stream",
     "text": [
      "Training       : 100%|██████████| 885/885 [07:31<00:00,  1.96it/s]\n"
     ]
    },
    {
     "name": "stdout",
     "output_type": "stream",
     "text": [
      "                oA      mIoU        mP        mR       mF1     mcAcc\n",
      "labels_0  0.963004  0.668122  0.746223  0.706968  0.715943  0.706968\n",
      "L_train:0.1106 \n"
     ]
    },
    {
     "name": "stderr",
     "output_type": "stream",
     "text": [
      "Validation     : 100%|██████████| 843/843 [00:21<00:00, 40.00it/s]\n"
     ]
    },
    {
     "name": "stdout",
     "output_type": "stream",
     "text": [
      "                oA      mIoU        mP        mR       mF1     mcAcc\n",
      "labels_0  0.887869  0.295957  0.333333  0.295957  0.313535  0.295957\n",
      "L_val:0.3745\n",
      "\n",
      "\n",
      "Epoch-039\n",
      "Sampling training dataset. Done. Took 22.70.\n"
     ]
    },
    {
     "name": "stderr",
     "output_type": "stream",
     "text": [
      "Training       : 100%|██████████| 885/885 [07:26<00:00,  1.98it/s]\n"
     ]
    },
    {
     "name": "stdout",
     "output_type": "stream",
     "text": [
      "                oA      mIoU        mP        mR       mF1     mcAcc\n",
      "labels_0  0.966872  0.680762  0.767628  0.718776  0.729881  0.718776\n",
      "L_train:0.0976 \n"
     ]
    },
    {
     "name": "stderr",
     "output_type": "stream",
     "text": [
      "Validation     : 100%|██████████| 843/843 [00:20<00:00, 40.57it/s]\n"
     ]
    },
    {
     "name": "stdout",
     "output_type": "stream",
     "text": [
      "                oA      mIoU        mP        mR       mF1     mcAcc\n",
      "labels_0  0.831804  0.277268  0.333333  0.277268  0.302727  0.277268\n",
      "L_val:0.5431\n",
      "\n",
      "\n",
      "Epoch-040\n",
      "Sampling training dataset. Done. Took 22.83.\n"
     ]
    },
    {
     "name": "stderr",
     "output_type": "stream",
     "text": [
      "Training       : 100%|██████████| 885/885 [07:31<00:00,  1.96it/s]\n"
     ]
    },
    {
     "name": "stdout",
     "output_type": "stream",
     "text": [
      "                oA      mIoU        mP        mR       mF1     mcAcc\n",
      "labels_0  0.967188  0.671309  0.752659  0.707473  0.717041  0.707473\n",
      "L_train:0.0971 \n"
     ]
    },
    {
     "name": "stderr",
     "output_type": "stream",
     "text": [
      "Validation     : 100%|██████████| 843/843 [00:21<00:00, 39.95it/s]\n"
     ]
    },
    {
     "name": "stdout",
     "output_type": "stream",
     "text": [
      "                oA      mIoU        mP        mR       mF1     mcAcc\n",
      "labels_0  0.914373  0.304791  0.333333  0.304791  0.318424  0.304791\n",
      "L_val:0.2498\n",
      "\n",
      "\n",
      "Epoch-041\n",
      "Sampling training dataset. Done. Took 22.80.\n"
     ]
    },
    {
     "name": "stderr",
     "output_type": "stream",
     "text": [
      "Training       : 100%|██████████| 885/885 [07:27<00:00,  1.98it/s]\n"
     ]
    },
    {
     "name": "stdout",
     "output_type": "stream",
     "text": [
      "                oA      mIoU        mP        mR      mF1     mcAcc\n",
      "labels_0  0.967713  0.693736  0.779268  0.732674  0.74347  0.732674\n",
      "L_train:0.0950 \n"
     ]
    },
    {
     "name": "stderr",
     "output_type": "stream",
     "text": [
      "Validation     : 100%|██████████| 843/843 [00:21<00:00, 39.99it/s]\n"
     ]
    },
    {
     "name": "stdout",
     "output_type": "stream",
     "text": [
      "                oA      mIoU        mP        mR       mF1     mcAcc\n",
      "labels_0  0.890928  0.296976  0.333333  0.296976  0.314106  0.296976\n",
      "L_val:0.3319\n",
      "\n",
      "\n",
      "Epoch-042\n",
      "Sampling training dataset. Done. Took 22.73.\n"
     ]
    },
    {
     "name": "stderr",
     "output_type": "stream",
     "text": [
      "Training       : 100%|██████████| 885/885 [07:29<00:00,  1.97it/s]\n"
     ]
    },
    {
     "name": "stdout",
     "output_type": "stream",
     "text": [
      "                oA      mIoU        mP        mR       mF1     mcAcc\n",
      "labels_0  0.967099  0.685637  0.768349  0.723717  0.733367  0.723717\n",
      "L_train:0.0965 \n"
     ]
    },
    {
     "name": "stderr",
     "output_type": "stream",
     "text": [
      "Validation     : 100%|██████████| 843/843 [00:20<00:00, 40.51it/s]\n"
     ]
    },
    {
     "name": "stdout",
     "output_type": "stream",
     "text": [
      "                oA      mIoU        mP        mR       mF1     mcAcc\n",
      "labels_0  0.962283  0.320761  0.333333  0.320761  0.326926  0.320761\n",
      "L_val:0.1323\n",
      "\n",
      "\n",
      "Epoch-043\n",
      "Sampling training dataset. Done. Took 22.81.\n"
     ]
    },
    {
     "name": "stderr",
     "output_type": "stream",
     "text": [
      "Training       : 100%|██████████| 885/885 [07:30<00:00,  1.96it/s]\n"
     ]
    },
    {
     "name": "stdout",
     "output_type": "stream",
     "text": [
      "                oA      mIoU        mP        mR       mF1     mcAcc\n",
      "labels_0  0.967301  0.691872  0.777551  0.731292  0.741024  0.731292\n",
      "L_train:0.0961 \n"
     ]
    },
    {
     "name": "stderr",
     "output_type": "stream",
     "text": [
      "Validation     : 100%|██████████| 843/843 [00:21<00:00, 39.74it/s]\n"
     ]
    },
    {
     "name": "stdout",
     "output_type": "stream",
     "text": [
      "                oA      mIoU        mP        mR       mF1     mcAcc\n",
      "labels_0  0.816514  0.272171  0.333333  0.272171  0.299663  0.272171\n",
      "L_val:0.5651\n",
      "\n",
      "\n",
      "Epoch-044\n",
      "Sampling training dataset. Done. Took 22.66.\n"
     ]
    },
    {
     "name": "stderr",
     "output_type": "stream",
     "text": [
      "Training       : 100%|██████████| 885/885 [07:31<00:00,  1.96it/s]\n"
     ]
    },
    {
     "name": "stdout",
     "output_type": "stream",
     "text": [
      "                oA      mIoU        mP        mR       mF1     mcAcc\n",
      "labels_0  0.965653  0.682603  0.763849  0.721489  0.731886  0.721489\n",
      "L_train:0.1023 \n"
     ]
    },
    {
     "name": "stderr",
     "output_type": "stream",
     "text": [
      "Validation     : 100%|██████████| 843/843 [00:20<00:00, 40.20it/s]\n"
     ]
    },
    {
     "name": "stdout",
     "output_type": "stream",
     "text": [
      "               oA      mIoU        mP        mR       mF1     mcAcc\n",
      "labels_0  0.85525  0.285083  0.333333  0.285083  0.307326  0.285083\n",
      "L_val:0.4292\n",
      "\n",
      "\n",
      "Epoch-045\n",
      "Sampling training dataset. Done. Took 22.98.\n"
     ]
    },
    {
     "name": "stderr",
     "output_type": "stream",
     "text": [
      "Training       : 100%|██████████| 885/885 [07:28<00:00,  1.97it/s]\n"
     ]
    },
    {
     "name": "stdout",
     "output_type": "stream",
     "text": [
      "                oA      mIoU        mP        mR       mF1     mcAcc\n",
      "labels_0  0.967628  0.683492  0.759577  0.721348  0.729697  0.721348\n",
      "L_train:0.0950 \n"
     ]
    },
    {
     "name": "stderr",
     "output_type": "stream",
     "text": [
      "Validation     : 100%|██████████| 843/843 [00:21<00:00, 39.93it/s]\n"
     ]
    },
    {
     "name": "stdout",
     "output_type": "stream",
     "text": [
      "                oA      mIoU        mP        mR       mF1     mcAcc\n",
      "labels_0  0.882773  0.294258  0.333333  0.294258  0.312579  0.294258\n",
      "L_val:0.3447\n",
      "\n",
      "\n",
      "Epoch-046\n",
      "Sampling training dataset. Done. Took 22.93.\n"
     ]
    },
    {
     "name": "stderr",
     "output_type": "stream",
     "text": [
      "Training       : 100%|██████████| 885/885 [07:30<00:00,  1.97it/s]\n"
     ]
    },
    {
     "name": "stdout",
     "output_type": "stream",
     "text": [
      "                oA      mIoU        mP        mR       mF1     mcAcc\n",
      "labels_0  0.966367  0.679369  0.756993  0.715734  0.725262  0.715734\n",
      "L_train:0.0996 \n"
     ]
    },
    {
     "name": "stderr",
     "output_type": "stream",
     "text": [
      "Validation     : 100%|██████████| 843/843 [00:21<00:00, 40.04it/s]\n"
     ]
    },
    {
     "name": "stdout",
     "output_type": "stream",
     "text": [
      "                oA      mIoU        mP        mR       mF1     mcAcc\n",
      "labels_0  0.858308  0.286103  0.333333  0.286103  0.307917  0.286103\n",
      "L_val:0.3662\n",
      "\n",
      "\n",
      "Epoch-047\n",
      "Sampling training dataset. Done. Took 22.86.\n"
     ]
    },
    {
     "name": "stderr",
     "output_type": "stream",
     "text": [
      "Training       : 100%|██████████| 885/885 [07:27<00:00,  1.98it/s]\n"
     ]
    },
    {
     "name": "stdout",
     "output_type": "stream",
     "text": [
      "                oA      mIoU        mP        mR       mF1     mcAcc\n",
      "labels_0  0.968647  0.695067  0.767192  0.731095  0.740107  0.731095\n",
      "L_train:0.0940 \n"
     ]
    },
    {
     "name": "stderr",
     "output_type": "stream",
     "text": [
      "Validation     : 100%|██████████| 843/843 [00:21<00:00, 39.65it/s]\n"
     ]
    },
    {
     "name": "stdout",
     "output_type": "stream",
     "text": [
      "                oA      mIoU        mP        mR       mF1     mcAcc\n",
      "labels_0  0.901121  0.300374  0.333333  0.300374  0.315996  0.300374\n",
      "L_val:0.2851\n",
      "\n",
      "\n",
      "Epoch-048\n",
      "Sampling training dataset. Done. Took 22.87.\n"
     ]
    },
    {
     "name": "stderr",
     "output_type": "stream",
     "text": [
      "Training       : 100%|██████████| 885/885 [07:32<00:00,  1.96it/s]\n"
     ]
    },
    {
     "name": "stdout",
     "output_type": "stream",
     "text": [
      "                oA      mIoU        mP        mR       mF1     mcAcc\n",
      "labels_0  0.969964  0.706114  0.785713  0.743141  0.753383  0.743141\n",
      "L_train:0.0886 \n"
     ]
    },
    {
     "name": "stderr",
     "output_type": "stream",
     "text": [
      "Validation     : 100%|██████████| 843/843 [00:20<00:00, 40.28it/s]\n"
     ]
    },
    {
     "name": "stdout",
     "output_type": "stream",
     "text": [
      "                oA      mIoU        mP        mR       mF1     mcAcc\n",
      "labels_0  0.930683  0.310228  0.333333  0.310228  0.321366  0.310228\n",
      "L_val:0.2191\n",
      "\n",
      "\n",
      "Epoch-049\n",
      "Sampling training dataset. Done. Took 22.75.\n"
     ]
    },
    {
     "name": "stderr",
     "output_type": "stream",
     "text": [
      "Training       : 100%|██████████| 885/885 [07:28<00:00,  1.98it/s]\n"
     ]
    },
    {
     "name": "stdout",
     "output_type": "stream",
     "text": [
      "                oA      mIoU        mP        mR       mF1     mcAcc\n",
      "labels_0  0.965222  0.685658  0.766195  0.723284  0.732392  0.723284\n",
      "L_train:0.1072 \n"
     ]
    },
    {
     "name": "stderr",
     "output_type": "stream",
     "text": [
      "Validation     : 100%|██████████| 843/843 [00:21<00:00, 39.72it/s]"
     ]
    },
    {
     "name": "stdout",
     "output_type": "stream",
     "text": [
      "                oA      mIoU        mP        mR       mF1     mcAcc\n",
      "labels_0  0.924567  0.308189  0.333333  0.308189  0.320268  0.308189\n",
      "L_val:0.2315\n",
      "\n",
      "\n"
     ]
    },
    {
     "name": "stderr",
     "output_type": "stream",
     "text": [
      "\n"
     ]
    }
   ],
   "source": [
    "from torch.optim import Adam\n",
    "from torch.nn import CrossEntropyLoss\n",
    "import torch\n",
    "from tqdm import tqdm\n",
    "from utils.metrics import get_multilevel_metrics, print_metrics, combine_metrics_list\n",
    "from time import time\n",
    "\n",
    "criterion = CrossEntropyLoss()\n",
    "\n",
    "optim = Adam(params=model.parameters(), weight_decay=cfg.general.weight_decay)\n",
    "\n",
    "val_dl = DataLoader(val_ds, batch_size=cfg.general.batch_size, num_workers=4)\n",
    "\n",
    "for epoch in range(cfg.general.max_epochs):\n",
    "    print(f\"Epoch-{epoch:03}\")\n",
    "\n",
    "    start = time()\n",
    "    print(f'Sampling training dataset.',end=' ')\n",
    "    train_ds.subsample_random(0.01)\n",
    "    train_ds.compute_neibors_knn(k=cfg.data.num_neib_featureExtraction, verbose=False)\n",
    "    train_dl = DataLoader(train_ds, batch_size=cfg.general.batch_size, num_workers=4, pin_memory=True)\n",
    "    print(f'Done. Took {time()-start:.2f}.')\n",
    "    # train\n",
    "    epoch_train_loss = []\n",
    "    epoch_metrics = []\n",
    "    model.train()\n",
    "    for i, batch in enumerate(tqdm(train_dl, desc=f\"{'Training':<15}\", leave=True)):\n",
    "        optim.zero_grad()\n",
    "        # put batch on device\n",
    "        for k, v in batch.items():\n",
    "            batch[k] = v.to(device=cfg.general.device)\n",
    "\n",
    "        # forward pass\n",
    "        out = model(batch)\n",
    "        \n",
    "        # agregate loss on all levels\n",
    "        loss = torch.tensor(0.).to(device=cfg.general.device)\n",
    "        for k in out.keys():\n",
    "            output = out[k]\n",
    "            gt = batch[k] # type:ignore\n",
    "            loss += criterion(output, gt)\n",
    "        \n",
    "        loss.backward()\n",
    "        optim.step()\n",
    "\n",
    "\n",
    "        # aggregate values for metric calculation\n",
    "        epoch_train_loss.append(loss.item())\n",
    "\n",
    "\n",
    "        preds = {k:torch.argmax(v,dim=1) for k,v in out.items()}    \n",
    "        epoch_metrics.append(get_multilevel_metrics(preds, batch, cfg))\n",
    "        del batch, out\n",
    "        torch.cuda.empty_cache()\n",
    "        \n",
    "\n",
    "\n",
    "\n",
    "    epoch_metrics = combine_metrics_list(epoch_metrics,cfg)\n",
    "    print_metrics(epoch_metrics, cfg)\n",
    "    print(f\"L_train:{np.mean(epoch_train_loss):.4f} \")\n",
    "    \n",
    "    # validate  \n",
    "    epoch_metrics = []\n",
    "    epoch_val_loss = []\n",
    "    model.eval()\n",
    "    with torch.no_grad():\n",
    "        for i,batch in enumerate(tqdm(val_dl, desc=f\"{'Validation':<15}\", leave=True)):\n",
    "            # put batch on device\n",
    "            for k, v in batch.items():\n",
    "                batch[k] = v.to(device=cfg.general.device)\n",
    "\n",
    "            # forward pass\n",
    "            out = model(batch)\n",
    "            \n",
    "            # agregate loss on all levels\n",
    "            loss = torch.tensor(0.).to(device=cfg.general.device)\n",
    "            for k in out.keys():\n",
    "                output = out[k]\n",
    "                gt = batch[k] # type:ignore\n",
    "                loss += criterion(output, gt)\n",
    "\n",
    "        # aggregate values for metric calculation\n",
    "        epoch_val_loss.append(loss.item())\n",
    "        preds = {k:torch.argmax(v,dim=1) for k,v in out.items()}    \n",
    "        epoch_metrics.append(get_multilevel_metrics(preds, batch, cfg))\n",
    "        del batch, out\n",
    "        torch.cuda.empty_cache()\n",
    "            \n",
    "    epoch_metrics = combine_metrics_list(epoch_metrics,cfg)\n",
    "    print_metrics(epoch_metrics, cfg)\n",
    "\n",
    "\n",
    "    print(f\"L_val:{np.mean(epoch_val_loss):.4f}\")\n",
    "    print('\\n')\n",
    "\n",
    "    "
   ]
  },
  {
   "cell_type": "code",
   "execution_count": null,
   "metadata": {},
   "outputs": [],
   "source": [
    "# Epoch-049\n",
    "# Sampling training dataset. Done. Took 22.75.\n",
    "# Training       : 100%|██████████| 885/885 [07:28<00:00,  1.98it/s]\n",
    "#                 oA      mIoU        mP        mR       mF1     mcAcc\n",
    "# labels_0  0.965222  0.685658  0.766195  0.723284  0.732392  0.723284\n",
    "# L_train:0.1072 \n",
    "# Validation     : 100%|██████████| 843/843 [00:21<00:00, 39.72it/s]\n",
    "#                 oA      mIoU        mP        mR       mF1     mcAcc\n",
    "# labels_0  0.924567  0.308189  0.333333  0.308189  0.320268  0.308189\n",
    "# L_val:0.2315"
   ]
  }
 ],
 "metadata": {
  "kernelspec": {
   "display_name": "base",
   "language": "python",
   "name": "python3"
  },
  "language_info": {
   "codemirror_mode": {
    "name": "ipython",
    "version": 3
   },
   "file_extension": ".py",
   "mimetype": "text/x-python",
   "name": "python",
   "nbconvert_exporter": "python",
   "pygments_lexer": "ipython3",
   "version": "3.12.7"
  }
 },
 "nbformat": 4,
 "nbformat_minor": 2
}
