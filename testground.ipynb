{
 "cells": [
  {
   "cell_type": "code",
   "execution_count": 106,
   "metadata": {},
   "outputs": [
    {
     "name": "stdout",
     "output_type": "stream",
     "text": [
      "general:\n",
      "  exp_description: ''\n",
      "  device: cuda\n",
      "  batch_size: 1024\n",
      "  weight_decay: 0.0005\n",
      "  max_epochs: 50\n",
      "  early_stopping_minDelta: 0.01\n",
      "  num_workers: 4\n",
      "data:\n",
      "  dataset_root: ../../02_Datasets/FWF_Subsampled/0.01_simple/\n",
      "  split: ./config/default_split.yaml\n",
      "  preprocessing:\n",
      "    _transformsTraining_:\n",
      "      xyz:\n",
      "        TransCenterXyz: {}\n",
      "        TransZRotation: {}\n",
      "        TransScaling: {}\n",
      "        TransGaussianNoise:\n",
      "          mean: 0\n",
      "          std: 0.002\n",
      "      rgb:\n",
      "        TransGaussianNoise:\n",
      "          mean: 0\n",
      "          std: 0.02\n",
      "        TransFeatureDropout:\n",
      "          dropout_prob: 0.1\n",
      "      wfm:\n",
      "        TransSignalScaling: {}\n",
      "      normals:\n",
      "        TransGaussianNoise:\n",
      "          mean: 0\n",
      "          std: 0.05\n",
      "      incAngles:\n",
      "        TransGaussianNoise:\n",
      "          mean: 0\n",
      "          std: 0.05\n",
      "        TransStandardize:\n",
      "          mean: 2.07\n",
      "          std: 0.38\n",
      "      distanceFromScanner:\n",
      "        TransGaussianNoise:\n",
      "          mean: 12.13\n",
      "          std: 12.2\n",
      "    _transformsValidation_:\n",
      "      xyz:\n",
      "        TransCenterXyz: {}\n",
      "      incAngles:\n",
      "        TransStandardize:\n",
      "          mean: 2.07\n",
      "          std: 0.38\n",
      "      distanceFromScanner:\n",
      "        TransStandardize:\n",
      "          mean: 12.13\n",
      "          std: 12.2\n",
      "    subsampling: null\n",
      "  scalar_input_fields:\n",
      "  - xyz\n",
      "  - rgb\n",
      "  - riegl_feats\n",
      "  - geom_feats\n",
      "  - normals\n",
      "  - incAngles\n",
      "  - distanceFromScanner\n",
      "  fw_input_field: true\n",
      "  label_names:\n",
      "  - labels_3\n",
      "  query_grid_size: 0.15\n",
      "  subsample_on_gpu: true\n",
      "  num_neib_normalsComputation: 20\n",
      "  num_neib_featureExtraction: 128\n",
      "  _trainProjects_:\n",
      "  - proj_name: 2024-03-22_FW_Koenigshuegel.FwfProj\n",
      "  - proj_name: 2024-04-05_FW_Westbahnhof_02.FwfProj\n",
      "  - proj_name: 2024-04-05_FW_Westbahnhof_03.FwfProj\n",
      "  - proj_name: 2024-04-05_FW_Westbahnhof_04.FwfProj\n",
      "  - proj_name: 2024-04-05_FW_Westbahnhof_05.FwfProj\n",
      "  - proj_name: 2024-05-10_FW_RWTH_Zentrum_01.FwfProj\n",
      "  - proj_name: 2024-07-31_FW_Bruecke_Koenigstr.FwfProj\n",
      "    bboxes:\n",
      "    - 0\n",
      "    - 2\n",
      "  - proj_name: 2024-08-02_FW_Bruecke_A44_VerlautenheidenerStr.FwfProj\n",
      "  - proj_name: 2024-08-02_FW_Bruecke_Deltourserb.FwfProj\n",
      "  - proj_name: 2024-08-02_FW_Bruecke_Kasinostrasse.FwfProj\n",
      "    bboxes:\n",
      "    - 1\n",
      "  - proj_name: 2024-08-02_FW_Bruecke_RotheErde.FwfProj\n",
      "  - proj_name: 2024-08-02_FW_Bruecke_Rottstrasse.FwfProj\n",
      "  _valProjects_:\n",
      "  - proj_name: 2023-08-28_FW_EingangBauing.FwfProj\n",
      "  - proj_name: 2024-04-05_FW_Westbahnhof_01.FwfProj\n",
      "  - proj_name: 2024-07-31_FW_Bruecke_Koenigstr.FwfProj\n",
      "    bboxes:\n",
      "    - 1\n",
      "  - proj_name: 2024-08-02_FW_Bruecke_Kasinostrasse.FwfProj\n",
      "    bboxes:\n",
      "    - 0\n",
      "  - proj_name: 2024-07-31_FW_Bruecke_Turmstr.FwfProj\n",
      "  _testProjects_:\n",
      "  - proj_name: 2023-08-28_FW_EingangBauing.FwfProj\n",
      "  - proj_name: 2024-04-05_FW_Westbahnhof_01.FwfProj\n",
      "  - proj_name: 2024-07-31_FW_Bruecke_Koenigstr.FwfProj\n",
      "    bboxes:\n",
      "    - 1\n",
      "  - proj_name: 2024-08-02_FW_Bruecke_Kasinostrasse.FwfProj\n",
      "    bboxes:\n",
      "    - 0\n",
      "  - proj_name: 2024-07-31_FW_Bruecke_Turmstr.FwfProj\n",
      "  label_schema:\n",
      "    labels_0:\n",
      "      manMade: 0\n",
      "      natural: 1\n",
      "      scanArtefact: 2\n",
      "    labels_1:\n",
      "      _unspecified: 0\n",
      "      building: 1\n",
      "      movingObject: 2\n",
      "      naturalGround: 3\n",
      "      sealedSurface: 4\n",
      "      streetFurniture: 5\n",
      "      vegetation: 6\n",
      "      vehicle: 7\n",
      "    labels_2:\n",
      "      _unspecified: 0\n",
      "      bicycle: 1\n",
      "      car: 2\n",
      "      electricalAppliance: 3\n",
      "      facadeSurface: 4\n",
      "      fence: 5\n",
      "      frameElement: 6\n",
      "      kerbStone: 7\n",
      "      naturalGround: 8\n",
      "      nonTiledPaving: 9\n",
      "      pipeLike: 10\n",
      "      scooter: 11\n",
      "      shaft: 12\n",
      "      sign: 13\n",
      "      stair: 14\n",
      "      tiledPaving: 15\n",
      "      trashCan: 16\n",
      "      vegetation: 17\n",
      "    labels_3:\n",
      "      _unspecified: 0\n",
      "      asphalt: 1\n",
      "      brick: 2\n",
      "      cable: 3\n",
      "      concrete: 4\n",
      "      marking: 5\n",
      "      mesh: 6\n",
      "      metal: 7\n",
      "      naturalStone: 8\n",
      "      poster: 9\n",
      "      treeTrunk: 10\n",
      "      vegetation: 11\n",
      "model:\n",
      "  use_global_constraint: false\n",
      "  dropout_prob: 0.3\n",
      "testing:\n",
      "  query_grid_size: 0.03\n",
      "  batch_size: 1024\n",
      "\n"
     ]
    }
   ],
   "source": [
    "# imports\n",
    "from utils.pointcloud import BBox, grid_subsample_simple\n",
    "from data.fwf_dataset import FwfDataset\n",
    "from models.fgf import FGFeatNetwork\n",
    "from omegaconf import OmegaConf\n",
    "import tracemalloc\n",
    "\n",
    "# tracemalloc.start()\n",
    "\n",
    "\n",
    "import numpy as np\n",
    "import json\n",
    "import os\n",
    "\n",
    "\n",
    "# build config\n",
    "cfg = OmegaConf.load(\"./config/default.yaml\")\n",
    "cfg = OmegaConf.merge(cfg, OmegaConf.load(cfg.data.split))\n",
    "with open(os.path.join(cfg.data.dataset_root, 'class_dict.json'),'r') as f:\n",
    "    cfg = OmegaConf.merge(cfg, OmegaConf.create({'data':{'label_schema':json.load(f)}}))\n",
    "\n",
    "\n",
    "print(OmegaConf.to_yaml(cfg))\n",
    "\n",
    "\n",
    "\n",
    "\n"
   ]
  },
  {
   "cell_type": "code",
   "execution_count": 107,
   "metadata": {},
   "outputs": [
    {
     "name": "stdout",
     "output_type": "stream",
     "text": [
      "Loading '2024-03-22_FW_Koenigshuegel.FwfProj'; Bounding box IDs = default\n",
      "Loading '2024-04-05_FW_Westbahnhof_02.FwfProj'; Bounding box IDs = default\n",
      "Loading '2024-04-05_FW_Westbahnhof_03.FwfProj'; Bounding box IDs = default\n",
      "Loading '2024-04-05_FW_Westbahnhof_04.FwfProj'; Bounding box IDs = default\n",
      "Loading '2024-04-05_FW_Westbahnhof_05.FwfProj'; Bounding box IDs = default\n",
      "Loading '2024-05-10_FW_RWTH_Zentrum_01.FwfProj'; Bounding box IDs = default\n",
      "Loading '2024-07-31_FW_Bruecke_Koenigstr.FwfProj'; Bounding box IDs = [0, 2]\n",
      "Loading '2024-08-02_FW_Bruecke_A44_VerlautenheidenerStr.FwfProj'; Bounding box IDs = default\n",
      "Loading '2024-08-02_FW_Bruecke_Deltourserb.FwfProj'; Bounding box IDs = default\n",
      "Loading '2024-08-02_FW_Bruecke_Kasinostrasse.FwfProj'; Bounding box IDs = [1]\n",
      "Loading '2024-08-02_FW_Bruecke_RotheErde.FwfProj'; Bounding box IDs = default\n",
      "Loading '2024-08-02_FW_Bruecke_Rottstrasse.FwfProj'; Bounding box IDs = default\n",
      "Loading '2023-08-28_FW_EingangBauing.FwfProj'; Bounding box IDs = default\n",
      "Loading '2024-04-05_FW_Westbahnhof_01.FwfProj'; Bounding box IDs = default\n",
      "Loading '2024-07-31_FW_Bruecke_Koenigstr.FwfProj'; Bounding box IDs = [1]\n",
      "Loading '2024-08-02_FW_Bruecke_Kasinostrasse.FwfProj'; Bounding box IDs = [0]\n",
      "Loading '2024-07-31_FW_Bruecke_Turmstr.FwfProj'; Bounding box IDs = default\n"
     ]
    }
   ],
   "source": [
    "train_ds = FwfDataset(cfg, cfg.data.preprocessing._transformsTraining_, cfg.data._trainProjects_)\n",
    "val_ds = FwfDataset(cfg, cfg.data.preprocessing._transformsValidation_, cfg.data._valProjects_)\n"
   ]
  },
  {
   "cell_type": "code",
   "execution_count": 108,
   "metadata": {},
   "outputs": [
    {
     "name": "stdout",
     "output_type": "stream",
     "text": [
      "Computing neibors for '2024-03-22_FW_Koenigshuegel.FwfProj::defaultBbox' @ k=20\n",
      "Computing neibors for '2024-04-05_FW_Westbahnhof_02.FwfProj::defaultBbox' @ k=20\n",
      "Computing neibors for '2024-04-05_FW_Westbahnhof_03.FwfProj::defaultBbox' @ k=20\n",
      "Computing neibors for '2024-04-05_FW_Westbahnhof_04.FwfProj::defaultBbox' @ k=20\n",
      "Computing neibors for '2024-04-05_FW_Westbahnhof_05.FwfProj::defaultBbox' @ k=20\n",
      "Computing neibors for '2024-05-10_FW_RWTH_Zentrum_01.FwfProj::defaultBbox' @ k=20\n",
      "Computing neibors for '2024-07-31_FW_Bruecke_Koenigstr.FwfProj::bboxId=000' @ k=20\n",
      "Computing neibors for '2024-07-31_FW_Bruecke_Koenigstr.FwfProj::bboxId=002' @ k=20\n",
      "Computing neibors for '2024-08-02_FW_Bruecke_A44_VerlautenheidenerStr.FwfProj::defaultBbox' @ k=20\n",
      "Computing neibors for '2024-08-02_FW_Bruecke_Deltourserb.FwfProj::defaultBbox' @ k=20\n",
      "Computing neibors for '2024-08-02_FW_Bruecke_Kasinostrasse.FwfProj::bboxId=001' @ k=20\n",
      "Computing neibors for '2024-08-02_FW_Bruecke_RotheErde.FwfProj::defaultBbox' @ k=20\n",
      "Computing neibors for '2024-08-02_FW_Bruecke_Rottstrasse.FwfProj::defaultBbox' @ k=20\n",
      "Computing normals for '2024-03-22_FW_Koenigshuegel.FwfProj::defaultBbox' @ k=20\n",
      "Computing normals for '2024-04-05_FW_Westbahnhof_02.FwfProj::defaultBbox' @ k=20\n",
      "Computing normals for '2024-04-05_FW_Westbahnhof_03.FwfProj::defaultBbox' @ k=20\n",
      "Computing normals for '2024-04-05_FW_Westbahnhof_04.FwfProj::defaultBbox' @ k=20\n",
      "Computing normals for '2024-04-05_FW_Westbahnhof_05.FwfProj::defaultBbox' @ k=20\n",
      "Computing normals for '2024-05-10_FW_RWTH_Zentrum_01.FwfProj::defaultBbox' @ k=20\n",
      "Computing normals for '2024-07-31_FW_Bruecke_Koenigstr.FwfProj::bboxId=000' @ k=20\n",
      "Computing normals for '2024-07-31_FW_Bruecke_Koenigstr.FwfProj::bboxId=002' @ k=20\n",
      "Computing normals for '2024-08-02_FW_Bruecke_A44_VerlautenheidenerStr.FwfProj::defaultBbox' @ k=20\n",
      "Computing normals for '2024-08-02_FW_Bruecke_Deltourserb.FwfProj::defaultBbox' @ k=20\n",
      "Computing normals for '2024-08-02_FW_Bruecke_Kasinostrasse.FwfProj::bboxId=001' @ k=20\n",
      "Computing normals for '2024-08-02_FW_Bruecke_RotheErde.FwfProj::defaultBbox' @ k=20\n",
      "Computing normals for '2024-08-02_FW_Bruecke_Rottstrasse.FwfProj::defaultBbox' @ k=20\n",
      "Computing incidence angles for '2024-03-22_FW_Koenigshuegel.FwfProj::defaultBbox'\n",
      "Computing incidence angles for '2024-04-05_FW_Westbahnhof_02.FwfProj::defaultBbox'\n",
      "Computing incidence angles for '2024-04-05_FW_Westbahnhof_03.FwfProj::defaultBbox'\n",
      "Computing incidence angles for '2024-04-05_FW_Westbahnhof_04.FwfProj::defaultBbox'\n",
      "Computing incidence angles for '2024-04-05_FW_Westbahnhof_05.FwfProj::defaultBbox'\n",
      "Computing incidence angles for '2024-05-10_FW_RWTH_Zentrum_01.FwfProj::defaultBbox'\n",
      "Computing incidence angles for '2024-07-31_FW_Bruecke_Koenigstr.FwfProj::bboxId=000'\n",
      "Computing incidence angles for '2024-07-31_FW_Bruecke_Koenigstr.FwfProj::bboxId=002'\n",
      "Computing incidence angles for '2024-08-02_FW_Bruecke_A44_VerlautenheidenerStr.FwfProj::defaultBbox'\n",
      "Computing incidence angles for '2024-08-02_FW_Bruecke_Deltourserb.FwfProj::defaultBbox'\n",
      "Computing incidence angles for '2024-08-02_FW_Bruecke_Kasinostrasse.FwfProj::bboxId=001'\n",
      "Computing incidence angles for '2024-08-02_FW_Bruecke_RotheErde.FwfProj::defaultBbox'\n",
      "Computing incidence angles for '2024-08-02_FW_Bruecke_Rottstrasse.FwfProj::defaultBbox'\n",
      "Computing neibors for '2023-08-28_FW_EingangBauing.FwfProj::defaultBbox' @ k=20\n",
      "Computing neibors for '2024-04-05_FW_Westbahnhof_01.FwfProj::defaultBbox' @ k=20\n",
      "Computing neibors for '2024-07-31_FW_Bruecke_Koenigstr.FwfProj::bboxId=001' @ k=20\n",
      "Computing neibors for '2024-08-02_FW_Bruecke_Kasinostrasse.FwfProj::bboxId=000' @ k=20\n",
      "Computing neibors for '2024-07-31_FW_Bruecke_Turmstr.FwfProj::defaultBbox' @ k=20\n",
      "Computing normals for '2023-08-28_FW_EingangBauing.FwfProj::defaultBbox' @ k=20\n",
      "Computing normals for '2024-04-05_FW_Westbahnhof_01.FwfProj::defaultBbox' @ k=20\n",
      "Computing normals for '2024-07-31_FW_Bruecke_Koenigstr.FwfProj::bboxId=001' @ k=20\n",
      "Computing normals for '2024-08-02_FW_Bruecke_Kasinostrasse.FwfProj::bboxId=000' @ k=20\n",
      "Computing normals for '2024-07-31_FW_Bruecke_Turmstr.FwfProj::defaultBbox' @ k=20\n",
      "Computing incidence angles for '2023-08-28_FW_EingangBauing.FwfProj::defaultBbox'\n",
      "Computing incidence angles for '2024-04-05_FW_Westbahnhof_01.FwfProj::defaultBbox'\n",
      "Computing incidence angles for '2024-07-31_FW_Bruecke_Koenigstr.FwfProj::bboxId=001'\n",
      "Computing incidence angles for '2024-08-02_FW_Bruecke_Kasinostrasse.FwfProj::bboxId=000'\n",
      "Computing incidence angles for '2024-07-31_FW_Bruecke_Turmstr.FwfProj::defaultBbox'\n",
      "Computing neibors for '2023-08-28_FW_EingangBauing.FwfProj::defaultBbox' @ k=128\n",
      "Computing neibors for '2024-04-05_FW_Westbahnhof_01.FwfProj::defaultBbox' @ k=128\n",
      "Computing neibors for '2024-07-31_FW_Bruecke_Koenigstr.FwfProj::bboxId=001' @ k=128\n",
      "Computing neibors for '2024-08-02_FW_Bruecke_Kasinostrasse.FwfProj::bboxId=000' @ k=128\n",
      "Computing neibors for '2024-07-31_FW_Bruecke_Turmstr.FwfProj::defaultBbox' @ k=128\n"
     ]
    }
   ],
   "source": [
    "# normals, inc angles\n",
    "train_ds.subsample_grid(cfg.data.query_grid_size, save_inv=True)\n",
    "train_ds.compute_neibors_knn(k=cfg.data.num_neib_normalsComputation)\n",
    "train_ds.compute_normals_knn()\n",
    "train_ds.compute_incAngles()\n",
    "\n",
    "\n",
    "val_ds.subsample_grid(cfg.data.query_grid_size, save_inv=True)\n",
    "val_ds.compute_neibors_knn(k=cfg.data.num_neib_normalsComputation)\n",
    "val_ds.compute_normals_knn()\n",
    "val_ds.compute_incAngles()\n",
    "val_ds.compute_neibors_knn(k=cfg.data.num_neib_featureExtraction, verbose=True)"
   ]
  },
  {
   "cell_type": "code",
   "execution_count": 6,
   "metadata": {},
   "outputs": [],
   "source": [
    "from torch.utils.data import DataLoader\n",
    "\n",
    "# create model\n",
    "model = FGFeatNetwork(cfg=cfg,\n",
    "    num_input_feats = train_ds[0]['features_neibors'].shape[-1],\n",
    "    ).to(device=cfg.general.device)\n"
   ]
  },
  {
   "cell_type": "code",
   "execution_count": 5,
   "metadata": {},
   "outputs": [],
   "source": [
    "# train_dl = DataLoader(train_ds, batch_size=cfg.general.batch_size, num_workers=0) --> ca. 6it/sec, no mem problem\n",
    "# train_dl = DataLoader(train_ds, batch_size=cfg.general.batch_size, num_workers=2) --> ca. 12 it/sec, doable but still knapp"
   ]
  },
  {
   "cell_type": "code",
   "execution_count": 9,
   "metadata": {},
   "outputs": [
    {
     "name": "stdout",
     "output_type": "stream",
     "text": [
      "Epoch-000\n",
      "Sampling training dataset. Done. Took 13.48.\n"
     ]
    },
    {
     "name": "stderr",
     "output_type": "stream",
     "text": [
      "Training       : 100%|██████████| 885/885 [03:41<00:00,  4.00it/s]\n"
     ]
    },
    {
     "name": "stdout",
     "output_type": "stream",
     "text": [
      "                oA      mIoU        mP        mR       mF1     mcAcc\n",
      "labels_3  0.794809  0.304755  0.387438  0.365058  0.361101  0.365058\n",
      "L_train:0.6477 \n"
     ]
    },
    {
     "name": "stderr",
     "output_type": "stream",
     "text": [
      "Validation     :  12%|█▏        | 100/843 [00:04<00:36, 20.09it/s]\n"
     ]
    },
    {
     "ename": "Exception",
     "evalue": "",
     "output_type": "error",
     "traceback": [
      "\u001b[0;31m---------------------------------------------------------------------------\u001b[0m",
      "\u001b[0;31mException\u001b[0m                                 Traceback (most recent call last)",
      "Cell \u001b[0;32mIn[9], line 88\u001b[0m\n\u001b[1;32m     86\u001b[0m     c\u001b[38;5;241m+\u001b[39m\u001b[38;5;241m=\u001b[39m \u001b[38;5;241m1\u001b[39m\n\u001b[1;32m     87\u001b[0m     \u001b[38;5;28;01mif\u001b[39;00m c \u001b[38;5;241m>\u001b[39m \u001b[38;5;241m100\u001b[39m:\n\u001b[0;32m---> 88\u001b[0m         \u001b[38;5;28;01mraise\u001b[39;00m \u001b[38;5;167;01mException\u001b[39;00m\n\u001b[1;32m     89\u001b[0m \u001b[38;5;66;03m# aggregate values for metric calculation\u001b[39;00m\n\u001b[1;32m     90\u001b[0m epoch_val_loss\u001b[38;5;241m.\u001b[39mappend(loss\u001b[38;5;241m.\u001b[39mitem())\n",
      "\u001b[0;31mException\u001b[0m: "
     ]
    }
   ],
   "source": [
    "from torch.optim import Adam\n",
    "from torch.nn import CrossEntropyLoss\n",
    "import torch\n",
    "from tqdm import tqdm\n",
    "from utils.metrics import get_multilevel_metrics, print_metrics, combine_metrics_list\n",
    "from time import time\n",
    "\n",
    "\n",
    "\n",
    "criterion = CrossEntropyLoss()\n",
    "\n",
    "optim = Adam(params=model.parameters(), weight_decay=cfg.general.weight_decay)\n",
    "\n",
    "val_dl = DataLoader(val_ds, batch_size=cfg.general.batch_size, num_workers=4)\n",
    "\n",
    "for epoch in range(cfg.general.max_epochs):\n",
    "    print(f\"Epoch-{epoch:03}\")\n",
    "\n",
    "    start = time()\n",
    "    print(f'Sampling training dataset.',end=' ')\n",
    "    # subsample a random percentage of points\n",
    "    train_ds.subsample_random(0.01)\n",
    "    train_ds.compute_neibors_knn(k=cfg.data.num_neib_featureExtraction, verbose=False)\n",
    "    train_dl = DataLoader(train_ds, batch_size=cfg.general.batch_size, num_workers=4, pin_memory=True)\n",
    "    print(f'Done. Took {time()-start:.2f}.')\n",
    "    # train\n",
    "    epoch_train_loss = []\n",
    "    epoch_metrics = []\n",
    "    model.train()\n",
    "    for i, batch in enumerate(tqdm(train_dl, desc=f\"{'Training':<15}\", leave=True)):\n",
    "        optim.zero_grad()\n",
    "        # put batch on device\n",
    "        for k, v in batch.items():\n",
    "            batch[k] = v.to(device=cfg.general.device)\n",
    "\n",
    "        # forward pass\n",
    "        out = model(batch)\n",
    "        \n",
    "        # agregate loss on all levels\n",
    "        loss = torch.tensor(0.).to(device=cfg.general.device)\n",
    "        for k in out.keys():\n",
    "            output = out[k]\n",
    "            gt = batch[k] # type:ignore\n",
    "            loss += criterion(output, gt)\n",
    "        \n",
    "        loss.backward()\n",
    "        optim.step()\n",
    "\n",
    "\n",
    "        # aggregate values for metric calculation\n",
    "        epoch_train_loss.append(loss.item())\n",
    "\n",
    "\n",
    "        preds = {k:torch.argmax(v,dim=1) for k,v in out.items()}    \n",
    "        epoch_metrics.append(get_multilevel_metrics(preds, batch, cfg))\n",
    "        del batch, out\n",
    "        torch.cuda.empty_cache()\n",
    "        \n",
    "\n",
    "\n",
    "\n",
    "    epoch_metrics = combine_metrics_list(epoch_metrics,cfg)\n",
    "    print_metrics(epoch_metrics, cfg)\n",
    "    print(f\"L_train:{np.mean(epoch_train_loss):.4f} \")\n",
    "    \n",
    "    # validate  \n",
    "    epoch_metrics = []\n",
    "    epoch_val_loss = []\n",
    "    model.eval()\n",
    "    c = 0\n",
    "    with torch.no_grad():\n",
    "        for i,batch in enumerate(tqdm(val_dl, desc=f\"{'Validation':<15}\", leave=True)):\n",
    "            # put batch on device\n",
    "            for k, v in batch.items():\n",
    "                batch[k] = v.to(device=cfg.general.device)\n",
    "\n",
    "            # forward pass\n",
    "            out = model(batch)\n",
    "            # agregate loss on all levels\n",
    "            loss = torch.tensor(0.).to(device=cfg.general.device)\n",
    "            for k in out.keys():\n",
    "                output = out[k]\n",
    "                gt = batch[k] # type:ignore\n",
    "                loss += criterion(output, gt)\n",
    "\n",
    "            c+= 1\n",
    "            if c > 100:\n",
    "                raise Exception\n",
    "        # aggregate values for metric calculation\n",
    "        epoch_val_loss.append(loss.item())\n",
    "        preds = {k:torch.argmax(v,dim=1) for k,v in out.items()}    \n",
    "        epoch_metrics.append(get_multilevel_metrics(preds, batch, cfg))\n",
    "        del batch, out\n",
    "        torch.cuda.empty_cache()\n",
    "            \n",
    "    epoch_metrics = combine_metrics_list(epoch_metrics,cfg)\n",
    "    print_metrics(epoch_metrics, cfg)\n",
    "\n",
    "\n",
    "    print(f\"L_val:{np.mean(epoch_val_loss):.4f}\")\n",
    "    print('\\n')\n",
    "\n",
    "    "
   ]
  },
  {
   "cell_type": "code",
   "execution_count": 11,
   "metadata": {},
   "outputs": [],
   "source": [
    "preds = {k:torch.argmax(v,dim=1) for k,v in out.items()}    "
   ]
  },
  {
   "cell_type": "code",
   "execution_count": 85,
   "metadata": {},
   "outputs": [],
   "source": [
    "batch = {k:v.to(device='cuda') for k,v in batch.items()}\n",
    "preds = {k:v.to(device='cuda') for k,v in preds.items()}"
   ]
  },
  {
   "cell_type": "code",
   "execution_count": 86,
   "metadata": {},
   "outputs": [
    {
     "name": "stdout",
     "output_type": "stream",
     "text": [
      "cuda:0\n"
     ]
    }
   ],
   "source": [
    "for el in preds.items():\n",
    "    print(el[1].device)"
   ]
  },
  {
   "cell_type": "code",
   "execution_count": 92,
   "metadata": {},
   "outputs": [
    {
     "data": {
      "text/plain": [
       "array([0.        , 0.20454545, 0.        , 0.        , 0.2682927 ,\n",
       "       0.        , 0.        , 0.6538461 , 0.        , 0.        ,\n",
       "       0.        , 0.97534835], dtype=float32)"
      ]
     },
     "execution_count": 92,
     "metadata": {},
     "output_type": "execute_result"
    }
   ],
   "source": [
    "get_multilevel_metrics(preds, batch, cfg)['labels_3']['classwise']['iou']"
   ]
  },
  {
   "cell_type": "code",
   "execution_count": 42,
   "metadata": {},
   "outputs": [
    {
     "data": {
      "text/plain": [
       "0.935546875"
      ]
     },
     "execution_count": 42,
     "metadata": {},
     "output_type": "execute_result"
    }
   ],
   "source": [
    "(preds['labels_3'].detach().cpu().numpy() == batch['labels_3'].detach().cpu().numpy()).mean()"
   ]
  },
  {
   "cell_type": "code",
   "execution_count": 22,
   "metadata": {},
   "outputs": [],
   "source": [
    "from torchmetrics.segmentation import MeanIoU"
   ]
  },
  {
   "cell_type": "code",
   "execution_count": 62,
   "metadata": {},
   "outputs": [],
   "source": [
    "batch['labels_3'] = batch['labels_3'].to(dtype=torch.int64,device='cpu')"
   ]
  },
  {
   "cell_type": "code",
   "execution_count": 63,
   "metadata": {},
   "outputs": [],
   "source": [
    "preds['labels_3']=preds['labels_3'].to(dtype=torch.int64,device='cpu')"
   ]
  },
  {
   "cell_type": "code",
   "execution_count": 50,
   "metadata": {},
   "outputs": [
    {
     "data": {
      "text/plain": [
       "torch.Size([1024])"
      ]
     },
     "execution_count": 50,
     "metadata": {},
     "output_type": "execute_result"
    }
   ],
   "source": [
    "preds['labels_3'].shape"
   ]
  },
  {
   "cell_type": "code",
   "execution_count": 101,
   "metadata": {},
   "outputs": [
    {
     "data": {
      "text/plain": [
       "dict_keys(['labels_0', 'labels_1', 'labels_2', 'labels_3'])"
      ]
     },
     "execution_count": 101,
     "metadata": {},
     "output_type": "execute_result"
    }
   ],
   "source": [
    "cfg.data.label_schema.keys()"
   ]
  },
  {
   "cell_type": "code",
   "execution_count": 105,
   "metadata": {},
   "outputs": [
    {
     "data": {
      "text/plain": [
       "['labels_3']"
      ]
     },
     "execution_count": 105,
     "metadata": {},
     "output_type": "execute_result"
    }
   ],
   "source": [
    "train_ds.label_names"
   ]
  },
  {
   "cell_type": "code",
   "execution_count": 100,
   "metadata": {},
   "outputs": [
    {
     "ename": "RuntimeError",
     "evalue": "Encountered different devices in metric calculation (see stacktrace for details). This could be due to the metric class not being on the same device as input. Instead of `metric=MeanIoU(...)` try to do `metric=MeanIoU(...).to(device)` where device corresponds to the device of the input.",
     "output_type": "error",
     "traceback": [
      "\u001b[0;31m---------------------------------------------------------------------------\u001b[0m",
      "\u001b[0;31mRuntimeError\u001b[0m                              Traceback (most recent call last)",
      "File \u001b[0;32m~/anaconda3/lib/python3.12/site-packages/torchmetrics/metric.py:550\u001b[0m, in \u001b[0;36mMetric._wrap_update.<locals>.wrapped_func\u001b[0;34m(*args, **kwargs)\u001b[0m\n\u001b[1;32m    549\u001b[0m \u001b[38;5;28;01mtry\u001b[39;00m:\n\u001b[0;32m--> 550\u001b[0m     update(\u001b[38;5;241m*\u001b[39margs, \u001b[38;5;241m*\u001b[39m\u001b[38;5;241m*\u001b[39mkwargs)\n\u001b[1;32m    551\u001b[0m \u001b[38;5;28;01mexcept\u001b[39;00m \u001b[38;5;167;01mRuntimeError\u001b[39;00m \u001b[38;5;28;01mas\u001b[39;00m err:\n",
      "File \u001b[0;32m~/anaconda3/lib/python3.12/site-packages/torchmetrics/segmentation/mean_iou.py:123\u001b[0m, in \u001b[0;36mMeanIoU.update\u001b[0;34m(self, preds, target)\u001b[0m\n\u001b[1;32m    122\u001b[0m score \u001b[38;5;241m=\u001b[39m _mean_iou_compute(intersection, union, per_class\u001b[38;5;241m=\u001b[39m\u001b[38;5;28mself\u001b[39m\u001b[38;5;241m.\u001b[39mper_class)\n\u001b[0;32m--> 123\u001b[0m \u001b[38;5;28mself\u001b[39m\u001b[38;5;241m.\u001b[39mscore \u001b[38;5;241m+\u001b[39m\u001b[38;5;241m=\u001b[39m score\u001b[38;5;241m.\u001b[39mmean(\u001b[38;5;241m0\u001b[39m) \u001b[38;5;28;01mif\u001b[39;00m \u001b[38;5;28mself\u001b[39m\u001b[38;5;241m.\u001b[39mper_class \u001b[38;5;28;01melse\u001b[39;00m score\u001b[38;5;241m.\u001b[39mmean()\n\u001b[1;32m    124\u001b[0m \u001b[38;5;28mself\u001b[39m\u001b[38;5;241m.\u001b[39mnum_batches \u001b[38;5;241m+\u001b[39m\u001b[38;5;241m=\u001b[39m \u001b[38;5;241m1\u001b[39m\n",
      "\u001b[0;31mRuntimeError\u001b[0m: Expected all tensors to be on the same device, but found at least two devices, cuda:0 and cpu!",
      "\nThe above exception was the direct cause of the following exception:\n",
      "\u001b[0;31mRuntimeError\u001b[0m                              Traceback (most recent call last)",
      "Cell \u001b[0;32mIn[100], line 2\u001b[0m\n\u001b[1;32m      1\u001b[0m miou \u001b[38;5;241m=\u001b[39m MeanIoU(num_classes\u001b[38;5;241m=\u001b[39m\u001b[38;5;28mlen\u001b[39m(cfg\u001b[38;5;241m.\u001b[39mdata\u001b[38;5;241m.\u001b[39mlabel_schema[\u001b[38;5;124m'\u001b[39m\u001b[38;5;124mlabels_3\u001b[39m\u001b[38;5;124m'\u001b[39m]),input_format\u001b[38;5;241m=\u001b[39m\u001b[38;5;124m'\u001b[39m\u001b[38;5;124mindex\u001b[39m\u001b[38;5;124m'\u001b[39m, per_class\u001b[38;5;241m=\u001b[39m\u001b[38;5;28;01mTrue\u001b[39;00m)\n\u001b[0;32m----> 2\u001b[0m miou(preds[\u001b[38;5;124m'\u001b[39m\u001b[38;5;124mlabels_3\u001b[39m\u001b[38;5;124m'\u001b[39m][:,\u001b[38;5;28;01mNone\u001b[39;00m], batch[\u001b[38;5;124m'\u001b[39m\u001b[38;5;124mlabels_3\u001b[39m\u001b[38;5;124m'\u001b[39m][:,\u001b[38;5;28;01mNone\u001b[39;00m])\n",
      "File \u001b[0;32m~/anaconda3/lib/python3.12/site-packages/torch/nn/modules/module.py:1736\u001b[0m, in \u001b[0;36mModule._wrapped_call_impl\u001b[0;34m(self, *args, **kwargs)\u001b[0m\n\u001b[1;32m   1734\u001b[0m     \u001b[38;5;28;01mreturn\u001b[39;00m \u001b[38;5;28mself\u001b[39m\u001b[38;5;241m.\u001b[39m_compiled_call_impl(\u001b[38;5;241m*\u001b[39margs, \u001b[38;5;241m*\u001b[39m\u001b[38;5;241m*\u001b[39mkwargs)  \u001b[38;5;66;03m# type: ignore[misc]\u001b[39;00m\n\u001b[1;32m   1735\u001b[0m \u001b[38;5;28;01melse\u001b[39;00m:\n\u001b[0;32m-> 1736\u001b[0m     \u001b[38;5;28;01mreturn\u001b[39;00m \u001b[38;5;28mself\u001b[39m\u001b[38;5;241m.\u001b[39m_call_impl(\u001b[38;5;241m*\u001b[39margs, \u001b[38;5;241m*\u001b[39m\u001b[38;5;241m*\u001b[39mkwargs)\n",
      "File \u001b[0;32m~/anaconda3/lib/python3.12/site-packages/torch/nn/modules/module.py:1747\u001b[0m, in \u001b[0;36mModule._call_impl\u001b[0;34m(self, *args, **kwargs)\u001b[0m\n\u001b[1;32m   1742\u001b[0m \u001b[38;5;66;03m# If we don't have any hooks, we want to skip the rest of the logic in\u001b[39;00m\n\u001b[1;32m   1743\u001b[0m \u001b[38;5;66;03m# this function, and just call forward.\u001b[39;00m\n\u001b[1;32m   1744\u001b[0m \u001b[38;5;28;01mif\u001b[39;00m \u001b[38;5;129;01mnot\u001b[39;00m (\u001b[38;5;28mself\u001b[39m\u001b[38;5;241m.\u001b[39m_backward_hooks \u001b[38;5;129;01mor\u001b[39;00m \u001b[38;5;28mself\u001b[39m\u001b[38;5;241m.\u001b[39m_backward_pre_hooks \u001b[38;5;129;01mor\u001b[39;00m \u001b[38;5;28mself\u001b[39m\u001b[38;5;241m.\u001b[39m_forward_hooks \u001b[38;5;129;01mor\u001b[39;00m \u001b[38;5;28mself\u001b[39m\u001b[38;5;241m.\u001b[39m_forward_pre_hooks\n\u001b[1;32m   1745\u001b[0m         \u001b[38;5;129;01mor\u001b[39;00m _global_backward_pre_hooks \u001b[38;5;129;01mor\u001b[39;00m _global_backward_hooks\n\u001b[1;32m   1746\u001b[0m         \u001b[38;5;129;01mor\u001b[39;00m _global_forward_hooks \u001b[38;5;129;01mor\u001b[39;00m _global_forward_pre_hooks):\n\u001b[0;32m-> 1747\u001b[0m     \u001b[38;5;28;01mreturn\u001b[39;00m forward_call(\u001b[38;5;241m*\u001b[39margs, \u001b[38;5;241m*\u001b[39m\u001b[38;5;241m*\u001b[39mkwargs)\n\u001b[1;32m   1749\u001b[0m result \u001b[38;5;241m=\u001b[39m \u001b[38;5;28;01mNone\u001b[39;00m\n\u001b[1;32m   1750\u001b[0m called_always_called_hooks \u001b[38;5;241m=\u001b[39m \u001b[38;5;28mset\u001b[39m()\n",
      "File \u001b[0;32m~/anaconda3/lib/python3.12/site-packages/torchmetrics/metric.py:316\u001b[0m, in \u001b[0;36mMetric.forward\u001b[0;34m(self, *args, **kwargs)\u001b[0m\n\u001b[1;32m    314\u001b[0m     \u001b[38;5;28mself\u001b[39m\u001b[38;5;241m.\u001b[39m_forward_cache \u001b[38;5;241m=\u001b[39m \u001b[38;5;28mself\u001b[39m\u001b[38;5;241m.\u001b[39m_forward_full_state_update(\u001b[38;5;241m*\u001b[39margs, \u001b[38;5;241m*\u001b[39m\u001b[38;5;241m*\u001b[39mkwargs)\n\u001b[1;32m    315\u001b[0m \u001b[38;5;28;01melse\u001b[39;00m:\n\u001b[0;32m--> 316\u001b[0m     \u001b[38;5;28mself\u001b[39m\u001b[38;5;241m.\u001b[39m_forward_cache \u001b[38;5;241m=\u001b[39m \u001b[38;5;28mself\u001b[39m\u001b[38;5;241m.\u001b[39m_forward_reduce_state_update(\u001b[38;5;241m*\u001b[39margs, \u001b[38;5;241m*\u001b[39m\u001b[38;5;241m*\u001b[39mkwargs)\n\u001b[1;32m    318\u001b[0m \u001b[38;5;28;01mreturn\u001b[39;00m \u001b[38;5;28mself\u001b[39m\u001b[38;5;241m.\u001b[39m_forward_cache\n",
      "File \u001b[0;32m~/anaconda3/lib/python3.12/site-packages/torchmetrics/metric.py:385\u001b[0m, in \u001b[0;36mMetric._forward_reduce_state_update\u001b[0;34m(self, *args, **kwargs)\u001b[0m\n\u001b[1;32m    382\u001b[0m \u001b[38;5;28mself\u001b[39m\u001b[38;5;241m.\u001b[39m_enable_grad \u001b[38;5;241m=\u001b[39m \u001b[38;5;28;01mTrue\u001b[39;00m  \u001b[38;5;66;03m# allow grads for batch computation\u001b[39;00m\n\u001b[1;32m    384\u001b[0m \u001b[38;5;66;03m# calculate batch state and compute batch value\u001b[39;00m\n\u001b[0;32m--> 385\u001b[0m \u001b[38;5;28mself\u001b[39m\u001b[38;5;241m.\u001b[39mupdate(\u001b[38;5;241m*\u001b[39margs, \u001b[38;5;241m*\u001b[39m\u001b[38;5;241m*\u001b[39mkwargs)\n\u001b[1;32m    386\u001b[0m batch_val \u001b[38;5;241m=\u001b[39m \u001b[38;5;28mself\u001b[39m\u001b[38;5;241m.\u001b[39mcompute()\n\u001b[1;32m    388\u001b[0m \u001b[38;5;66;03m# reduce batch and global state\u001b[39;00m\n",
      "File \u001b[0;32m~/anaconda3/lib/python3.12/site-packages/torchmetrics/metric.py:553\u001b[0m, in \u001b[0;36mMetric._wrap_update.<locals>.wrapped_func\u001b[0;34m(*args, **kwargs)\u001b[0m\n\u001b[1;32m    551\u001b[0m     \u001b[38;5;28;01mexcept\u001b[39;00m \u001b[38;5;167;01mRuntimeError\u001b[39;00m \u001b[38;5;28;01mas\u001b[39;00m err:\n\u001b[1;32m    552\u001b[0m         \u001b[38;5;28;01mif\u001b[39;00m \u001b[38;5;124m\"\u001b[39m\u001b[38;5;124mExpected all tensors to be on\u001b[39m\u001b[38;5;124m\"\u001b[39m \u001b[38;5;129;01min\u001b[39;00m \u001b[38;5;28mstr\u001b[39m(err):\n\u001b[0;32m--> 553\u001b[0m             \u001b[38;5;28;01mraise\u001b[39;00m \u001b[38;5;167;01mRuntimeError\u001b[39;00m(\n\u001b[1;32m    554\u001b[0m                 \u001b[38;5;124m\"\u001b[39m\u001b[38;5;124mEncountered different devices in metric calculation (see stacktrace for details).\u001b[39m\u001b[38;5;124m\"\u001b[39m\n\u001b[1;32m    555\u001b[0m                 \u001b[38;5;124m\"\u001b[39m\u001b[38;5;124m This could be due to the metric class not being on the same device as input.\u001b[39m\u001b[38;5;124m\"\u001b[39m\n\u001b[1;32m    556\u001b[0m                 \u001b[38;5;124mf\u001b[39m\u001b[38;5;124m\"\u001b[39m\u001b[38;5;124m Instead of `metric=\u001b[39m\u001b[38;5;132;01m{\u001b[39;00m\u001b[38;5;28mself\u001b[39m\u001b[38;5;241m.\u001b[39m\u001b[38;5;18m__class__\u001b[39m\u001b[38;5;241m.\u001b[39m\u001b[38;5;18m__name__\u001b[39m\u001b[38;5;132;01m}\u001b[39;00m\u001b[38;5;124m(...)` try to do\u001b[39m\u001b[38;5;124m\"\u001b[39m\n\u001b[1;32m    557\u001b[0m                 \u001b[38;5;124mf\u001b[39m\u001b[38;5;124m\"\u001b[39m\u001b[38;5;124m `metric=\u001b[39m\u001b[38;5;132;01m{\u001b[39;00m\u001b[38;5;28mself\u001b[39m\u001b[38;5;241m.\u001b[39m\u001b[38;5;18m__class__\u001b[39m\u001b[38;5;241m.\u001b[39m\u001b[38;5;18m__name__\u001b[39m\u001b[38;5;132;01m}\u001b[39;00m\u001b[38;5;124m(...).to(device)` where\u001b[39m\u001b[38;5;124m\"\u001b[39m\n\u001b[1;32m    558\u001b[0m                 \u001b[38;5;124m\"\u001b[39m\u001b[38;5;124m device corresponds to the device of the input.\u001b[39m\u001b[38;5;124m\"\u001b[39m\n\u001b[1;32m    559\u001b[0m             ) \u001b[38;5;28;01mfrom\u001b[39;00m \u001b[38;5;21;01merr\u001b[39;00m\n\u001b[1;32m    560\u001b[0m         \u001b[38;5;28;01mraise\u001b[39;00m err\n\u001b[1;32m    562\u001b[0m \u001b[38;5;28;01mif\u001b[39;00m \u001b[38;5;28mself\u001b[39m\u001b[38;5;241m.\u001b[39mcompute_on_cpu:\n",
      "\u001b[0;31mRuntimeError\u001b[0m: Encountered different devices in metric calculation (see stacktrace for details). This could be due to the metric class not being on the same device as input. Instead of `metric=MeanIoU(...)` try to do `metric=MeanIoU(...).to(device)` where device corresponds to the device of the input."
     ]
    }
   ],
   "source": [
    "miou = MeanIoU(num_classes=len(cfg.data.label_schema['labels_3']),input_format='index', per_class=True)\n",
    "miou(preds['labels_3'][:,None], batch['labels_3'][:,None])"
   ]
  },
  {
   "cell_type": "code",
   "execution_count": 99,
   "metadata": {},
   "outputs": [
    {
     "data": {
      "text/plain": [
       "0.8788990825688073"
      ]
     },
     "execution_count": 99,
     "metadata": {},
     "output_type": "execute_result"
    }
   ],
   "source": [
    "from sklearn.metrics import jaccard_score\n",
    "jaccard_score(\n",
    "    batch['labels_3'].detach().cpu().numpy(),\n",
    "    preds['labels_3'].detach().cpu().numpy(),average='micro')"
   ]
  },
  {
   "cell_type": "code",
   "execution_count": 10,
   "metadata": {},
   "outputs": [
    {
     "data": {
      "text/plain": [
       "{'labels_3': tensor([[-1.6561, -6.4180, -3.8302,  ..., -4.6453,  1.2041,  3.8922],\n",
       "         [-1.9462, -8.3578, -4.9595,  ..., -5.9825,  1.9146,  4.9588],\n",
       "         [-1.9676, -8.5061, -5.0889,  ..., -5.9469,  1.9776,  4.9908],\n",
       "         ...,\n",
       "         [-0.7784,  3.9277, -4.6603,  ..., -2.9421, -5.2739,  0.4067],\n",
       "         [-1.7697, -7.3003, -4.4040,  ..., -5.2239,  1.4652,  4.3442],\n",
       "         [-1.8289, -7.4214, -4.5581,  ..., -5.4036,  1.4179,  4.4742]],\n",
       "        device='cuda:0')}"
      ]
     },
     "execution_count": 10,
     "metadata": {},
     "output_type": "execute_result"
    }
   ],
   "source": [
    "out"
   ]
  },
  {
   "cell_type": "code",
   "execution_count": 11,
   "metadata": {},
   "outputs": [
    {
     "data": {
      "text/plain": [
       "torch.Size([1024, 128, 16])"
      ]
     },
     "execution_count": 11,
     "metadata": {},
     "output_type": "execute_result"
    }
   ],
   "source": [
    "batch['features_neibors'].shape"
   ]
  },
  {
   "cell_type": "code",
   "execution_count": null,
   "metadata": {},
   "outputs": [],
   "source": [
    "# Epoch-049\n",
    "# Sampling training dataset. Done. Took 22.75.\n",
    "# Training       : 100%|██████████| 885/885 [07:28<00:00,  1.98it/s]\n",
    "#                 oA      mIoU        mP        mR       mF1     mcAcc\n",
    "# labels_0  0.965222  0.685658  0.766195  0.723284  0.732392  0.723284\n",
    "# L_train:0.1072 \n",
    "# Validation     : 100%|██████████| 843/843 [00:21<00:00, 39.72it/s]\n",
    "#                 oA      mIoU        mP        mR       mF1     mcAcc\n",
    "# labels_0  0.924567  0.308189  0.333333  0.308189  0.320268  0.308189\n",
    "# L_val:0.2315"
   ]
  },
  {
   "cell_type": "code",
   "execution_count": 59,
   "metadata": {},
   "outputs": [
    {
     "data": {
      "text/plain": [
       "{'_unspecified': 0, 'asphalt': 1, 'brick': 2, 'cable': 3, 'concrete': 4, 'marking': 5, 'mesh': 6, 'metal': 7, 'naturalStone': 8, 'poster': 9, 'treeTrunk': 10, 'vegetation': 11}"
      ]
     },
     "execution_count": 59,
     "metadata": {},
     "output_type": "execute_result"
    }
   ],
   "source": [
    "cfg.data.label_schema['labels_3']"
   ]
  }
 ],
 "metadata": {
  "kernelspec": {
   "display_name": "base",
   "language": "python",
   "name": "python3"
  },
  "language_info": {
   "codemirror_mode": {
    "name": "ipython",
    "version": 3
   },
   "file_extension": ".py",
   "mimetype": "text/x-python",
   "name": "python",
   "nbconvert_exporter": "python",
   "pygments_lexer": "ipython3",
   "version": "3.12.7"
  }
 },
 "nbformat": 4,
 "nbformat_minor": 2
}
